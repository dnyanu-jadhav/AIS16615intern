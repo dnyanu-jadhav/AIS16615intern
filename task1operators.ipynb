{
 "cells": [
  {
   "cell_type": "markdown",
   "id": "49a05f46-3c9c-4842-99c6-59f188969827",
   "metadata": {},
   "source": [
    "#Operators\n",
    "1)\r\n",
    "Arithmetic operato\n",
    "(+,-,*,/,//,**,%)\n",
    "2)s\r\n",
    "Assignment operat\n",
    "(=,+=,-=,*=,/=,%=,//=,**=,&=,|=,^=,>>=,<<=,:=)o3)rs\r\n",
    "Comparison opera\n",
    "(==,!=,>,<,<=,>=)\n",
    "4)ors\r\n",
    "Logical oper\n",
    "(and,or,not)a5)\n",
    "Identity opratore\n",
    "(is,is not)r6)ators\r\n",
    "Membership op\n",
    "(in,not in)e7)rators\r\n",
    "Bitwise o\n",
    "(&,|,^,~,<<,>>)\n",
    "perators"
   ]
  },
  {
   "cell_type": "code",
   "execution_count": null,
   "id": "64970a1c-7016-4ec7-96bf-410ddec13252",
   "metadata": {},
   "outputs": [],
   "source": [
    "#Arithmetic operater"
   ]
  },
  {
   "cell_type": "code",
   "execution_count": 2,
   "id": "e648642c-fa05-45b6-b9e6-42bb70a44d60",
   "metadata": {},
   "outputs": [],
   "source": [
    "x=4\n",
    "y=3\n"
   ]
  },
  {
   "cell_type": "code",
   "execution_count": 3,
   "id": "4bd42847-3871-4e80-b89e-2cf3de025996",
   "metadata": {},
   "outputs": [
    {
     "data": {
      "text/plain": [
       "7"
      ]
     },
     "execution_count": 3,
     "metadata": {},
     "output_type": "execute_result"
    }
   ],
   "source": [
    "x+y"
   ]
  },
  {
   "cell_type": "code",
   "execution_count": 4,
   "id": "93a52d84-bf06-43e7-8dac-256696b12a3f",
   "metadata": {},
   "outputs": [
    {
     "data": {
      "text/plain": [
       "1"
      ]
     },
     "execution_count": 4,
     "metadata": {},
     "output_type": "execute_result"
    }
   ],
   "source": [
    "x-y"
   ]
  },
  {
   "cell_type": "code",
   "execution_count": 5,
   "id": "eaec0f92-5eb7-4732-8ecf-74909598d824",
   "metadata": {},
   "outputs": [
    {
     "data": {
      "text/plain": [
       "12"
      ]
     },
     "execution_count": 5,
     "metadata": {},
     "output_type": "execute_result"
    }
   ],
   "source": [
    "x*y"
   ]
  },
  {
   "cell_type": "code",
   "execution_count": 6,
   "id": "d0c7f5ac-2788-4940-a4e4-1c38514b4200",
   "metadata": {},
   "outputs": [
    {
     "data": {
      "text/plain": [
       "1.3333333333333333"
      ]
     },
     "execution_count": 6,
     "metadata": {},
     "output_type": "execute_result"
    }
   ],
   "source": [
    "x/y"
   ]
  },
  {
   "cell_type": "code",
   "execution_count": 7,
   "id": "34341871-db5a-4430-b07f-f4c5eedd2648",
   "metadata": {},
   "outputs": [
    {
     "data": {
      "text/plain": [
       "1"
      ]
     },
     "execution_count": 7,
     "metadata": {},
     "output_type": "execute_result"
    }
   ],
   "source": [
    "x%y"
   ]
  },
  {
   "cell_type": "code",
   "execution_count": 8,
   "id": "dc3d2130-fe84-4756-92a0-a97381e7b788",
   "metadata": {},
   "outputs": [
    {
     "data": {
      "text/plain": [
       "64"
      ]
     },
     "execution_count": 8,
     "metadata": {},
     "output_type": "execute_result"
    }
   ],
   "source": [
    "x**y"
   ]
  },
  {
   "cell_type": "code",
   "execution_count": 9,
   "id": "3dd9dc48-279e-4167-aa9c-78c758d0d067",
   "metadata": {},
   "outputs": [
    {
     "data": {
      "text/plain": [
       "1"
      ]
     },
     "execution_count": 9,
     "metadata": {},
     "output_type": "execute_result"
    }
   ],
   "source": [
    "x//y"
   ]
  },
  {
   "cell_type": "code",
   "execution_count": null,
   "id": "379ec3f2-0f35-49c3-a050-05e0938fb1ee",
   "metadata": {},
   "outputs": [],
   "source": [
    "#Assignment operators\n",
    "(=,+=,-=,*=,/=,%=,//=,**=,&=,|=,^=,>>=,<<=,:=)"
   ]
  },
  {
   "cell_type": "code",
   "execution_count": 44,
   "id": "97db01a1-9de4-43b9-a30e-cd53509aa99b",
   "metadata": {},
   "outputs": [
    {
     "data": {
      "text/plain": [
       "5"
      ]
     },
     "execution_count": 44,
     "metadata": {},
     "output_type": "execute_result"
    }
   ],
   "source": [
    "x=5\n",
    "x"
   ]
  },
  {
   "cell_type": "code",
   "execution_count": 45,
   "id": "1d74ac84-e854-4760-a9ee-985e35ad1d39",
   "metadata": {},
   "outputs": [
    {
     "data": {
      "text/plain": [
       "8"
      ]
     },
     "execution_count": 45,
     "metadata": {},
     "output_type": "execute_result"
    }
   ],
   "source": [
    "x+=3\n",
    "x\n"
   ]
  },
  {
   "cell_type": "code",
   "execution_count": 46,
   "id": "a9bb03ea-64d3-480c-bd7c-81210a41f364",
   "metadata": {},
   "outputs": [
    {
     "data": {
      "text/plain": [
       "5"
      ]
     },
     "execution_count": 46,
     "metadata": {},
     "output_type": "execute_result"
    }
   ],
   "source": [
    "x-=3\n",
    "x"
   ]
  },
  {
   "cell_type": "code",
   "execution_count": 47,
   "id": "fc3bbca4-87d5-43e4-af21-e4c12e40ee92",
   "metadata": {},
   "outputs": [
    {
     "data": {
      "text/plain": [
       "15"
      ]
     },
     "execution_count": 47,
     "metadata": {},
     "output_type": "execute_result"
    }
   ],
   "source": [
    "x*=3\n",
    "x"
   ]
  },
  {
   "cell_type": "code",
   "execution_count": 48,
   "id": "0a024938-38da-4073-820e-4956d75c8d73",
   "metadata": {},
   "outputs": [
    {
     "data": {
      "text/plain": [
       "5.0"
      ]
     },
     "execution_count": 48,
     "metadata": {},
     "output_type": "execute_result"
    }
   ],
   "source": [
    "x/=3\n",
    "x"
   ]
  },
  {
   "cell_type": "code",
   "execution_count": 49,
   "id": "ad992934-831b-495c-ac1b-c9859fc8c5ef",
   "metadata": {},
   "outputs": [
    {
     "data": {
      "text/plain": [
       "2.0"
      ]
     },
     "execution_count": 49,
     "metadata": {},
     "output_type": "execute_result"
    }
   ],
   "source": [
    "x%=3\n",
    "x"
   ]
  },
  {
   "cell_type": "code",
   "execution_count": 50,
   "id": "0303a774-eada-48f0-bb4b-b0156d08681d",
   "metadata": {},
   "outputs": [
    {
     "data": {
      "text/plain": [
       "0.0"
      ]
     },
     "execution_count": 50,
     "metadata": {},
     "output_type": "execute_result"
    }
   ],
   "source": [
    "x//=3\n",
    "x\n"
   ]
  },
  {
   "cell_type": "code",
   "execution_count": 51,
   "id": "c5586bdf-04a1-4948-b39a-c9e8a6ec7f2a",
   "metadata": {},
   "outputs": [
    {
     "data": {
      "text/plain": [
       "0.0"
      ]
     },
     "execution_count": 51,
     "metadata": {},
     "output_type": "execute_result"
    }
   ],
   "source": [
    "x**=3\n",
    "x"
   ]
  },
  {
   "cell_type": "code",
   "execution_count": 65,
   "id": "85faddec-42df-46d3-b04d-5d1dbaa67917",
   "metadata": {},
   "outputs": [],
   "source": [
    "x=5"
   ]
  },
  {
   "cell_type": "code",
   "execution_count": 66,
   "id": "8245d8d4-1015-4165-9fda-6416f861dcb5",
   "metadata": {},
   "outputs": [
    {
     "data": {
      "text/plain": [
       "1"
      ]
     },
     "execution_count": 66,
     "metadata": {},
     "output_type": "execute_result"
    }
   ],
   "source": [
    "x&=3\n",
    "x"
   ]
  },
  {
   "cell_type": "code",
   "execution_count": 67,
   "id": "20a3ba09-90c5-43a6-b7a8-54fafe76e417",
   "metadata": {},
   "outputs": [
    {
     "data": {
      "text/plain": [
       "3"
      ]
     },
     "execution_count": 67,
     "metadata": {},
     "output_type": "execute_result"
    }
   ],
   "source": [
    "x|=3\n",
    "x"
   ]
  },
  {
   "cell_type": "code",
   "execution_count": 68,
   "id": "6c74c229-0a89-4d62-9ef9-e1e73cc74399",
   "metadata": {},
   "outputs": [
    {
     "data": {
      "text/plain": [
       "0"
      ]
     },
     "execution_count": 68,
     "metadata": {},
     "output_type": "execute_result"
    }
   ],
   "source": [
    "x^=3\n",
    "x"
   ]
  },
  {
   "cell_type": "code",
   "execution_count": 69,
   "id": "2c6fbbeb-839e-4f99-85ac-49c9aa12e285",
   "metadata": {},
   "outputs": [
    {
     "data": {
      "text/plain": [
       "0"
      ]
     },
     "execution_count": 69,
     "metadata": {},
     "output_type": "execute_result"
    }
   ],
   "source": [
    "x>>=3\n",
    "x"
   ]
  },
  {
   "cell_type": "code",
   "execution_count": 71,
   "id": "4e25cbc6-0027-40f5-a88f-79424cdca7df",
   "metadata": {},
   "outputs": [
    {
     "data": {
      "text/plain": [
       "0"
      ]
     },
     "execution_count": 71,
     "metadata": {},
     "output_type": "execute_result"
    }
   ],
   "source": [
    "x<<=3\n",
    "x"
   ]
  },
  {
   "cell_type": "markdown",
   "id": "16835483-afc0-45af-8a0c-b5e6eceae800",
   "metadata": {},
   "source": [
    "#Comparison operators\n",
    "(==,!=,>,<,<=,>=)"
   ]
  },
  {
   "cell_type": "code",
   "execution_count": 27,
   "id": "80580258-b4e6-4e33-a7e7-9c6551d2af58",
   "metadata": {},
   "outputs": [
    {
     "data": {
      "text/plain": [
       "False"
      ]
     },
     "execution_count": 27,
     "metadata": {},
     "output_type": "execute_result"
    }
   ],
   "source": [
    "x==y\n"
   ]
  },
  {
   "cell_type": "code",
   "execution_count": 28,
   "id": "9e774309-6ac3-4449-889e-6c6bb78277a4",
   "metadata": {},
   "outputs": [
    {
     "data": {
      "text/plain": [
       "True"
      ]
     },
     "execution_count": 28,
     "metadata": {},
     "output_type": "execute_result"
    }
   ],
   "source": [
    "x!=y"
   ]
  },
  {
   "cell_type": "code",
   "execution_count": 29,
   "id": "0f51c947-94c9-4fe5-b11a-f094d02454d0",
   "metadata": {},
   "outputs": [
    {
     "data": {
      "text/plain": [
       "False"
      ]
     },
     "execution_count": 29,
     "metadata": {},
     "output_type": "execute_result"
    }
   ],
   "source": [
    "x>y"
   ]
  },
  {
   "cell_type": "code",
   "execution_count": 30,
   "id": "5e9f1ca4-8da0-4f7e-a4e1-3a3d8ad39574",
   "metadata": {},
   "outputs": [
    {
     "data": {
      "text/plain": [
       "True"
      ]
     },
     "execution_count": 30,
     "metadata": {},
     "output_type": "execute_result"
    }
   ],
   "source": [
    "x<y"
   ]
  },
  {
   "cell_type": "code",
   "execution_count": 31,
   "id": "2b70c047-20d3-42a1-85b1-90d622c0acf3",
   "metadata": {},
   "outputs": [
    {
     "data": {
      "text/plain": [
       "False"
      ]
     },
     "execution_count": 31,
     "metadata": {},
     "output_type": "execute_result"
    }
   ],
   "source": [
    "x>=y"
   ]
  },
  {
   "cell_type": "code",
   "execution_count": 32,
   "id": "3226e5c1-5c0c-4491-bdc9-78a4e5fccd3c",
   "metadata": {},
   "outputs": [
    {
     "data": {
      "text/plain": [
       "True"
      ]
     },
     "execution_count": 32,
     "metadata": {},
     "output_type": "execute_result"
    }
   ],
   "source": [
    "x<=y"
   ]
  },
  {
   "cell_type": "code",
   "execution_count": null,
   "id": "4fe7e777-54c1-4fc7-a4a9-be1de139feda",
   "metadata": {},
   "outputs": [],
   "source": [
    "#Logical operators\n",
    "(and,or,not)"
   ]
  },
  {
   "cell_type": "code",
   "execution_count": 33,
   "id": "6c48a2c3-b102-49fd-bbd5-53a577e228cc",
   "metadata": {},
   "outputs": [
    {
     "data": {
      "text/plain": [
       "True"
      ]
     },
     "execution_count": 33,
     "metadata": {},
     "output_type": "execute_result"
    }
   ],
   "source": [
    "x<5 and x<10\n"
   ]
  },
  {
   "cell_type": "code",
   "execution_count": 34,
   "id": "7d426a41-c9e8-42a7-b604-424614c57beb",
   "metadata": {},
   "outputs": [
    {
     "data": {
      "text/plain": [
       "True"
      ]
     },
     "execution_count": 34,
     "metadata": {},
     "output_type": "execute_result"
    }
   ],
   "source": [
    "x<5 or x<4"
   ]
  },
  {
   "cell_type": "code",
   "execution_count": 43,
   "id": "6da73cc0-997b-4026-9a7a-9ba6b59f480b",
   "metadata": {},
   "outputs": [
    {
     "data": {
      "text/plain": [
       "True"
      ]
     },
     "execution_count": 43,
     "metadata": {},
     "output_type": "execute_result"
    }
   ],
   "source": [
    "not(x<5 and x<10)"
   ]
  },
  {
   "cell_type": "code",
   "execution_count": null,
   "id": "ea3a4dde-3274-435b-bdf3-3938c720e20e",
   "metadata": {},
   "outputs": [],
   "source": [
    "#Identity operator\n",
    "(is,is not)"
   ]
  },
  {
   "cell_type": "code",
   "execution_count": 52,
   "id": "a960c052-6477-4985-b6d2-2ce55b24005a",
   "metadata": {},
   "outputs": [
    {
     "data": {
      "text/plain": [
       "False"
      ]
     },
     "execution_count": 52,
     "metadata": {},
     "output_type": "execute_result"
    }
   ],
   "source": [
    "x is y"
   ]
  },
  {
   "cell_type": "code",
   "execution_count": 53,
   "id": "c2d3a7ed-7cdf-4936-90c4-cbdac200aee4",
   "metadata": {},
   "outputs": [
    {
     "data": {
      "text/plain": [
       "True"
      ]
     },
     "execution_count": 53,
     "metadata": {},
     "output_type": "execute_result"
    }
   ],
   "source": [
    "x is not y"
   ]
  },
  {
   "cell_type": "code",
   "execution_count": null,
   "id": "0fde50a4-3af9-4202-9150-09e7fbacba5e",
   "metadata": {},
   "outputs": [],
   "source": [
    "#Membership operators\n",
    "(in,not in)"
   ]
  },
  {
   "cell_type": "code",
   "execution_count": 72,
   "id": "d16fdeba-2792-44fb-a3b0-68cd84ccd433",
   "metadata": {},
   "outputs": [],
   "source": [
    "x=(1,2,3,4,5)\n"
   ]
  },
  {
   "cell_type": "code",
   "execution_count": 73,
   "id": "60d510a4-155e-4d6a-a67b-e4e493a006d5",
   "metadata": {},
   "outputs": [
    {
     "data": {
      "text/plain": [
       "True"
      ]
     },
     "execution_count": 73,
     "metadata": {},
     "output_type": "execute_result"
    }
   ],
   "source": [
    "3 in x"
   ]
  },
  {
   "cell_type": "code",
   "execution_count": 74,
   "id": "6b449f5b-d59d-480a-af51-6bb48e2ccc2f",
   "metadata": {},
   "outputs": [
    {
     "data": {
      "text/plain": [
       "True"
      ]
     },
     "execution_count": 74,
     "metadata": {},
     "output_type": "execute_result"
    }
   ],
   "source": [
    "7 not in x"
   ]
  },
  {
   "cell_type": "code",
   "execution_count": null,
   "id": "5e7fa8a6-2878-4f7b-b325-3287f1f24425",
   "metadata": {},
   "outputs": [],
   "source": [
    "#Bitwise operators\n",
    "(&,|,^,~,<<,>>)"
   ]
  },
  {
   "cell_type": "code",
   "execution_count": 58,
   "id": "96b3f3ba-edcd-4961-be64-88ee48a0afe5",
   "metadata": {},
   "outputs": [],
   "source": [
    "x=5\n",
    "y=4"
   ]
  },
  {
   "cell_type": "code",
   "execution_count": 59,
   "id": "28bc1853-9bee-440d-8f7e-489b5b20c2d1",
   "metadata": {},
   "outputs": [
    {
     "data": {
      "text/plain": [
       "4"
      ]
     },
     "execution_count": 59,
     "metadata": {},
     "output_type": "execute_result"
    }
   ],
   "source": [
    "x&y"
   ]
  },
  {
   "cell_type": "code",
   "execution_count": 60,
   "id": "b3adb2f7-3d85-46da-a4b7-fd9580a206f7",
   "metadata": {},
   "outputs": [
    {
     "data": {
      "text/plain": [
       "5"
      ]
     },
     "execution_count": 60,
     "metadata": {},
     "output_type": "execute_result"
    }
   ],
   "source": [
    "x|y"
   ]
  },
  {
   "cell_type": "code",
   "execution_count": 61,
   "id": "c9d63ce1-1c75-48ef-b456-2b71e303cd0b",
   "metadata": {},
   "outputs": [
    {
     "data": {
      "text/plain": [
       "1"
      ]
     },
     "execution_count": 61,
     "metadata": {},
     "output_type": "execute_result"
    }
   ],
   "source": [
    "x^y"
   ]
  },
  {
   "cell_type": "code",
   "execution_count": 62,
   "id": "80eb203c-ec4e-41cf-824a-a0fa9330ead5",
   "metadata": {},
   "outputs": [
    {
     "data": {
      "text/plain": [
       "-6"
      ]
     },
     "execution_count": 62,
     "metadata": {},
     "output_type": "execute_result"
    }
   ],
   "source": [
    "~x"
   ]
  },
  {
   "cell_type": "code",
   "execution_count": 63,
   "id": "f19c1df3-7caf-4e03-8a4e-a9665f2b9442",
   "metadata": {},
   "outputs": [
    {
     "data": {
      "text/plain": [
       "20"
      ]
     },
     "execution_count": 63,
     "metadata": {},
     "output_type": "execute_result"
    }
   ],
   "source": [
    "x<<2"
   ]
  },
  {
   "cell_type": "code",
   "execution_count": 64,
   "id": "37aa3bf7-e667-4efc-9f2f-af6842ff0f8b",
   "metadata": {},
   "outputs": [
    {
     "data": {
      "text/plain": [
       "1"
      ]
     },
     "execution_count": 64,
     "metadata": {},
     "output_type": "execute_result"
    }
   ],
   "source": [
    "x>>2"
   ]
  },
  {
   "cell_type": "code",
   "execution_count": null,
   "id": "54a5b340-1f28-4736-9c12-7f4adacf3b2c",
   "metadata": {},
   "outputs": [],
   "source": []
  }
 ],
 "metadata": {
  "kernelspec": {
   "display_name": "Python 3 (ipykernel)",
   "language": "python",
   "name": "python3"
  },
  "language_info": {
   "codemirror_mode": {
    "name": "ipython",
    "version": 3
   },
   "file_extension": ".py",
   "mimetype": "text/x-python",
   "name": "python",
   "nbconvert_exporter": "python",
   "pygments_lexer": "ipython3",
   "version": "3.11.7"
  }
 },
 "nbformat": 4,
 "nbformat_minor": 5
}
