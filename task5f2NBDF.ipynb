{
 "cells": [
  {
   "cell_type": "markdown",
   "id": "ae5aef2c-fee3-47c8-bc59-4cef7b55e6cd",
   "metadata": {},
   "source": [
    "#Data frame\n",
    "A Pandas DataFrame is a 2 dimensional data structure, like a 2 dimensional array, or a table with rows and columns.\n",
    "\n",
    "Use the named index in the loc attribute to return the specified row(s)..(s)"
   ]
  },
  {
   "cell_type": "code",
   "execution_count": 2,
   "id": "ec817ecc-34a5-44dc-9856-a1c41283e154",
   "metadata": {},
   "outputs": [
    {
     "name": "stdout",
     "output_type": "stream",
     "text": [
      "   calories  duration\n",
      "0       420        50\n",
      "1       380        40\n",
      "2       390        45\n"
     ]
    }
   ],
   "source": [
    "import pandas as pd\n",
    "data = {\n",
    "  \"calories\": [420, 380, 390],\n",
    "  \"duration\": [50, 40, 45]\n",
    "}\n",
    "#load data into a DataFrame object:\n",
    "df = pd.DataFrame(data)\n",
    "print(df) "
   ]
  },
  {
   "cell_type": "code",
   "execution_count": 3,
   "id": "211e084d-67d8-4021-a983-4f57bdbff6f4",
   "metadata": {},
   "outputs": [
    {
     "name": "stdout",
     "output_type": "stream",
     "text": [
      "calories    420\n",
      "duration     50\n",
      "Name: 0, dtype: int64\n"
     ]
    }
   ],
   "source": [
    "#Locate Row\n",
    "As you can see from the result above, the DataFrame is like a table with rows and columns.\n",
    "Pandas use the loc attribute to return one or more specified row(s)\n",
    "Example\n",
    "Return row 0:\n",
    "#refer to the row index:\n",
    "print(df.loc[0])"
   ]
  },
  {
   "cell_type": "code",
   "execution_count": 4,
   "id": "d5131813-5239-4ab3-97c5-826ef9cbabcb",
   "metadata": {},
   "outputs": [
    {
     "name": "stdout",
     "output_type": "stream",
     "text": [
      "   calories  duration\n",
      "0       420        50\n",
      "1       380        40\n"
     ]
    }
   ],
   "source": [
    "Example\n",
    "Return row 0 and 1:\n",
    "#use a list of indexes:\n",
    "print(df.loc[[0, 1]])"
   ]
  },
  {
   "cell_type": "code",
   "execution_count": 5,
   "id": "e99e89a2-123e-440c-943f-96a759a26427",
   "metadata": {},
   "outputs": [
    {
     "name": "stdout",
     "output_type": "stream",
     "text": [
      "      calories  duration\n",
      "day1       420        50\n",
      "day2       380        40\n",
      "day3       390        45\n"
     ]
    }
   ],
   "source": [
    "#Named Indexes:\n",
    "With the index argument, you can name your own indexes.\n",
    "Example\n",
    "Add a list of names to give each row a name:\n",
    "import pandas as pd\n",
    "data = {\n",
    "  \"calories\": [420, 380, 390],\n",
    "  \"duration\": [50, 40, 45]\n",
    "}\n",
    "df = pd.DataFrame(data, index = [\"day1\", \"day2\", \"day3\"])\n",
    "print(df) "
   ]
  },
  {
   "cell_type": "code",
   "execution_count": 6,
   "id": "4d3ec30a-03c1-4b4a-82bf-af756262b490",
   "metadata": {},
   "outputs": [
    {
     "name": "stdout",
     "output_type": "stream",
     "text": [
      "calories    380\n",
      "duration     40\n",
      "Name: day2, dtype: int64\n"
     ]
    }
   ],
   "source": [
    "#Locate Named Indexes\n",
    "Use the named index in the loc attribute to return the specified row(s).\n",
    "Example\n",
    "Return \"day2\":\n",
    "#refer to the named index:\n",
    "print(df.loc[\"day2\"])"
   ]
  },
  {
   "cell_type": "markdown",
   "id": "d120f060-8294-4eac-ade4-dff87e13fc19",
   "metadata": {},
   "source": [
    "#Pandas Read CSV:\n",
    "A simple way to store big data sets is to use CSV files (comma separated files).\r",
    "\r\n",
    "CSV files contains plain text and is a well know format that can be read by everyone including Pandas\r\n",
    "\r\n",
    "In our examples we will be using a CSV file called 'data.c\n",
    "Tip: use to_string() to print the entire DataFrame.\r",
    "\r\n",
    "If you have a large DataFrame with many rows, Pandas will only return the first 5 rows, and the last 5 ro\n",
    "#ExampleGet\r",
    "#\n",
    "Load the CSV into a DataFrame:\n",
    "\r\n",
    "import pandas as d\r\n",
    "\r\n",
    "df = pd.read_csv('data.cv')\r\n",
    "\r\n",
    "print(df.to_str\n",
    "#Tip: use to_string() to print the entire DataFrame.\r",
    "\r\n",
    "If you have a large DataFrame with many rows, Pandas will only return the first 5 rows, and the last 5 row\n",
    "#Example\r\n",
    "Print the DataFrame without the to_string() method:\n",
    "\r\n",
    "import pandas as d\r\n",
    "\r\n",
    "df = pd.read_csv('data.cv')\r\n",
    "\r\n",
    "pri\n",
    "#max_rows:\r\n",
    "The number of rows returned is defined in Pandas option settings.\n",
    "\r\n",
    "You can check your system's maximum rows with the pd.options.display.max_rows statemen.\r\n",
    "\r\n",
    "Example\r\n",
    "Check the number of maximum returned ows:\r\n",
    "\r\n",
    "import panda as pd\r\n",
    "\r\n",
    "print(pd.options.display.\n",
    "#In my system the number is 60, which means that if the DataFrame contains more than 60 rows, the print(df) statement will return only the headers and the first and last 5 rows.\r",
    "\r\n",
    "You can change the maximum rows number with the same statement\r\n",
    "\r\n",
    "Example\r\n",
    "Increase the maximum number of rows to display the entire DataFrme:\r\n",
    "\r\n",
    "import pandasas pd\r\n",
    "\r\n",
    "pd.options.display.max_row = 9999\r\n",
    "\r\n",
    "df = pd.read_csv('ata.csv')\n",
    "\r\n",
    "print(df) max_rows) nt(df) s:ing()) wssv'."
   ]
  },
  {
   "cell_type": "code",
   "execution_count": 5,
   "id": "45181c15-1b56-4eb4-b34e-9d1b1ddb6695",
   "metadata": {},
   "outputs": [
    {
     "name": "stderr",
     "output_type": "stream",
     "text": [
      "ERROR: Could not find a version that satisfies the requirement openpyx1 (from versions: none)\n",
      "ERROR: No matching distribution found for openpyx1\n"
     ]
    },
    {
     "name": "stdout",
     "output_type": "stream",
     "text": [
      "                 Type  Economy  Service  Value  Price  Design  Sporty Car  \\\n",
      "0                Audi      3.9      2.8    2.2    4.2     3.0         3.1   \n",
      "1                 BMW      4.8      1.6    1.9    5.0     2.0         2.5   \n",
      "2             Citroen      3.0      3.8    3.8    2.7     4.0         4.4   \n",
      "3             Ferrari      5.3      2.9    2.2    5.9     1.7         1.1   \n",
      "4            Fiat Uno      2.1      3.9    4.0    2.6     4.5         4.4   \n",
      "5         Ford_Fiesta      2.3      3.1    3.4    2.6     3.2         3.3   \n",
      "6             Hyundai      2.5      3.4    3.2    2.2     3.3         3.3   \n",
      "7              Jaguar      4.6      2.4    1.6    5.5     1.3         1.6   \n",
      "8                Lada      3.2      3.9    4.3    2.0     4.3         4.5   \n",
      "9               Mazda      2.6      3.3    3.7    2.8     3.7         3.0   \n",
      "10           Mercedes      4.1      1.7    1.8    4.6     2.4         3.2   \n",
      "11  Mitsubishi_Galant      3.2      2.9    3.2    3.5     3.1         3.1   \n",
      "12       Nissan_Sunny      2.6      3.3    3.9    2.1     3.5         3.9   \n",
      "13         Opel_Corsa      2.2      2.4    3.0    2.6     3.2         4.0   \n",
      "14        Opel_Vectra      3.1      2.6    2.3    3.6     2.8         2.9   \n",
      "15            Peugeot      2.9      3.5    3.6    2.8     3.2         3.8   \n",
      "16            Renault      2.7      3.3    3.4    3.0     3.1         3.4   \n",
      "17              Rover      3.9      2.8    2.6    4.0     2.6         3.0   \n",
      "18     Toyota_Corolla      2.5      2.9    3.4    3.0     3.2         3.1   \n",
      "19              Volvo      3.8      2.3    1.9    4.2     3.1         3.6   \n",
      "20            Trabant      3.6      4.7    5.5    1.5     4.1         5.8   \n",
      "21            VW_Golf      2.4      2.1    2.0    2.6     3.2         3.1   \n",
      "22          VW_Passat      3.1      2.2    2.1    3.2     3.5         3.5   \n",
      "23           Wartburg      3.7      4.7    5.5    1.7     4.8         5.2   \n",
      "\n",
      "    Safety  Easy_Handling  \n",
      "0      2.4            2.8  \n",
      "1      1.6            2.8  \n",
      "2      4.0            2.6  \n",
      "3      3.3            4.3  \n",
      "4      4.4            2.2  \n",
      "5      3.6            2.8  \n",
      "6      3.3            2.4  \n",
      "7      2.8            3.6  \n",
      "8      4.7            2.9  \n",
      "9      3.7            3.1  \n",
      "10     1.4            2.4  \n",
      "11     2.9            2.6  \n",
      "12     3.8            2.4  \n",
      "13     2.9            2.4  \n",
      "14     2.4            2.4  \n",
      "15     3.2            2.6  \n",
      "16     3.0            2.7  \n",
      "17     3.2            3.0  \n",
      "18     3.2            2.8  \n",
      "19     1.6            2.4  \n",
      "20     5.9            3.1  \n",
      "21     3.1            1.6  \n",
      "22     2.8            1.8  \n",
      "23     5.5            4.0  \n"
     ]
    }
   ],
   "source": [
    "!pip install openpyx1\n",
    "import pandas as pd\n",
    "df=pd.read_excel(\"C:/Users/Shree/OneDrive/Desktop/data.xlsx\")\n",
    "print(df)"
   ]
  },
  {
   "cell_type": "code",
   "execution_count": null,
   "id": "e3c8ea62-79d1-4cc5-9239-687b02965d74",
   "metadata": {},
   "outputs": [],
   "source": []
  }
 ],
 "metadata": {
  "kernelspec": {
   "display_name": "Python 3 (ipykernel)",
   "language": "python",
   "name": "python3"
  },
  "language_info": {
   "codemirror_mode": {
    "name": "ipython",
    "version": 3
   },
   "file_extension": ".py",
   "mimetype": "text/x-python",
   "name": "python",
   "nbconvert_exporter": "python",
   "pygments_lexer": "ipython3",
   "version": "3.11.7"
  }
 },
 "nbformat": 4,
 "nbformat_minor": 5
}
