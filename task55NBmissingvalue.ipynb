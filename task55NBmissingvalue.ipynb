{
 "cells": [
  {
   "cell_type": "markdown",
   "id": "71d0cf0f-82ab-4f7d-b998-3f216466bd51",
   "metadata": {},
   "source": [
    "#Missing Value\n",
    "To handle missing values in Python using the Pandas library, you can use the NaN (Not a Number) representation from the NumPy library, which Pandas builds upon. Here's how you can handle missing values:\n",
    "Identify missing values: You can use methods like isnull() or notnull() to identify missing values in your DataFrame.\n",
    "Handle missing values: Once identified, you have several options to handle missing values:\n",
    "Drop missing values using dropna().\n",
    "Fill missing values using fillna().\n",
    "Interpolate missing values using interpolate()."
   ]
  },
  {
   "cell_type": "code",
   "execution_count": 1,
   "id": "b5f71992-0eb0-4053-862b-710f2367037f",
   "metadata": {},
   "outputs": [
    {
     "name": "stdout",
     "output_type": "stream",
     "text": [
      "       A      B      C\n",
      "0  False  False   True\n",
      "1  False   True  False\n",
      "2   True   True  False\n",
      "3  False  False  False\n",
      "     A    B     C\n",
      "3  4.0  8.0  12.0\n",
      "     A    B     C\n",
      "0  1.0  5.0   0.0\n",
      "1  2.0  0.0  10.0\n",
      "2  0.0  0.0  11.0\n",
      "3  4.0  8.0  12.0\n",
      "     A    B     C\n",
      "0  1.0  5.0   NaN\n",
      "1  2.0  6.0  10.0\n",
      "2  3.0  7.0  11.0\n",
      "3  4.0  8.0  12.0\n"
     ]
    }
   ],
   "source": [
    "import pandas as pd\n",
    "import numpy as np\n",
    "\n",
    "# Create a DataFrame with missing values\n",
    "data = {'A': [1, 2, np.nan, 4],\n",
    "        'B': [5, np.nan, np.nan, 8],\n",
    "        'C': [np.nan, 10, 11, 12]}\n",
    "df = pd.DataFrame(data)\n",
    "\n",
    "# Identify missing values\n",
    "print(df.isnull())\n",
    "\n",
    "# Drop rows with any missing value\n",
    "df_dropped = df.dropna()\n",
    "print(df_dropped)\n",
    "\n",
    "# Fill missing values with a specific value\n",
    "df_filled = df.fillna(0)  # You can replace 0 with any value you want\n",
    "print(df_filled)\n",
    "\n",
    "# Interpolate missing values\n",
    "df_interpolated = df.interpolate()\n",
    "print(df_interpolated)"
   ]
  },
  {
   "cell_type": "markdown",
   "id": "bb968740-f360-4ecb-a141-99e52ba747e2",
   "metadata": {},
   "source": [
    "#Missing values checking"
   ]
  },
  {
   "cell_type": "code",
   "execution_count": 2,
   "id": "0bbe6f1e-875b-427f-bec2-3d7809a71882",
   "metadata": {},
   "outputs": [
    {
     "name": "stdout",
     "output_type": "stream",
     "text": [
      "DataFrame with missing values:\n",
      "     A    B     C\n",
      "0  1.0  5.0   NaN\n",
      "1  2.0  NaN  10.0\n",
      "2  NaN  NaN  11.0\n",
      "3  4.0  8.0  12.0\n",
      "\n",
      "Missing value check:\n",
      "       A      B      C\n",
      "0  False  False   True\n",
      "1  False   True  False\n",
      "2   True   True  False\n",
      "3  False  False  False\n"
     ]
    }
   ],
   "source": [
    "import pandas as pd\n",
    "\n",
    "# Create a DataFrame with missing values\n",
    "data = {'A': [1, 2, None, 4],\n",
    "        'B': [5, None, None, 8],\n",
    "        'C': [None, 10, 11, 12]}\n",
    "df = pd.DataFrame(data)\n",
    "\n",
    "# Check for missing values\n",
    "missing_values = df.isnull()\n",
    "\n",
    "print(\"DataFrame with missing values:\")\n",
    "print(df)\n",
    "print(\"\\nMissing value check:\")\n",
    "print(missing_values)"
   ]
  },
  {
   "cell_type": "markdown",
   "id": "22b38364-2449-45b0-aaf5-edbf8da0f8ad",
   "metadata": {},
   "source": [
    "Each True value indicates a missing value in the corresponding cell of the original DataFrame. You can then use this information to further \n",
    "process your data, such as dropping rows or columns containing missing values, or filling them with specific values using methods like dropna() \n",
    "or fillna()."
   ]
  },
  {
   "cell_type": "markdown",
   "id": "e2c13082-af24-444c-9034-e7dc3758895e",
   "metadata": {},
   "source": [
    "#Missing value drop by row and by column"
   ]
  },
  {
   "cell_type": "code",
   "execution_count": 3,
   "id": "84eb209b-153b-45ed-8e42-7cd934006025",
   "metadata": {},
   "outputs": [
    {
     "name": "stdout",
     "output_type": "stream",
     "text": [
      "DataFrame after dropping rows with missing values:\n",
      "     A    B     C\n",
      "3  4.0  8.0  12.0\n",
      "\n",
      "DataFrame after dropping columns with missing values:\n",
      "Empty DataFrame\n",
      "Columns: []\n",
      "Index: [0, 1, 2, 3]\n"
     ]
    }
   ],
   "source": [
    "import pandas as pd\n",
    "\n",
    "# Create a DataFrame with missing values\n",
    "data = {'A': [1, 2, None, 4],\n",
    "        'B': [5, None, None, 8],\n",
    "        'C': [None, 10, 11, 12]}\n",
    "df = pd.DataFrame(data)\n",
    "\n",
    "# Drop rows with missing values\n",
    "df_dropna_row = df.dropna(axis=0)  # axis=0 means drop rows\n",
    "print(\"DataFrame after dropping rows with missing values:\")\n",
    "print(df_dropna_row)\n",
    "\n",
    "# Drop columns with missing values\n",
    "df_dropna_col = df.dropna(axis=1)  # axis=1 means drop columns\n",
    "print(\"\\nDataFrame after dropping columns with missing values:\")\n",
    "print(df_dropna_col)"
   ]
  },
  {
   "cell_type": "markdown",
   "id": "55e31d1a-8f34-4c26-803c-29c3fb3af125",
   "metadata": {},
   "source": [
    "As you can see, in the first DataFrame (df_dropna_row), the row containing missing values has been dropped, while in the \n",
    "second DataFrame (df_dropna_col), all columns have been dropped since they all contain missing values.\n",
    "You can adjust the axis parameter to specify whether to drop rows (axis=0) or columns (axis=1)."
   ]
  },
  {
   "cell_type": "markdown",
   "id": "c3dea255-2a47-4db0-828d-d1a2c4b214b2",
   "metadata": {},
   "source": [
    "#Missing value fill(mean,median)"
   ]
  },
  {
   "cell_type": "code",
   "execution_count": 4,
   "id": "ebc7a86d-3859-4eff-8ad7-f70a67174af2",
   "metadata": {},
   "outputs": [
    {
     "name": "stdout",
     "output_type": "stream",
     "text": [
      "DataFrame after filling missing values with mean:\n",
      "          A    B     C\n",
      "0  1.000000  5.0  11.0\n",
      "1  2.000000  6.5  10.0\n",
      "2  2.333333  6.5  11.0\n",
      "3  4.000000  8.0  12.0\n",
      "\n",
      "DataFrame after filling missing values with median:\n",
      "     A    B     C\n",
      "0  1.0  5.0  11.0\n",
      "1  2.0  6.5  10.0\n",
      "2  2.0  6.5  11.0\n",
      "3  4.0  8.0  12.0\n"
     ]
    }
   ],
   "source": [
    "import pandas as pd\n",
    "\n",
    "# Create a DataFrame with missing values\n",
    "data = {'A': [1, 2, None, 4],\n",
    "        'B': [5, None, None, 8],\n",
    "        'C': [None, 10, 11, 12]}\n",
    "df = pd.DataFrame(data)\n",
    "\n",
    "# Fill missing values with mean\n",
    "mean_filled_df = df.fillna(df.mean())\n",
    "print(\"DataFrame after filling missing values with mean:\")\n",
    "print(mean_filled_df)\n",
    "\n",
    "# Fill missing values with median\n",
    "median_filled_df = df.fillna(df.median())\n",
    "print(\"\\nDataFrame after filling missing values with median:\")\n",
    "print(median_filled_df)"
   ]
  }
 ],
 "metadata": {
  "kernelspec": {
   "display_name": "Python 3 (ipykernel)",
   "language": "python",
   "name": "python3"
  },
  "language_info": {
   "codemirror_mode": {
    "name": "ipython",
    "version": 3
   },
   "file_extension": ".py",
   "mimetype": "text/x-python",
   "name": "python",
   "nbconvert_exporter": "python",
   "pygments_lexer": "ipython3",
   "version": "3.11.7"
  }
 },
 "nbformat": 4,
 "nbformat_minor": 5
}
