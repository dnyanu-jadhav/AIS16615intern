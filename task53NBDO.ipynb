{
 "cells": [
  {
   "cell_type": "markdown",
   "id": "e1cc6a28-dda4-4092-a2de-0aecd7344d63",
   "metadata": {},
   "source": [
    "#DataFrame operation:"
   ]
  },
  {
   "cell_type": "code",
   "execution_count": 1,
   "id": "51183c1f-8ed7-473e-b6f6-0c6772dd3d2b",
   "metadata": {},
   "outputs": [
    {
     "name": "stdout",
     "output_type": "stream",
     "text": [
      "Name\n",
      "Alice      2\n",
      "Bob        2\n",
      "Charlie    2\n",
      "Name: count, dtype: int64\n"
     ]
    }
   ],
   "source": [
    "#1. value_counts()\n",
    "This function returns a Series containing counts of unique values in a column.\n",
    "import pandas as pd\n",
    "\n",
    "# Sample DataFrame\n",
    "data = {\n",
    "    'Name': ['Alice', 'Bob', 'Charlie', 'Alice', 'Bob', 'Charlie'],\n",
    "    'Age': [25, 30, 35, 25, 30, 35],\n",
    "    'City': ['New York', 'San Francisco', 'Los Angeles', 'New York', 'San Francisco', 'Los Angeles']\n",
    "}\n",
    "df = pd.DataFrame(data)\n",
    "\n",
    "# Count unique values in the 'Name' column\n",
    "name_counts = df['Name'].value_counts()\n",
    "\n",
    "print(name_counts)"
   ]
  },
  {
   "cell_type": "code",
   "execution_count": 2,
   "id": "552c01a1-0630-423c-95da-8f4bd192c77b",
   "metadata": {},
   "outputs": [
    {
     "name": "stdout",
     "output_type": "stream",
     "text": [
      "      Name  Age           City  Age_plus_10\n",
      "0    Alice   25       New York           35\n",
      "1      Bob   30  San Francisco           40\n",
      "2  Charlie   35    Los Angeles           45\n",
      "3    Alice   25       New York           35\n",
      "4      Bob   30  San Francisco           40\n",
      "5  Charlie   35    Los Angeles           45\n"
     ]
    }
   ],
   "source": [
    "#2. apply()\n",
    "This function applies a function along an axis of the DataFrame.\n",
    "python\n",
    "\n",
    "# Applying a function to each value in the 'Age' column\n",
    "df['Age_plus_10'] = df['Age'].apply(lambda x: x + 10)\n",
    "\n",
    "print(df)"
   ]
  },
  {
   "cell_type": "code",
   "execution_count": 3,
   "id": "a6e7f1a2-0fa7-4710-9d2a-50a98003bf96",
   "metadata": {},
   "outputs": [
    {
     "name": "stdout",
     "output_type": "stream",
     "text": [
      "['New York' 'San Francisco' 'Los Angeles']\n"
     ]
    }
   ],
   "source": [
    "#3. unique()\n",
    "This function returns the unique values in a column.\n",
    "# Getting unique values from the 'City' column\n",
    "unique_cities = df['City'].unique()\n",
    "\n",
    "print(unique_cities)"
   ]
  },
  {
   "cell_type": "code",
   "execution_count": 4,
   "id": "308c180f-3471-4be6-93b8-f730accbf090",
   "metadata": {},
   "outputs": [
    {
     "name": "stdout",
     "output_type": "stream",
     "text": [
      "3\n"
     ]
    }
   ],
   "source": [
    "#4. nunique()\n",
    "This function returns the number of unique values in a column.\n",
    "# Counting unique values in the 'City' column\n",
    "unique_city_count = df['City'].nunique()\n",
    "\n",
    "print(unique_city_count)"
   ]
  },
  {
   "cell_type": "code",
   "execution_count": 5,
   "id": "fc7a724b-c80f-4c4c-8f83-fbb31c2bc3cc",
   "metadata": {},
   "outputs": [
    {
     "name": "stdout",
     "output_type": "stream",
     "text": [
      "             Age  Age_plus_10\n",
      "count   6.000000     6.000000\n",
      "mean   30.000000    40.000000\n",
      "std     4.472136     4.472136\n",
      "min    25.000000    35.000000\n",
      "25%    26.250000    36.250000\n",
      "50%    30.000000    40.000000\n",
      "75%    33.750000    43.750000\n",
      "max    35.000000    45.000000\n"
     ]
    }
   ],
   "source": [
    "#5. describe()\n",
    "This function generates descriptive statistics of the DataFrame.\n",
    "# Generating descriptive statistics\n",
    "description = df.describe()\n",
    "print(description)"
   ]
  },
  {
   "cell_type": "code",
   "execution_count": 6,
   "id": "1662c037-7620-4fe0-9e6a-5ab05fbf09cf",
   "metadata": {},
   "outputs": [
    {
     "name": "stdout",
     "output_type": "stream",
     "text": [
      "      Name  Age           City  Age_plus_10\n",
      "0    Alice   25       New York           35\n",
      "3    Alice   25       New York           35\n",
      "1      Bob   30  San Francisco           40\n",
      "4      Bob   30  San Francisco           40\n",
      "2  Charlie   35    Los Angeles           45\n",
      "5  Charlie   35    Los Angeles           45\n"
     ]
    }
   ],
   "source": [
    "#6. sort_values()\n",
    "This function sorts the DataFrame by the values of one or more columns.\n",
    "# Sorting by 'Age'\n",
    "sorted_df = df.sort_values(by='Age')\n",
    "print(sorted_df)"
   ]
  },
  {
   "cell_type": "code",
   "execution_count": 7,
   "id": "238b7ac4-20a2-41a4-95c5-c3a749b756d6",
   "metadata": {},
   "outputs": [
    {
     "name": "stdout",
     "output_type": "stream",
     "text": [
      "Name\n",
      "Alice      25.0\n",
      "Bob        30.0\n",
      "Charlie    35.0\n",
      "Name: Age, dtype: float64\n"
     ]
    }
   ],
   "source": [
    "#7. groupby()\n",
    "This function groups the DataFrame using a mapper or by a Series of columns.\n",
    "# Grouping by 'Name' and calculating the mean age\n",
    "grouped_df = df.groupby('Name')['Age'].mean()\n",
    "print(grouped_df)"
   ]
  },
  {
   "cell_type": "code",
   "execution_count": 8,
   "id": "5bd0b6ba-26a9-4b80-8ff0-55fd6792f5b4",
   "metadata": {},
   "outputs": [
    {
     "name": "stdout",
     "output_type": "stream",
     "text": [
      "    Name    Age   City\n",
      "0  False  False  False\n",
      "1  False   True  False\n",
      "2  False  False   True\n",
      "   Name    Age   City\n",
      "0  True   True   True\n",
      "1  True  False   True\n",
      "2  True   True  False\n"
     ]
    }
   ],
   "source": [
    "#8. isnull() and notnull()\n",
    "These functions detect missing values.\n",
    "# Creating a DataFrame with missing values\n",
    "data_with_nan = {\n",
    "    'Name': ['Alice', 'Bob', 'Charlie'],\n",
    "    'Age': [25, None, 35],\n",
    "    'City': ['New York', 'San Francisco', None]\n",
    "}\n",
    "df_nan = pd.DataFrame(data_with_nan)\n",
    "\n",
    "# Detecting missing values\n",
    "null_values = df_nan.isnull()\n",
    "not_null_values = df_nan.notnull()\n",
    "\n",
    "print(null_values)\n",
    "print(not_null_values)"
   ]
  },
  {
   "cell_type": "code",
   "execution_count": 9,
   "id": "ef2c3295-96e1-4391-862e-bbc204f01ae5",
   "metadata": {},
   "outputs": [
    {
     "name": "stdout",
     "output_type": "stream",
     "text": [
      "      Name   Age           City\n",
      "0    Alice  25.0       New York\n",
      "1      Bob  30.0  San Francisco\n",
      "2  Charlie  35.0        Unknown\n"
     ]
    }
   ],
   "source": [
    "#9. fillna()\n",
    "This function fills NA/NaN values using a specified method.\n",
    "# Filling missing values\n",
    "filled_df = df_nan.fillna({\n",
    "    'Age': df_nan['Age'].mean(),\n",
    "    'City': 'Unknown'\n",
    "})\n",
    "\n",
    "print(filled_df)"
   ]
  },
  {
   "cell_type": "code",
   "execution_count": 10,
   "id": "f703f1a4-b199-488b-adb2-f71eb2ead7f6",
   "metadata": {},
   "outputs": [
    {
     "name": "stdout",
     "output_type": "stream",
     "text": [
      "    Name   Age      City\n",
      "0  Alice  25.0  New York\n"
     ]
    }
   ],
   "source": [
    "#10. dropna()\n",
    "This function removes missing values.\n",
    "# Dropping rows with any missing values\n",
    "cleaned_df = df_nan.dropna()\n",
    "\n",
    "print(cleaned_df)"
   ]
  },
  {
   "cell_type": "code",
   "execution_count": 11,
   "id": "a08e8921-c18f-4986-b561-a44003c652cd",
   "metadata": {},
   "outputs": [
    {
     "name": "stdout",
     "output_type": "stream",
     "text": [
      "Name           object\n",
      "Age            object\n",
      "City           object\n",
      "Age_plus_10     int64\n",
      "dtype: object\n"
     ]
    }
   ],
   "source": [
    "#11. astype()\n",
    "This function casts a pandas object to a specified dtype.\n",
    "# Changing the dtype of 'Age' column to string\n",
    "df['Age'] = df['Age'].astype(str)\n",
    "print(df.dtypes)"
   ]
  },
  {
   "cell_type": "code",
   "execution_count": null,
   "id": "3ef5aaab-6f00-4155-9d63-ac64183bc70c",
   "metadata": {},
   "outputs": [],
   "source": [
    "12. pivot_table()\n",
    "This function creates a spreadsheet-style pivot table as a DataFrame.\n",
    "python\n",
    "Copy code\n",
    "# Creating a pivot table\n",
    "pivot = df.pivot_table(values='Age', index='Name', columns='City', aggfunc='mean')\n",
    "print(pivot)"
   ]
  },
  {
   "cell_type": "code",
   "execution_count": 15,
   "id": "7331f71c-bac7-439a-9a0b-0b8ff20f7afe",
   "metadata": {},
   "outputs": [
    {
     "name": "stdout",
     "output_type": "stream",
     "text": [
      "    Name  Age           City\n",
      "0  Alice   25       New York\n",
      "1    Bob   30  San Francisco\n"
     ]
    }
   ],
   "source": [
    "#13. merge()\n",
    "This function merges DataFrames similar to SQL joins.\n",
    "# Sample DataFrames for merging\n",
    "df1 = pd.DataFrame({\n",
    "    'Name': ['Alice', 'Bob', 'Charlie'],\n",
    "    'Age': [25, 30, 35]\n",
    "})\n",
    "\n",
    "df2 = pd.DataFrame({\n",
    "    'Name': ['Alice', 'Bob', 'David'],\n",
    "    'City': ['New York', 'San Francisco', 'Chicago']\n",
    "})\n",
    "\n",
    "# Merging DataFrames\n",
    "merged_df = pd.merge(df1, df2, on='Name', how='inner')\n",
    "\n",
    "print(merged_df)"
   ]
  },
  {
   "cell_type": "code",
   "execution_count": null,
   "id": "21e693b5-9f93-436f-99af-b163b776dd1a",
   "metadata": {},
   "outputs": [],
   "source": []
  }
 ],
 "metadata": {
  "kernelspec": {
   "display_name": "Python 3 (ipykernel)",
   "language": "python",
   "name": "python3"
  },
  "language_info": {
   "codemirror_mode": {
    "name": "ipython",
    "version": 3
   },
   "file_extension": ".py",
   "mimetype": "text/x-python",
   "name": "python",
   "nbconvert_exporter": "python",
   "pygments_lexer": "ipython3",
   "version": "3.11.7"
  }
 },
 "nbformat": 4,
 "nbformat_minor": 5
}
