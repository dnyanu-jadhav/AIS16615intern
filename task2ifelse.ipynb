{
 "cells": [
  {
   "cell_type": "code",
   "execution_count": null,
   "id": "d41c345d-e3ee-4868-a173-08c62e19b26f",
   "metadata": {},
   "outputs": [],
   "source": [
    "#if else statement\n",
    "The if-else statment is used to execute both the true part and the false part of a given condition.\n",
    "if the condition is true,the if block code is executed and if condition is false,\n",
    "the else block code is executed.\n",
    "    \n"
   ]
  },
  {
   "cell_type": "code",
   "execution_count": 1,
   "id": "a861068b-630c-4307-a73d-255b04cc4750",
   "metadata": {},
   "outputs": [
    {
     "name": "stdout",
     "output_type": "stream",
     "text": [
      "b is not greater than a\n"
     ]
    }
   ],
   "source": [
    "1)a = 200\n",
    "b = 33\n",
    "if b > a:\n",
    "  print(\"b is greater than a\")\n",
    "else:\n",
    "  print(\"b is not greater than a\")"
   ]
  },
  {
   "cell_type": "code",
   "execution_count": 2,
   "id": "56120135-8677-4469-bb74-66236db5cab1",
   "metadata": {},
   "outputs": [
    {
     "name": "stdout",
     "output_type": "stream",
     "text": [
      "B\n"
     ]
    }
   ],
   "source": [
    "2)a = 2\n",
    "b = 330\n",
    "print(\"A\") if a > b else print(\"B\")"
   ]
  },
  {
   "cell_type": "code",
   "execution_count": 3,
   "id": "33619c86-c4cb-418a-917b-bb5d05cbaf80",
   "metadata": {},
   "outputs": [
    {
     "name": "stdout",
     "output_type": "stream",
     "text": [
      "Pass\n"
     ]
    }
   ],
   "source": [
    "3)M=45\n",
    "if M>35:\n",
    "    print(\"Pass\")\n",
    "else:\n",
    "    print(\"Fail\")\n"
   ]
  },
  {
   "cell_type": "code",
   "execution_count": 4,
   "id": "1fbc2d57-dbe7-4189-9314-b049a14ce9c8",
   "metadata": {},
   "outputs": [
    {
     "name": "stdout",
     "output_type": "stream",
     "text": [
      "Patient is Covid positive\n"
     ]
    }
   ],
   "source": [
    "4)CRP=60\n",
    "if CRP>50:\n",
    "    print(\"Patient is Covid positive\")\n",
    "else:\n",
    "    print(\"Patient is covid negative\")\n",
    "    \n",
    "    "
   ]
  },
  {
   "cell_type": "code",
   "execution_count": 5,
   "id": "899a5271-1a14-4b89-80ea-9c11705783b1",
   "metadata": {},
   "outputs": [
    {
     "name": "stdout",
     "output_type": "stream",
     "text": [
      "n is even\n"
     ]
    }
   ],
   "source": [
    "5)n=50\n",
    "if n%2==0:\n",
    "    print(\"n is even\")\n",
    "else:\n",
    "    print(\"n is odd\")"
   ]
  },
  {
   "cell_type": "code",
   "execution_count": 7,
   "id": "9fbea939-4ec8-41c7-b3fa-105fc461e4e4",
   "metadata": {},
   "outputs": [
    {
     "name": "stdout",
     "output_type": "stream",
     "text": [
      "Yes\n"
     ]
    }
   ],
   "source": [
    "6)string=\"Hello\"\n",
    "if string==\"Hello\":\n",
    "   print(\"Yes\")\n",
    "else:\n",
    "    print(\"no\")\n"
   ]
  },
  {
   "cell_type": "code",
   "execution_count": 8,
   "id": "a064f4c3-8b23-4aa6-b787-8565eed80bc7",
   "metadata": {},
   "outputs": [
    {
     "name": "stdout",
     "output_type": "stream",
     "text": [
      "6 in n\n"
     ]
    }
   ],
   "source": [
    "7)n=[1,2,3,4,6,5,8]\n",
    "if 6 in n:\n",
    "    print(\"6 in n\")\n",
    "else:\n",
    "    print(\"6 is not in n\")"
   ]
  },
  {
   "cell_type": "code",
   "execution_count": 9,
   "id": "5136a35c-d076-4672-95c9-990d79e652ee",
   "metadata": {},
   "outputs": [
    {
     "name": "stdout",
     "output_type": "stream",
     "text": [
      "Don't forget to take an umbrella\n"
     ]
    }
   ],
   "source": [
    "8)is_raining=True\n",
    "if is_raining:\n",
    "    print(\"Don't forget to take an umbrella\")\n",
    "else:\n",
    "    print(\"it is not raining today\")\n",
    "    \n"
   ]
  },
  {
   "cell_type": "code",
   "execution_count": 10,
   "id": "8063a4a8-c218-4c4d-858e-05de5de98fcf",
   "metadata": {},
   "outputs": [
    {
     "name": "stdout",
     "output_type": "stream",
     "text": [
      "4 is in list\n"
     ]
    }
   ],
   "source": [
    "9)n=(1,2,3,4,5,6,7)\n",
    "if 4 in n:\n",
    "    print(\"4 is in list\")\n",
    "else:\n",
    "    print(\"4 is not in list\")"
   ]
  },
  {
   "cell_type": "code",
   "execution_count": 13,
   "id": "09f3bd68-1b30-4112-ad95-16cb70dfe3d3",
   "metadata": {},
   "outputs": [
    {
     "name": "stdout",
     "output_type": "stream",
     "text": [
      "n is equal to m\n"
     ]
    }
   ],
   "source": [
    "10)n=10\n",
    "m=10\n",
    "if n==m:\n",
    "  print(\"n is equal to m\")\n",
    "else:\n",
    "    print(\"n is not equal to m\")"
   ]
  },
  {
   "cell_type": "code",
   "execution_count": null,
   "id": "5c19e48b-cbde-49c6-ba0a-df0be9f691a5",
   "metadata": {},
   "outputs": [],
   "source": []
  }
 ],
 "metadata": {
  "kernelspec": {
   "display_name": "Python 3 (ipykernel)",
   "language": "python",
   "name": "python3"
  },
  "language_info": {
   "codemirror_mode": {
    "name": "ipython",
    "version": 3
   },
   "file_extension": ".py",
   "mimetype": "text/x-python",
   "name": "python",
   "nbconvert_exporter": "python",
   "pygments_lexer": "ipython3",
   "version": "3.11.7"
  }
 },
 "nbformat": 4,
 "nbformat_minor": 5
}
