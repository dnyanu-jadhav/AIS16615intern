{
 "cells": [
  {
   "cell_type": "code",
   "execution_count": 3,
   "id": "03e1ab90-fdb6-4079-a229-03aef1ebd453",
   "metadata": {},
   "outputs": [],
   "source": [
    "var=\"Dnyanu\""
   ]
  },
  {
   "cell_type": "markdown",
   "id": "be95f21d-8f3e-422c-9c1c-6e911f0e97aa",
   "metadata": {},
   "source": [
    "# Variable Declaration Rules\n",
    "1)A variable name must start with a letter or the underscore character\r",
    "2)A variable name cannot start with a number3)\r",
    "3)\n",
    "A variable name can only contain alpha-numeric characters and underscores (A-z, 0-9, and _ 4))4)\r\n",
    "Variable names are case-sensitive (age, Age and AGE are three different variable5)s5))\r\n",
    "A variable name cannot be any of the Python keywords."
   ]
  },
  {
   "cell_type": "code",
   "execution_count": 4,
   "id": "46e4a422-dee0-4eab-b9f8-43019f5f8110",
   "metadata": {},
   "outputs": [
    {
     "ename": "SyntaxError",
     "evalue": "invalid decimal literal (3741033736.py, line 1)",
     "output_type": "error",
     "traceback": [
      "\u001b[1;36m  Cell \u001b[1;32mIn[4], line 1\u001b[1;36m\u001b[0m\n\u001b[1;33m    3var=\"Dnyanu\"\u001b[0m\n\u001b[1;37m    ^\u001b[0m\n\u001b[1;31mSyntaxError\u001b[0m\u001b[1;31m:\u001b[0m invalid decimal literal\n"
     ]
    }
   ],
   "source": [
    "3var=\"Dnyanu\""
   ]
  },
  {
   "cell_type": "code",
   "execution_count": null,
   "id": "154fc3e4-ee5c-40a7-b736-79453ee967ed",
   "metadata": {},
   "outputs": [],
   "source": []
  }
 ],
 "metadata": {
  "kernelspec": {
   "display_name": "Python 3 (ipykernel)",
   "language": "python",
   "name": "python3"
  },
  "language_info": {
   "codemirror_mode": {
    "name": "ipython",
    "version": 3
   },
   "file_extension": ".py",
   "mimetype": "text/x-python",
   "name": "python",
   "nbconvert_exporter": "python",
   "pygments_lexer": "ipython3",
   "version": "3.11.7"
  }
 },
 "nbformat": 4,
 "nbformat_minor": 5
}
