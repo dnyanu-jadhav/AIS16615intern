{
 "cells": [
  {
   "cell_type": "markdown",
   "id": "23576f56-c5fb-4bf0-87ab-a16b3a1d480d",
   "metadata": {},
   "source": [
    "#List\r",
    "1)\n",
    "Lists are used to store multiple items in a single variabl\n",
    "2)List items are ordered, changeable, and allow duplicate values.\r",
    "3)\r\n",
    "List items are indexed, the first item has index [0], the second item has index [1] et\n",
    "4)When we say that lists are ordered, it means that the items have a defined order, and that order will not change.\r",
    "5)\r\n",
    "If you add new items to a list, the new items will be placed at the end of the lis\n",
    "6)There are some list methods that will change the order, but in general: the order of the items will not change.\n",
    "7)The list is changeable, meaning that we can change, add, and remove items in a list after it has been created.e8)s\r\n",
    "Since lists are indexed, lists can have items with the same val\n",
    "9)To determine how many items a list has, use the len() function:\n",
    "10)From Python's perspective, lists are defined as objects with the data type 'list':\n",
    "11)It is also possible to use the list() constructor when creating a new list.ue:t.c.."
   ]
  },
  {
   "cell_type": "code",
   "execution_count": 5,
   "id": "38baf1bd-8ec4-4a21-8d85-c57693334909",
   "metadata": {},
   "outputs": [
    {
     "data": {
      "text/plain": [
       "[1, 'Hello', 3.4]"
      ]
     },
     "execution_count": 5,
     "metadata": {},
     "output_type": "execute_result"
    }
   ],
   "source": [
    "my_list=[1,\"Hello\",3.4]\n",
    "my_list"
   ]
  },
  {
   "cell_type": "code",
   "execution_count": 2,
   "id": "3c0ef27f-d095-442d-9f91-da2d303203d8",
   "metadata": {},
   "outputs": [
    {
     "data": {
      "text/plain": [
       "['alto', 100, 'wagonar', 5, 'swift', 46, 'nano']"
      ]
     },
     "execution_count": 2,
     "metadata": {},
     "output_type": "execute_result"
    }
   ],
   "source": [
    "#list creation [],()\n",
    "l1=['alto',100,'wagonar',5,'swift',46,'nano']\n",
    "l1"
   ]
  },
  {
   "cell_type": "code",
   "execution_count": 12,
   "id": "c4027295-8002-4572-b02b-2bab91d784f6",
   "metadata": {},
   "outputs": [
    {
     "data": {
      "text/plain": [
       "['abc', 34, 'True', 40, 'Male']"
      ]
     },
     "execution_count": 12,
     "metadata": {},
     "output_type": "execute_result"
    }
   ],
   "source": [
    "list=[\"abc\",34,\"True\",40,\"Male\"]\n",
    "list\n"
   ]
  },
  {
   "cell_type": "code",
   "execution_count": 13,
   "id": "282ce0ea-093c-4c2d-bfc2-610c0ff45364",
   "metadata": {},
   "outputs": [
    {
     "data": {
      "text/plain": [
       "['abc', 34, 'True', 40]"
      ]
     },
     "execution_count": 13,
     "metadata": {},
     "output_type": "execute_result"
    }
   ],
   "source": [
    "list.remove(\"Male\")\n",
    "list"
   ]
  },
  {
   "cell_type": "code",
   "execution_count": null,
   "id": "e807fa2b-36f3-41bb-a59e-0c723fea4b76",
   "metadata": {},
   "outputs": [],
   "source": [
    "#9)Reverse"
   ]
  },
  {
   "cell_type": "code",
   "execution_count": 14,
   "id": "bd04ef6f-57db-4e59-9262-986907b7d75b",
   "metadata": {},
   "outputs": [
    {
     "data": {
      "text/plain": [
       "[40, 'True', 34, 'abc']"
      ]
     },
     "execution_count": 14,
     "metadata": {},
     "output_type": "execute_result"
    }
   ],
   "source": [
    "list.reverse()\n",
    "list"
   ]
  },
  {
   "cell_type": "code",
   "execution_count": 1,
   "id": "2ce798ef-3a1f-4dd7-8626-6b3eeb179e06",
   "metadata": {},
   "outputs": [
    {
     "name": "stdout",
     "output_type": "stream",
     "text": [
      "['apple', 'banana', 'cherry']\n"
     ]
    }
   ],
   "source": [
    "thislist = [\"apple\", \"banana\", \"cherry\"]\n",
    "print(thislist)"
   ]
  },
  {
   "cell_type": "code",
   "execution_count": 2,
   "id": "a840a9df-9d01-4c7f-bd32-3fb9d60dec6d",
   "metadata": {},
   "outputs": [
    {
     "name": "stdout",
     "output_type": "stream",
     "text": [
      "[1, 5, 7, 9, 3]\n"
     ]
    }
   ],
   "source": [
    "list2=[1, 5, 7, 9, 3]\n",
    "print(list2)"
   ]
  },
  {
   "cell_type": "code",
   "execution_count": 3,
   "id": "f4a25c81-8757-4c79-be0f-bca7ce99330e",
   "metadata": {},
   "outputs": [
    {
     "name": "stdout",
     "output_type": "stream",
     "text": [
      "[True, False, False]\n"
     ]
    }
   ],
   "source": [
    "list3 = [True, False, False]\n",
    "print(list3)"
   ]
  },
  {
   "cell_type": "code",
   "execution_count": 4,
   "id": "a0fecac9-a959-4982-958f-8f3fa42eb784",
   "metadata": {},
   "outputs": [
    {
     "name": "stdout",
     "output_type": "stream",
     "text": [
      "<class 'list'>\n"
     ]
    }
   ],
   "source": [
    "print(type(list3))"
   ]
  },
  {
   "cell_type": "code",
   "execution_count": null,
   "id": "24ce0cd9-dad9-447b-be2a-49334b26a7e2",
   "metadata": {},
   "outputs": [],
   "source": [
    "#Method\n",
    "1)append-append an element to the end of the list"
   ]
  },
  {
   "cell_type": "code",
   "execution_count": 5,
   "id": "95b133eb-7b10-4e1c-bdce-1879a31427f9",
   "metadata": {},
   "outputs": [
    {
     "data": {
      "text/plain": [
       "['alto', 'wagonar', 'swift', 'nano', 1, 2, 3]"
      ]
     },
     "execution_count": 5,
     "metadata": {},
     "output_type": "execute_result"
    }
   ],
   "source": [
    "x=[\"alto\",\"wagonar\",\"swift\",\"nano\",1,2,3]\n",
    "x"
   ]
  },
  {
   "cell_type": "code",
   "execution_count": 6,
   "id": "1122e1de-dc3e-4b0d-8012-a096ff74e1de",
   "metadata": {},
   "outputs": [
    {
     "data": {
      "text/plain": [
       "['alto', 'wagonar', 'swift', 'nano', 1, 2, 3, 'alto']"
      ]
     },
     "execution_count": 6,
     "metadata": {},
     "output_type": "execute_result"
    }
   ],
   "source": [
    "x.append(\"alto\")\n",
    "x"
   ]
  },
  {
   "cell_type": "code",
   "execution_count": 7,
   "id": "f347be47-c851-4a7f-8e20-7b8de5699eea",
   "metadata": {},
   "outputs": [
    {
     "data": {
      "text/plain": [
       "[5, 46, 82, 61, 54, 61]"
      ]
     },
     "execution_count": 7,
     "metadata": {},
     "output_type": "execute_result"
    }
   ],
   "source": [
    "y=[5,46,82,61,54,61]\n",
    "y"
   ]
  },
  {
   "cell_type": "code",
   "execution_count": 8,
   "id": "2ac0dba0-0212-4db1-a296-525745250543",
   "metadata": {},
   "outputs": [
    {
     "data": {
      "text/plain": [
       "[5, 46, 54, 61, 61, 82]"
      ]
     },
     "execution_count": 8,
     "metadata": {},
     "output_type": "execute_result"
    }
   ],
   "source": [
    "y.sort()\n",
    "y"
   ]
  },
  {
   "cell_type": "code",
   "execution_count": 12,
   "id": "70aa38d8-744c-41fc-9912-ac91614dc4bc",
   "metadata": {},
   "outputs": [
    {
     "data": {
      "text/plain": [
       "'alto'"
      ]
     },
     "execution_count": 12,
     "metadata": {},
     "output_type": "execute_result"
    }
   ],
   "source": [
    "x.pop(-1)"
   ]
  },
  {
   "cell_type": "code",
   "execution_count": null,
   "id": "8a5349a8-c73e-4e83-acd3-1023fadd6b13",
   "metadata": {},
   "outputs": [],
   "source": [
    "2)clear()-remove all the element from list\n"
   ]
  },
  {
   "cell_type": "code",
   "execution_count": 13,
   "id": "9d4f44d1-f3f3-4c0f-a938-ba57dddd4fd0",
   "metadata": {},
   "outputs": [
    {
     "name": "stdout",
     "output_type": "stream",
     "text": [
      "[1, 2, 3]\n"
     ]
    }
   ],
   "source": [
    "car=[1,2,3]\n",
    "print(car)"
   ]
  },
  {
   "cell_type": "code",
   "execution_count": null,
   "id": "cbff1ede-100f-484a-986e-6852966284a3",
   "metadata": {},
   "outputs": [],
   "source": [
    "#3)copy-Return a copy of the specified list\n"
   ]
  },
  {
   "cell_type": "code",
   "execution_count": 15,
   "id": "f449b3d5-c365-4a50-946b-ac28076310a5",
   "metadata": {},
   "outputs": [
    {
     "data": {
      "text/plain": [
       "['alto', 'wagonar', 'swift', 'nano']"
      ]
     },
     "execution_count": 15,
     "metadata": {},
     "output_type": "execute_result"
    }
   ],
   "source": [
    "car=[\"alto\",\"wagonar\",\"swift\",\"nano\"]\n",
    "car"
   ]
  },
  {
   "cell_type": "code",
   "execution_count": 17,
   "id": "dc20c646-daea-405a-82ff-eff0c787468f",
   "metadata": {},
   "outputs": [
    {
     "data": {
      "text/plain": [
       "['alto', 'wagonar', 'swift', 'nano']"
      ]
     },
     "execution_count": 17,
     "metadata": {},
     "output_type": "execute_result"
    }
   ],
   "source": [
    "f2=car.copy()\n",
    "f2"
   ]
  },
  {
   "cell_type": "code",
   "execution_count": null,
   "id": "5c7b7674-0694-4e49-9c3f-f4b930ab7fd7",
   "metadata": {},
   "outputs": [],
   "source": [
    "#4)count()-returns the numer of element with the specified value "
   ]
  },
  {
   "cell_type": "code",
   "execution_count": 24,
   "id": "e1e69014-45e9-4bce-af02-d5a72c99450a",
   "metadata": {},
   "outputs": [
    {
     "data": {
      "text/plain": [
       "1"
      ]
     },
     "execution_count": 24,
     "metadata": {},
     "output_type": "execute_result"
    }
   ],
   "source": [
    "f2.count(\"swift\")\n",
    "\n"
   ]
  },
  {
   "cell_type": "code",
   "execution_count": null,
   "id": "e8e7839d-36eb-4548-9967-33a3dbecd659",
   "metadata": {},
   "outputs": [],
   "source": [
    "#5)extend()-odds the specified list elelment "
   ]
  },
  {
   "cell_type": "code",
   "execution_count": 27,
   "id": "4a094ff8-fe0a-4852-bb9a-6565358b4577",
   "metadata": {},
   "outputs": [
    {
     "data": {
      "text/plain": [
       "['alto', 'wagonar', 'swift', 'nano', [...], [...], [...]]"
      ]
     },
     "execution_count": 27,
     "metadata": {},
     "output_type": "execute_result"
    }
   ],
   "source": [
    "car.append(car)\n",
    "car"
   ]
  },
  {
   "cell_type": "code",
   "execution_count": null,
   "id": "df3263f2-ad29-414b-a710-d9fcefacdf74",
   "metadata": {},
   "outputs": [],
   "source": [
    "#6)index()-return to the posision the 1st accurance of the specified"
   ]
  },
  {
   "cell_type": "code",
   "execution_count": 28,
   "id": "eddad36a-255d-465f-9b24-a81729fd0af3",
   "metadata": {},
   "outputs": [
    {
     "data": {
      "text/plain": [
       "0"
      ]
     },
     "execution_count": 28,
     "metadata": {},
     "output_type": "execute_result"
    }
   ],
   "source": [
    "car.index(\"alto\")"
   ]
  },
  {
   "cell_type": "code",
   "execution_count": null,
   "id": "ffeeee74-9f69-458d-9a21-a9fb4c2f7439",
   "metadata": {},
   "outputs": [],
   "source": [
    "#7)insert()-"
   ]
  },
  {
   "cell_type": "code",
   "execution_count": 29,
   "id": "12b9164e-167f-4e37-b2a6-18c11e9c818f",
   "metadata": {},
   "outputs": [
    {
     "name": "stdout",
     "output_type": "stream",
     "text": [
      "['pune', 'alto', 'wagonar', 'swift', 'nano', [...], [...], [...]]\n"
     ]
    }
   ],
   "source": [
    "car.insert(0,\"pune\")\n",
    "print(car)"
   ]
  },
  {
   "cell_type": "code",
   "execution_count": null,
   "id": "03f78b87-3bd5-4538-a2fa-c834566ac642",
   "metadata": {},
   "outputs": [],
   "source": [
    "#8)pop()-remove the element at the specified position"
   ]
  },
  {
   "cell_type": "code",
   "execution_count": 31,
   "id": "83d79b9f-c0a9-4f5e-9b6c-629ada6c44ed",
   "metadata": {},
   "outputs": [
    {
     "data": {
      "text/plain": [
       "'wagonar'"
      ]
     },
     "execution_count": 31,
     "metadata": {},
     "output_type": "execute_result"
    }
   ],
   "source": [
    "car.pop(2)\n"
   ]
  },
  {
   "cell_type": "code",
   "execution_count": null,
   "id": "ba5d979b-e1eb-4c13-a115-a3f733177a4d",
   "metadata": {},
   "outputs": [],
   "source": []
  }
 ],
 "metadata": {
  "kernelspec": {
   "display_name": "Python 3 (ipykernel)",
   "language": "python",
   "name": "python3"
  },
  "language_info": {
   "codemirror_mode": {
    "name": "ipython",
    "version": 3
   },
   "file_extension": ".py",
   "mimetype": "text/x-python",
   "name": "python",
   "nbconvert_exporter": "python",
   "pygments_lexer": "ipython3",
   "version": "3.11.7"
  }
 },
 "nbformat": 4,
 "nbformat_minor": 5
}
