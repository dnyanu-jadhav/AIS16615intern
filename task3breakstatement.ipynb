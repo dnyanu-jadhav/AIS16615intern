{
 "cells": [
  {
   "cell_type": "markdown",
   "id": "de918a05-98b8-4165-b1fe-781da090f875",
   "metadata": {},
   "source": [
    "#Break Statement\n",
    "The break statement in Python is used to exit from a loop prematurely. When the break statement is executed, \n",
    "the control of the program immediately jumps out of the loop, even if the loop's condition is still true.\n",
    "The break statement can be used in both while and for loops. Here are examples of how to use it."
   ]
  },
  {
   "cell_type": "code",
   "execution_count": 1,
   "id": "d3e825cc-30bf-4d58-9d12-6155cd8e1015",
   "metadata": {},
   "outputs": [
    {
     "name": "stdout",
     "output_type": "stream",
     "text": [
      "1\n",
      "2\n",
      "3\n",
      "4\n",
      "5\n",
      "Loop exited.\n"
     ]
    }
   ],
   "source": [
    "1)i = 1\n",
    "while i <= 10:\n",
    "    print(i)\n",
    "    if i == 5:\n",
    "        break  # Exit the loop when i is 5\n",
    "    i += 1\n",
    "\n",
    "print(\"Loop exited.\")"
   ]
  },
  {
   "cell_type": "code",
   "execution_count": 2,
   "id": "f63dd52a-3657-437e-bc77-a612f257eb15",
   "metadata": {},
   "outputs": [
    {
     "name": "stdout",
     "output_type": "stream",
     "text": [
      "1\n",
      "2\n",
      "3\n"
     ]
    }
   ],
   "source": [
    "2)i = 1\n",
    "while i < 6:\n",
    "  print(i)\n",
    "  if i == 3:\n",
    "    break\n",
    "  i += 1"
   ]
  },
  {
   "cell_type": "code",
   "execution_count": 5,
   "id": "2413917f-dd81-4840-be8e-202aec0c8773",
   "metadata": {},
   "outputs": [
    {
     "name": "stdout",
     "output_type": "stream",
     "text": [
      "Found 9!\n"
     ]
    }
   ],
   "source": [
    "3)numbers = [1, 3, 5, 7, 9, 11, 13, 15]\n",
    "search_for = 9\n",
    "\n",
    "for num in numbers:\n",
    "    if num == search_for:\n",
    "        print(f\"Found {search_for}!\")\n",
    "        break\n",
    "else:\n",
    "    print(f\"{search_for} not found in the list.\")"
   ]
  },
  {
   "cell_type": "code",
   "execution_count": 4,
   "id": "5ef5b854-d03a-4b7e-a885-0aef24aca174",
   "metadata": {},
   "outputs": [
    {
     "name": "stdout",
     "output_type": "stream",
     "text": [
      "8 not found in the list.\n"
     ]
    }
   ],
   "source": [
    "4)numbers = [1, 3, 5, 7, 9, 11, 13, 15]\n",
    "search_for = 8\n",
    "\n",
    "for num in numbers:\n",
    "    if num == search_for:\n",
    "        print(f\"Found {search_for}!\")\n",
    "        break\n",
    "else:\n",
    "    print(f\"{search_for} not found in the list.\")"
   ]
  }
 ],
 "metadata": {
  "kernelspec": {
   "display_name": "Python 3 (ipykernel)",
   "language": "python",
   "name": "python3"
  },
  "language_info": {
   "codemirror_mode": {
    "name": "ipython",
    "version": 3
   },
   "file_extension": ".py",
   "mimetype": "text/x-python",
   "name": "python",
   "nbconvert_exporter": "python",
   "pygments_lexer": "ipython3",
   "version": "3.11.7"
  }
 },
 "nbformat": 4,
 "nbformat_minor": 5
}
