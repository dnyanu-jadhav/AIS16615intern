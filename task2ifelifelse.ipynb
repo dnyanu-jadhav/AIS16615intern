{
 "cells": [
  {
   "cell_type": "markdown",
   "id": "4c9f6da2-e550-4e69-9405-cbe74744ebce",
   "metadata": {},
   "source": [
    "#if elif else\n",
    "The elif keyword is Python's way of saying \"if the previous conditions were not true, then try this condition\".\n",
    "The else keyword catches anything which isn't caught by the preceding conditions\n"
   ]
  },
  {
   "cell_type": "code",
   "execution_count": 1,
   "id": "0d394c00-12bd-444b-8c67-b0281de33bc6",
   "metadata": {},
   "outputs": [
    {
     "name": "stdout",
     "output_type": "stream",
     "text": [
      "a is greater than b\n"
     ]
    }
   ],
   "source": [
    "1)a = 200\n",
    "b = 33\n",
    "if b > a:\n",
    "  print(\"b is greater than a\")\n",
    "elif a == b:\n",
    "  print(\"a and b are equal\")\n",
    "else:\n",
    "  print(\"a is greater than b\")"
   ]
  },
  {
   "cell_type": "code",
   "execution_count": 4,
   "id": "f44448c5-4fc7-410f-b716-7ece49973b4a",
   "metadata": {},
   "outputs": [
    {
     "name": "stdout",
     "output_type": "stream",
     "text": [
      "Patient is covid positive\n"
     ]
    }
   ],
   "source": [
    "2)CRP=60\n",
    "if CRP<50:\n",
    "    print(\"Patient is Covid negative\")\n",
    "elif CRP>50:\n",
    "     print(\"Patient is covid positive\")\n",
    "else:\n",
    "    print(\"Patient is covid negative\")\n",
    "    \n",
    "    "
   ]
  },
  {
   "cell_type": "code",
   "execution_count": 7,
   "id": "25939ac6-5ac9-4b5c-9bcd-15b73782e2c6",
   "metadata": {},
   "outputs": [
    {
     "name": "stdout",
     "output_type": "stream",
     "text": [
      "Pass\n"
     ]
    }
   ],
   "source": [
    "3)M=45\n",
    "if M<35:\n",
    "    print(\"Fail\")\n",
    "elif M>35:\n",
    "    print(\"Pass\")\n",
    "else:\n",
    "    print(\"Fail\")\n"
   ]
  },
  {
   "cell_type": "code",
   "execution_count": 8,
   "id": "51e6db27-c24a-4bd1-8255-e485b02cc925",
   "metadata": {},
   "outputs": [
    {
     "name": "stdout",
     "output_type": "stream",
     "text": [
      "positive\n"
     ]
    }
   ],
   "source": [
    "4)num=10\n",
    "if num>0:\n",
    "    print(\"positive\")\n",
    "elif num==0:\n",
    "    print(\"zero\")\n",
    "else:\n",
    "    print(\"negative\")"
   ]
  },
  {
   "cell_type": "code",
   "execution_count": 9,
   "id": "90665086-9e30-4ee4-a29e-cc7e3baef5ad",
   "metadata": {},
   "outputs": [
    {
     "name": "stdout",
     "output_type": "stream",
     "text": [
      "grade c\n"
     ]
    }
   ],
   "source": [
    "5)score=80\n",
    "if score>=90:\n",
    "    print(\"grade A\")\n",
    "elif score>=90:\n",
    "    print(\"grade B\")\n",
    "else:\n",
    "    print(\"grade c\")\n",
    "    "
   ]
  },
  {
   "cell_type": "code",
   "execution_count": 11,
   "id": "1822b5e7-140d-4562-95b8-3326063361c1",
   "metadata": {},
   "outputs": [
    {
     "name": "stdout",
     "output_type": "stream",
     "text": [
      "adult\n"
     ]
    }
   ],
   "source": [
    "6)age=30\n",
    "if age<10:\n",
    "    print(\"child\")\n",
    "elif age<18:\n",
    "    print(\"teenager\")\n",
    "else:\n",
    "    print(\"adult\")"
   ]
  },
  {
   "cell_type": "code",
   "execution_count": 12,
   "id": "8b0483fa-e692-49ec-a8cc-584adb0ae445",
   "metadata": {},
   "outputs": [
    {
     "name": "stdout",
     "output_type": "stream",
     "text": [
      "a is equal to b\n"
     ]
    }
   ],
   "source": [
    "7)a=33\n",
    "b=33\n",
    "if a>b:\n",
    "    print(\"b is greater than a\")\n",
    "elif a==b:\n",
    "    print(\"a is equal to b\")\n",
    "else:\n",
    "    print(\"a is not equal to b\")"
   ]
  },
  {
   "cell_type": "code",
   "execution_count": 15,
   "id": "fec3c076-4465-44cb-8e22-9c8ba1ae37ff",
   "metadata": {},
   "outputs": [
    {
     "name": "stdout",
     "output_type": "stream",
     "text": [
      "warm\n"
     ]
    }
   ],
   "source": [
    "8)tem=55\n",
    "if tem>85:\n",
    "    print(\"hot\")\n",
    "elif tem<65:\n",
    "    print(\"warm\")\n",
    "else:\n",
    "    print(\"cool\")"
   ]
  },
  {
   "cell_type": "code",
   "execution_count": 16,
   "id": "3b3bd0fa-ff2d-4bf6-b9af-8140f3404fcf",
   "metadata": {},
   "outputs": [
    {
     "name": "stdout",
     "output_type": "stream",
     "text": [
      "numeric\n"
     ]
    }
   ],
   "source": [
    "9)x=3\n",
    "if x==3:\n",
    "    print(\"numeric\")\n",
    "elif x==3.0:\n",
    "    print(\"float\")\n",
    "else:\n",
    "    print(\"complex\")"
   ]
  },
  {
   "cell_type": "code",
   "execution_count": 18,
   "id": "88546d6e-c907-4562-858f-8139fa2a7830",
   "metadata": {},
   "outputs": [
    {
     "name": "stdout",
     "output_type": "stream",
     "text": [
      "complex\n"
     ]
    }
   ],
   "source": [
    "10)x=3+2j\n",
    "if x==3:\n",
    "    print(\"numeric\")\n",
    "elif x==3.0:\n",
    "    print(\"float\")\n",
    "else:\n",
    "    print(\"complex\")"
   ]
  },
  {
   "cell_type": "code",
   "execution_count": null,
   "id": "22741730-6b7d-4ebf-b55c-4ebce0c2e576",
   "metadata": {},
   "outputs": [],
   "source": []
  }
 ],
 "metadata": {
  "kernelspec": {
   "display_name": "Python 3 (ipykernel)",
   "language": "python",
   "name": "python3"
  },
  "language_info": {
   "codemirror_mode": {
    "name": "ipython",
    "version": 3
   },
   "file_extension": ".py",
   "mimetype": "text/x-python",
   "name": "python",
   "nbconvert_exporter": "python",
   "pygments_lexer": "ipython3",
   "version": "3.11.7"
  }
 },
 "nbformat": 4,
 "nbformat_minor": 5
}
