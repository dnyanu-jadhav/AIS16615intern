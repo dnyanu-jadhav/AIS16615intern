{
 "cells": [
  {
   "cell_type": "markdown",
   "id": "7bdfdc1c-5ca0-4a09-933d-a7d8e9fa7aa9",
   "metadata": {},
   "source": [
    "#What is a Random Number?\n",
    "Random number does NOT mean a different number every time. Random means something that can not be predicted logically.\n",
    "Pseudo Random and True Random.\n",
    "Computers work on programs, and programs are definitive set of instructions. So it means there must be some algorithm to generate a random number as well.\n",
    "If there is a program to generate random number it can be predicted, thus it is not truly random.\n",
    "Random numbers generated through a generation algorithm are called pseudo random.\n",
    "Can we make truly random numbers?\n",
    "Yes. In order to generate a truly random number on our computers we need to get the random data from some outside source. This outside source is generally our keystrokes, mouse movements, data on network etc.\n",
    "We do not need truly random numbers, unless it is related to security (e.g. encryption keys) or the basis of application is the randomness (e.g. Digital roulette wheels).\n",
    "In this tutorial we will be using pseudo random numbers.\n",
    "Generate Random Number\n",
    "NumPy offers the random module to work with random numbers.\n",
    "#Generate Random Float\r\n",
    "The random module's rand() method returns a random float between 0 and 1\n",
    "#Generate Random Array\r\n",
    "In NumPy we work with arrays, and you can use the two methods from the above examples to make random arrays.\n",
    "\r\n",
    "Integers\r\n",
    "The randint() method takes a size parameter where you can specify the shape of an ar\n",
    "#Floats\r\n",
    "The rand() method also allows you to specify the shape of the array\n",
    "#Generate Random Number From Array\r\n",
    "The choice() method allows you to generate a random value based on an array of values.\n",
    "\r\n",
    "The choice() method takes an array as a parameter and randomly returns one of the valu\n",
    "The choice() method also allows you to return an array of values.\r",
    "\r\n",
    "Add a size parameter to specify the shape of the array.es..ray.."
   ]
  },
  {
   "cell_type": "code",
   "execution_count": 1,
   "id": "7badb2c8-d4af-4b36-aa80-5da7133e9423",
   "metadata": {},
   "outputs": [
    {
     "name": "stdout",
     "output_type": "stream",
     "text": [
      "9\n"
     ]
    }
   ],
   "source": [
    "#Generate a random integer from 0 to 100:\n",
    "from numpy import random\n",
    "x = random.randint(100)\n",
    "print(x)"
   ]
  },
  {
   "cell_type": "code",
   "execution_count": 2,
   "id": "042fdf16-9078-456e-927e-2729f5dd69a4",
   "metadata": {},
   "outputs": [
    {
     "name": "stdout",
     "output_type": "stream",
     "text": [
      "0.6406126482300836\n"
     ]
    }
   ],
   "source": [
    "#Generate a random float from 0 to 1:\n",
    "from numpy import random\n",
    "x = random.rand()\n",
    "print(x)"
   ]
  },
  {
   "cell_type": "code",
   "execution_count": 4,
   "id": "5347e8a6-a090-4628-a76b-17f6c356862b",
   "metadata": {},
   "outputs": [
    {
     "name": "stdout",
     "output_type": "stream",
     "text": [
      "[78 24 90 67 92]\n"
     ]
    }
   ],
   "source": [
    "#Generate a 1-D array containing 5 random integers from 0 to 100:\n",
    "from numpy import random\n",
    "x=random.randint(100, size=(5))\n",
    "print(x)"
   ]
  },
  {
   "cell_type": "code",
   "execution_count": 5,
   "id": "2ef099f9-a8a7-4960-b7b6-5edcb3c0d3df",
   "metadata": {},
   "outputs": [
    {
     "name": "stdout",
     "output_type": "stream",
     "text": [
      "[[52  3 29 93 86]\n",
      " [97 11 40 24 27]\n",
      " [97 12 12 11 12]]\n"
     ]
    }
   ],
   "source": [
    "#Generate a 2-D array with 3 rows, each row containing 5 random integers from 0 to 100:\n",
    "from numpy import random\n",
    "x = random.randint(100, size=(3, 5))\n",
    "print(x)"
   ]
  },
  {
   "cell_type": "code",
   "execution_count": 6,
   "id": "ef2c1bf4-a9f8-4163-b178-7b8acc5207d3",
   "metadata": {},
   "outputs": [
    {
     "name": "stdout",
     "output_type": "stream",
     "text": [
      "[0.9558872  0.16857889 0.43125798 0.10683302 0.80438929]\n"
     ]
    }
   ],
   "source": [
    "#Generate a 1-D array containing 5 random floats:\n",
    "from numpy import random\n",
    "x = random.rand(5)\n",
    "print(x)"
   ]
  },
  {
   "cell_type": "code",
   "execution_count": 7,
   "id": "7776bb38-1e63-4a10-a1e2-cbabe0de1db6",
   "metadata": {},
   "outputs": [
    {
     "name": "stdout",
     "output_type": "stream",
     "text": [
      "[[0.3539053  0.68371311 0.81139824 0.82643194 0.9760965 ]\n",
      " [0.43519333 0.80703985 0.95513249 0.82115853 0.15809856]\n",
      " [0.3361682  0.04469467 0.11559478 0.76342962 0.65040091]]\n"
     ]
    }
   ],
   "source": [
    "#Generate a 2-D array with 3 rows, each row containing 5 random numbers:\n",
    "from numpy import random\n",
    "x = random.rand(3, 5)\n",
    "print(x)"
   ]
  },
  {
   "cell_type": "code",
   "execution_count": 8,
   "id": "ea1f0c92-472e-4cc5-804c-27ccc4eeb174",
   "metadata": {},
   "outputs": [
    {
     "name": "stdout",
     "output_type": "stream",
     "text": [
      "5\n"
     ]
    }
   ],
   "source": [
    "#Return one of the values in an array:\n",
    "from numpy import random\n",
    "x = random.choice([3, 5, 7, 9])\n",
    "print(x)"
   ]
  },
  {
   "cell_type": "code",
   "execution_count": 9,
   "id": "9cbe4652-bfba-4349-b8a9-3404dae16064",
   "metadata": {},
   "outputs": [
    {
     "name": "stdout",
     "output_type": "stream",
     "text": [
      "[[7 7 7 5 3]\n",
      " [3 5 9 3 9]\n",
      " [9 3 7 5 3]]\n"
     ]
    }
   ],
   "source": [
    "#Generate a 2-D array that consists of the values in the array parameter (3, 5, 7, and 9):\n",
    "from numpy import random\n",
    "x = random.choice([3, 5, 7, 9], size=(3, 5))\n",
    "print(x)"
   ]
  },
  {
   "cell_type": "markdown",
   "id": "8e92644e-c0d2-4c63-ad7e-3e69eaa7a690",
   "metadata": {},
   "source": [
    "What is Data Distribution?\n",
    "Data Distribution is a list of all possible values, and how often each value occurs.\n",
    "Such lists are important when working with statistics and data science.\n",
    "The random module offer methods that returns randomly generated data distributions.\n",
    "Random Distribution\n",
    "A random distribution is a set of random numbers that follow a certain probability density function.\n",
    "Probability Density Function: A function that describes a continuous probability. i.e. probability of all values in an array.\n",
    "We can generate random numbers based on defined probabilities using the choice() method of the random module.\n",
    "The choice() method allows us to specify the probability for each value.\n",
    "The probability is set by a number between 0 and 1, where 0 means that the value will never occur and 1 means that the value will always occur.\n",
    "The sum of all probability numbers should be 1.\r",
    "\r\n",
    "Even if you run the example above 100 times, the value 9 will never occur\r\n",
    "\r\n",
    "You can return arrays of any shape and size by specifying the shape in the size parame\n",
    "ter."
   ]
  },
  {
   "cell_type": "code",
   "execution_count": 10,
   "id": "f466f060-a56e-44da-a80f-cb79405fb218",
   "metadata": {},
   "outputs": [
    {
     "name": "stdout",
     "output_type": "stream",
     "text": [
      "[5 5 7 7 7 5 3 5 5 7 7 7 7 7 7 7 7 7 7 3 5 7 7 7 5 7 7 7 7 3 5 7 7 7 3 3 7\n",
      " 5 5 5 3 5 5 5 7 7 3 5 5 5 7 7 5 3 7 7 7 5 3 3 7 7 5 5 7 7 7 7 7 3 5 5 7 5\n",
      " 7 7 7 5 7 7 7 5 7 7 5 7 5 7 3 7 7 5 7 7 7 3 5 7 7 5]\n"
     ]
    }
   ],
   "source": [
    "#ExampleGet your own Python Server\n",
    "Generate a 1-D array containing 100 values, where each value has to be 3, 5, 7 or 9.\n",
    "The probability for the value to be 3 is set to be 0.1\n",
    "The probability for the value to be 5 is set to be 0.3\n",
    "The probability for the value to be 7 is set to be 0.6\n",
    "The probability for the value to be 9 is set to be 0\n",
    "from numpy import random\n",
    "x = random.choice([3, 5, 7, 9], p=[0.1, 0.3, 0.6, 0.0], size=(100))\n",
    "print(x)"
   ]
  },
  {
   "cell_type": "code",
   "execution_count": 11,
   "id": "7a4ca8d4-5f1f-4027-8abf-27b02eaf8a3e",
   "metadata": {},
   "outputs": [
    {
     "name": "stdout",
     "output_type": "stream",
     "text": [
      "[[5 7 7 7 7]\n",
      " [7 7 5 7 7]\n",
      " [5 5 7 5 3]]\n"
     ]
    }
   ],
   "source": [
    "#Example\n",
    "Same example as above, but return a 2-D array with 3 rows, each containing 5 values.\n",
    "from numpy import random\n",
    "x = random.choice([3, 5, 7, 9], p=[0.1, 0.3, 0.6, 0.0], size=(3, 5))\n",
    "print(x)"
   ]
  },
  {
   "cell_type": "markdown",
   "id": "2e8b7f59-0d40-43c1-a569-5deab11f43d1",
   "metadata": {},
   "source": [
    "#Random Permutations of Elements\n",
    "A permutation refers to an arrangement of elements. e.g. [3, 2, 1] is a permutation of [1, 2, 3] and vice-versa.\n",
    "The NumPy Random module provides two methods for this: shuffle() and permutation().\n",
    "#Shuffling Arrays\n",
    "Shuffle means changing arrangement of elements in-place. i.e. in the array itself.\n",
    "The shuffle() method makes changes to the original array.\n",
    "#Generating Permutation of Arrays\n",
    "The permutation() method returns a re-arranged array (and leaves the original array un-changed)."
   ]
  },
  {
   "cell_type": "code",
   "execution_count": 12,
   "id": "5e914de9-8f76-491c-863a-1624334c853a",
   "metadata": {},
   "outputs": [
    {
     "name": "stdout",
     "output_type": "stream",
     "text": [
      "[5 2 1 3 4]\n"
     ]
    }
   ],
   "source": [
    "#Randomly shuffle elements of following array:\n",
    "from numpy import random\n",
    "import numpy as np\n",
    "arr = np.array([1, 2, 3, 4, 5])\n",
    "random.shuffle(arr)\n",
    "print(arr)"
   ]
  },
  {
   "cell_type": "code",
   "execution_count": 13,
   "id": "3b47ca89-d7a2-47f1-b557-71edfb7569fc",
   "metadata": {},
   "outputs": [
    {
     "name": "stdout",
     "output_type": "stream",
     "text": [
      "[2 1 3 4 5]\n"
     ]
    }
   ],
   "source": [
    "#Generate a random permutation of elements of following array:\n",
    "from numpy import random\n",
    "import numpy as np\n",
    "arr = np.array([1, 2, 3, 4, 5])\n",
    "print(random.permutation(arr))"
   ]
  },
  {
   "cell_type": "markdown",
   "id": "2662964b-984d-45ed-8a8a-6a0de828f38f",
   "metadata": {},
   "source": [
    "#Visualize Distributions With Seaborn\n",
    "Seaborn is a library that uses Matplotlib underneath to plot graphs. It will be used to visualize random distributions.\n",
    "Install Seaborn.\n",
    "If you have Python and PIP already installed on a system, install it using this command:\n",
    "C:\\Users\\Your Name>pip install seaborn\n",
    "If you use Jupyter, install Seaborn using this command:\n",
    "C:\\Users\\Your Name>!pip install seaborn\n",
    "Distplots\n",
    "Distplot stands for distribution plot, it takes as input an array and plots a curve corresponding to the distribution of points in the array.\n",
    "Import Matplotlib\n",
    "Import the pyplot object of the Matplotlib module in your code using the following statement:\n",
    "import matplotlib.pyplot as plt\n",
    "You can learn about the Matplotlib module in our Matplotlib Tutorial.\n",
    "Import Seaborn\n",
    "Import the Seaborn module in your code using the following statement:\n",
    "import seaborn as sns\n",
    "Note: We will be using: sns.distplot(arr, hist=False) to visualize random distributions in this tutorial."
   ]
  },
  {
   "cell_type": "code",
   "execution_count": 15,
   "id": "c779470d-1cdd-4472-922d-4fef1d58e8be",
   "metadata": {},
   "outputs": [
    {
     "name": "stderr",
     "output_type": "stream",
     "text": [
      "C:\\Users\\Shree\\AppData\\Local\\Temp\\ipykernel_5780\\174120514.py:4: UserWarning: \n",
      "\n",
      "`distplot` is a deprecated function and will be removed in seaborn v0.14.0.\n",
      "\n",
      "Please adapt your code to use either `displot` (a figure-level function with\n",
      "similar flexibility) or `histplot` (an axes-level function for histograms).\n",
      "\n",
      "For a guide to updating your code to use the new functions, please see\n",
      "https://gist.github.com/mwaskom/de44147ed2974457ad6372750bbe5751\n",
      "\n",
      "  sns.distplot([0, 1, 2, 3, 4, 5])\n",
      "C:\\Users\\Shree\\anaconda3\\Lib\\site-packages\\seaborn\\_oldcore.py:1119: FutureWarning: use_inf_as_na option is deprecated and will be removed in a future version. Convert inf values to NaN before operating instead.\n",
      "  with pd.option_context('mode.use_inf_as_na', True):\n"
     ]
    },
    {
     "data": {
      "image/png": "[encoded data removed]",
      "text/plain": [
       "<Figure size 640x480 with 1 Axes>"
      ]
     },
     "metadata": {},
     "output_type": "display_data"
    }
   ],
   "source": [
    "#Plotting a Distplot\n",
    "Example\n",
    "import matplotlib.pyplot as plt\n",
    "import seaborn as sns\n",
    "sns.distplot([0, 1, 2, 3, 4, 5])\n",
    "plt.show()"
   ]
  },
  {
   "cell_type": "code",
   "execution_count": 16,
   "id": "8c6e22b8-62ea-4751-a904-37e6cc5158a6",
   "metadata": {},
   "outputs": [
    {
     "name": "stderr",
     "output_type": "stream",
     "text": [
      "C:\\Users\\Shree\\AppData\\Local\\Temp\\ipykernel_5780\\2406393504.py:4: UserWarning: \n",
      "\n",
      "`distplot` is a deprecated function and will be removed in seaborn v0.14.0.\n",
      "\n",
      "Please adapt your code to use either `displot` (a figure-level function with\n",
      "similar flexibility) or `kdeplot` (an axes-level function for kernel density plots).\n",
      "\n",
      "For a guide to updating your code to use the new functions, please see\n",
      "https://gist.github.com/mwaskom/de44147ed2974457ad6372750bbe5751\n",
      "\n",
      "  sns.distplot([0, 1, 2, 3, 4, 5], hist=False)\n",
      "C:\\Users\\Shree\\anaconda3\\Lib\\site-packages\\seaborn\\_oldcore.py:1119: FutureWarning: use_inf_as_na option is deprecated and will be removed in a future version. Convert inf values to NaN before operating instead.\n",
      "  with pd.option_context('mode.use_inf_as_na', True):\n"
     ]
    },
    {
     "data": {
      "image/png": "[encoded data removed]",
      "text/plain": [
       "<Figure size 640x480 with 1 Axes>"
      ]
     },
     "metadata": {},
     "output_type": "display_data"
    }
   ],
   "source": [
    "#Plotting a Distplot Without the Histogram\n",
    "Example\n",
    "import matplotlib.pyplot as plt\n",
    "import seaborn as sns\n",
    "sns.distplot([0, 1, 2, 3, 4, 5], hist=False)\n",
    "plt.show()"
   ]
  },
  {
   "cell_type": "code",
   "execution_count": null,
   "id": "51016ddf-0049-4801-ac1e-9f264a1e3f98",
   "metadata": {},
   "outputs": [],
   "source": [
    "#Distributions"
   ]
  },
  {
   "cell_type": "markdown",
   "id": "2897d8f2-7a79-429b-a0df-2ed1d26171f7",
   "metadata": {},
   "source": [
    "#Normal Distribution\n",
    "The Normal Distribution is one of the most important distributions.\n",
    "It is also called the Gaussian Distribution after the German mathematician Carl Friedrich Gauss.\n",
    "It fits the probability distribution of many events, eg. IQ Scores, Heartbeat etc.\n",
    "Use the random.normal() method to get a Normal Data Distribution.\n",
    "It has three parameters:\n",
    "loc - (Mean) where the peak of the bell exists.\n",
    "scale - (Standard Deviation) how flat the graph distribution should be.\n",
    "size - The shape of the returned array.\n",
    "Note: The curve of a Normal Distribution is also known as the Bell Curve because of the bell-shaped curve."
   ]
  },
  {
   "cell_type": "code",
   "execution_count": 17,
   "id": "5ad3b97a-153f-42b6-9336-a85f2d203f50",
   "metadata": {},
   "outputs": [
    {
     "name": "stdout",
     "output_type": "stream",
     "text": [
      "[[ 0.85825733 -0.51678334 -0.69925497]\n",
      " [-2.34189625 -1.14225988  1.24240105]]\n"
     ]
    }
   ],
   "source": [
    "#ExampleGet your own Python Server\n",
    "Generate a random normal distribution of size 2x3:\n",
    "from numpy import random\n",
    "x = random.normal(size=(2, 3))\n",
    "print(x)"
   ]
  },
  {
   "cell_type": "code",
   "execution_count": 18,
   "id": "ff2c91a9-879c-4de2-a6b9-fe2eb4a01b84",
   "metadata": {},
   "outputs": [
    {
     "name": "stdout",
     "output_type": "stream",
     "text": [
      "[[-4.97661485 -1.68474254 -0.56399458]\n",
      " [-0.7442503   0.23408402  0.54473106]]\n"
     ]
    }
   ],
   "source": [
    "#Example\n",
    "Generate a random normal distribution of size 2x3 with mean at 1 and standard deviation of 2:\n",
    "from numpy import random\n",
    "x = random.normal(loc=1, scale=2, size=(2, 3))\n",
    "print(x)"
   ]
  },
  {
   "cell_type": "code",
   "execution_count": 19,
   "id": "94713309-82ea-4d4f-9ac3-38768af09920",
   "metadata": {},
   "outputs": [
    {
     "name": "stderr",
     "output_type": "stream",
     "text": [
      "C:\\Users\\Shree\\AppData\\Local\\Temp\\ipykernel_5780\\2253916830.py:5: UserWarning: \n",
      "\n",
      "`distplot` is a deprecated function and will be removed in seaborn v0.14.0.\n",
      "\n",
      "Please adapt your code to use either `displot` (a figure-level function with\n",
      "similar flexibility) or `kdeplot` (an axes-level function for kernel density plots).\n",
      "\n",
      "For a guide to updating your code to use the new functions, please see\n",
      "https://gist.github.com/mwaskom/de44147ed2974457ad6372750bbe5751\n",
      "\n",
      "  sns.distplot(random.normal(size=1000), hist=False)\n",
      "C:\\Users\\Shree\\anaconda3\\Lib\\site-packages\\seaborn\\_oldcore.py:1119: FutureWarning: use_inf_as_na option is deprecated and will be removed in a future version. Convert inf values to NaN before operating instead.\n",
      "  with pd.option_context('mode.use_inf_as_na', True):\n"
     ]
    },
    {
     "data": {
      "image/png": "[encoded data removed]",
      "text/plain": [
       "<Figure size 640x480 with 1 Axes>"
      ]
     },
     "metadata": {},
     "output_type": "display_data"
    }
   ],
   "source": [
    "#Visualization of Normal Distribution\n",
    "Example\n",
    "from numpy import random\n",
    "import matplotlib.pyplot as plt\n",
    "import seaborn as sns\n",
    "sns.distplot(random.normal(size=1000), hist=False)\n",
    "plt.show()"
   ]
  },
  {
   "cell_type": "markdown",
   "id": "27d6d345-f105-4d44-b2af-2a8d499fe819",
   "metadata": {},
   "source": [
    "#Binomial Distribution\n",
    "Binomial Distribution is a Discrete Distribution.\n",
    "It describes the outcome of binary scenarios, e.g. toss of a coin, it will either be head or tails.\n",
    "It has three parameters:\n",
    "n - number of trials.\n",
    "p - probability of occurence of each trial (e.g. for toss of a coin 0.5 each).\n",
    "size - The shape of the returned array.\n",
    "Discrete Distribution:The distribution is defined at separate set of events, e.g. a coin toss's result is discrete as it can be only \n",
    "head or tails whereas height of people is continuous as it can be 170, 170.1, 170.11 and so on."
   ]
  },
  {
   "cell_type": "code",
   "execution_count": 20,
   "id": "793ee0b6-d6ca-4b86-b9a1-244e04420b47",
   "metadata": {},
   "outputs": [
    {
     "name": "stdout",
     "output_type": "stream",
     "text": [
      "[3 3 4 3 3 4 5 4 6 6]\n"
     ]
    }
   ],
   "source": [
    "#ExampleGet your own Python Server\n",
    "Given 10 trials for coin toss generate 10 data points:\n",
    "from numpy import random\n",
    "x = random.binomial(n=10, p=0.5, size=10)\n",
    "print(x)"
   ]
  },
  {
   "cell_type": "code",
   "execution_count": 21,
   "id": "d8cc85f6-28a2-4671-b2c5-e8f16eeba47d",
   "metadata": {},
   "outputs": [
    {
     "name": "stderr",
     "output_type": "stream",
     "text": [
      "C:\\Users\\Shree\\AppData\\Local\\Temp\\ipykernel_5780\\1627534489.py:5: UserWarning: \n",
      "\n",
      "`distplot` is a deprecated function and will be removed in seaborn v0.14.0.\n",
      "\n",
      "Please adapt your code to use either `displot` (a figure-level function with\n",
      "similar flexibility) or `histplot` (an axes-level function for histograms).\n",
      "\n",
      "For a guide to updating your code to use the new functions, please see\n",
      "https://gist.github.com/mwaskom/de44147ed2974457ad6372750bbe5751\n",
      "\n",
      "  sns.distplot(random.binomial(n=10, p=0.5, size=1000), hist=True, kde=False)\n"
     ]
    },
    {
     "data": {
      "image/png": "[encoded data removed]",
      "text/plain": [
       "<Figure size 640x480 with 1 Axes>"
      ]
     },
     "metadata": {},
     "output_type": "display_data"
    }
   ],
   "source": [
    "#Visualization of Binomial Distribution\n",
    "Example\n",
    "from numpy import random\n",
    "import matplotlib.pyplot as plt\n",
    "import seaborn as sns\n",
    "sns.distplot(random.binomial(n=10, p=0.5, size=1000), hist=True, kde=False)\n",
    "plt.show()"
   ]
  },
  {
   "cell_type": "code",
   "execution_count": 22,
   "id": "bf128d03-e7dc-474a-ada0-abd3210eddf1",
   "metadata": {},
   "outputs": [
    {
     "name": "stderr",
     "output_type": "stream",
     "text": [
      "C:\\Users\\Shree\\AppData\\Local\\Temp\\ipykernel_5780\\3842674151.py:5: UserWarning: \n",
      "\n",
      "`distplot` is a deprecated function and will be removed in seaborn v0.14.0.\n",
      "\n",
      "Please adapt your code to use either `displot` (a figure-level function with\n",
      "similar flexibility) or `kdeplot` (an axes-level function for kernel density plots).\n",
      "\n",
      "For a guide to updating your code to use the new functions, please see\n",
      "https://gist.github.com/mwaskom/de44147ed2974457ad6372750bbe5751\n",
      "\n",
      "  sns.distplot(random.normal(loc=50, scale=5, size=1000), hist=False, label='normal')\n",
      "C:\\Users\\Shree\\anaconda3\\Lib\\site-packages\\seaborn\\_oldcore.py:1119: FutureWarning: use_inf_as_na option is deprecated and will be removed in a future version. Convert inf values to NaN before operating instead.\n",
      "  with pd.option_context('mode.use_inf_as_na', True):\n",
      "C:\\Users\\Shree\\AppData\\Local\\Temp\\ipykernel_5780\\3842674151.py:6: UserWarning: \n",
      "\n",
      "`distplot` is a deprecated function and will be removed in seaborn v0.14.0.\n",
      "\n",
      "Please adapt your code to use either `displot` (a figure-level function with\n",
      "similar flexibility) or `kdeplot` (an axes-level function for kernel density plots).\n",
      "\n",
      "For a guide to updating your code to use the new functions, please see\n",
      "https://gist.github.com/mwaskom/de44147ed2974457ad6372750bbe5751\n",
      "\n",
      "  sns.distplot(random.binomial(n=100, p=0.5, size=1000), hist=False, label='binomial')\n",
      "C:\\Users\\Shree\\anaconda3\\Lib\\site-packages\\seaborn\\_oldcore.py:1119: FutureWarning: use_inf_as_na option is deprecated and will be removed in a future version. Convert inf values to NaN before operating instead.\n",
      "  with pd.option_context('mode.use_inf_as_na', True):\n"
     ]
    },
    {
     "data": {
      "image/png": "[encoded data removed]",
      "text/plain": [
       "<Figure size 640x480 with 1 Axes>"
      ]
     },
     "metadata": {},
     "output_type": "display_data"
    }
   ],
   "source": [
    "#Difference Between Normal and Binomial Distribution\n",
    "The main difference is that normal distribution is continous whereas binomial is discrete, but if there are enough data points it will be quite similar to normal distribution with certain loc and scale.\n",
    "Example\n",
    "from numpy import random\n",
    "import matplotlib.pyplot as plt\n",
    "import seaborn as sns\n",
    "sns.distplot(random.normal(loc=50, scale=5, size=1000), hist=False, label='normal')\n",
    "sns.distplot(random.binomial(n=100, p=0.5, size=1000), hist=False, label='binomial')\n",
    "plt.show()"
   ]
  },
  {
   "cell_type": "code",
   "execution_count": null,
   "id": "08a348f1-188a-415b-903d-221c21ea8f6d",
   "metadata": {},
   "outputs": [],
   "source": [
    "#Poisson Distribution\n",
    "Poisson Distribution is a Discrete Distribution.\n",
    "It estimates how many times an event can happen in a specified time. e.g. If someone eats twice a day what is the probability he will eat thrice?\n",
    "It has two parameters:\n",
    "lam - rate or known number of occurrences e.g. 2 for above problem.\n",
    "size - The shape of the returned array."
   ]
  },
  {
   "cell_type": "code",
   "execution_count": 23,
   "id": "99c3e61a-c374-42d1-9f3c-d99ed8de665c",
   "metadata": {},
   "outputs": [
    {
     "name": "stdout",
     "output_type": "stream",
     "text": [
      "[1 0 4 4 3 3 3 2 1 2]\n"
     ]
    }
   ],
   "source": [
    "#ExampleGet your own Python Server\n",
    "Generate a random 1x10 distribution for occurrence 2:\n",
    "from numpy import random\n",
    "x = random.poisson(lam=2, size=10)\n",
    "print(x)"
   ]
  },
  {
   "cell_type": "code",
   "execution_count": 24,
   "id": "1eb29cc3-6104-4b0d-8290-d44827b75351",
   "metadata": {},
   "outputs": [
    {
     "name": "stderr",
     "output_type": "stream",
     "text": [
      "C:\\Users\\Shree\\AppData\\Local\\Temp\\ipykernel_5780\\1134702419.py:5: UserWarning: \n",
      "\n",
      "`distplot` is a deprecated function and will be removed in seaborn v0.14.0.\n",
      "\n",
      "Please adapt your code to use either `displot` (a figure-level function with\n",
      "similar flexibility) or `histplot` (an axes-level function for histograms).\n",
      "\n",
      "For a guide to updating your code to use the new functions, please see\n",
      "https://gist.github.com/mwaskom/de44147ed2974457ad6372750bbe5751\n",
      "\n",
      "  sns.distplot(random.poisson(lam=2, size=1000), kde=False)\n"
     ]
    },
    {
     "data": {
      "image/png": "[encoded data removed]",
      "text/plain": [
       "<Figure size 640x480 with 1 Axes>"
      ]
     },
     "metadata": {},
     "output_type": "display_data"
    }
   ],
   "source": [
    "#Visualization of Poisson Distribution\n",
    "Example\n",
    "from numpy import random\n",
    "import matplotlib.pyplot as plt\n",
    "import seaborn as sns\n",
    "sns.distplot(random.poisson(lam=2, size=1000), kde=False)\n",
    "plt.show()"
   ]
  },
  {
   "cell_type": "code",
   "execution_count": 25,
   "id": "ab336f81-376f-40d3-b746-35dbfc158cd5",
   "metadata": {},
   "outputs": [
    {
     "name": "stderr",
     "output_type": "stream",
     "text": [
      "C:\\Users\\Shree\\AppData\\Local\\Temp\\ipykernel_5780\\3681875339.py:4: UserWarning: \n",
      "\n",
      "`distplot` is a deprecated function and will be removed in seaborn v0.14.0.\n",
      "\n",
      "Please adapt your code to use either `displot` (a figure-level function with\n",
      "similar flexibility) or `kdeplot` (an axes-level function for kernel density plots).\n",
      "\n",
      "For a guide to updating your code to use the new functions, please see\n",
      "https://gist.github.com/mwaskom/de44147ed2974457ad6372750bbe5751\n",
      "\n",
      "  sns.distplot(random.normal(loc=50, scale=7, size=1000), hist=False, label='normal')\n",
      "C:\\Users\\Shree\\anaconda3\\Lib\\site-packages\\seaborn\\_oldcore.py:1119: FutureWarning: use_inf_as_na option is deprecated and will be removed in a future version. Convert inf values to NaN before operating instead.\n",
      "  with pd.option_context('mode.use_inf_as_na', True):\n",
      "C:\\Users\\Shree\\AppData\\Local\\Temp\\ipykernel_5780\\3681875339.py:5: UserWarning: \n",
      "\n",
      "`distplot` is a deprecated function and will be removed in seaborn v0.14.0.\n",
      "\n",
      "Please adapt your code to use either `displot` (a figure-level function with\n",
      "similar flexibility) or `kdeplot` (an axes-level function for kernel density plots).\n",
      "\n",
      "For a guide to updating your code to use the new functions, please see\n",
      "https://gist.github.com/mwaskom/de44147ed2974457ad6372750bbe5751\n",
      "\n",
      "  sns.distplot(random.poisson(lam=50, size=1000), hist=False, label='poisson')\n",
      "C:\\Users\\Shree\\anaconda3\\Lib\\site-packages\\seaborn\\_oldcore.py:1119: FutureWarning: use_inf_as_na option is deprecated and will be removed in a future version. Convert inf values to NaN before operating instead.\n",
      "  with pd.option_context('mode.use_inf_as_na', True):\n"
     ]
    },
    {
     "data": {
      "image/png": "[encoded data removed]",
      "text/plain": [
       "<Figure size 640x480 with 1 Axes>"
      ]
     },
     "metadata": {},
     "output_type": "display_data"
    }
   ],
   "source": [
    "#Difference Between Normal and Poisson Distribution\n",
    "Normal distribution is continuous whereas poisson is discrete.\n",
    "But we can see that similar to binomial for a large enough poisson distribution it will become similar to normal distribution with certain std dev and mean.\n",
    "Example\n",
    "from numpy import random\n",
    "import matplotlib.pyplot as plt\n",
    "import seaborn as sns\n",
    "sns.distplot(random.normal(loc=50, scale=7, size=1000), hist=False, label='normal')\n",
    "sns.distplot(random.poisson(lam=50, size=1000), hist=False, label='poisson')\n",
    "plt.show()"
   ]
  },
  {
   "cell_type": "code",
   "execution_count": 26,
   "id": "e9a48aee-23b9-4768-8900-052a0f77a029",
   "metadata": {},
   "outputs": [
    {
     "name": "stderr",
     "output_type": "stream",
     "text": [
      "C:\\Users\\Shree\\AppData\\Local\\Temp\\ipykernel_5780\\1456282284.py:4: UserWarning: \n",
      "\n",
      "`distplot` is a deprecated function and will be removed in seaborn v0.14.0.\n",
      "\n",
      "Please adapt your code to use either `displot` (a figure-level function with\n",
      "similar flexibility) or `kdeplot` (an axes-level function for kernel density plots).\n",
      "\n",
      "For a guide to updating your code to use the new functions, please see\n",
      "https://gist.github.com/mwaskom/de44147ed2974457ad6372750bbe5751\n",
      "\n",
      "  sns.distplot(random.binomial(n=1000, p=0.01, size=1000), hist=False, label='binomial')\n",
      "C:\\Users\\Shree\\anaconda3\\Lib\\site-packages\\seaborn\\_oldcore.py:1119: FutureWarning: use_inf_as_na option is deprecated and will be removed in a future version. Convert inf values to NaN before operating instead.\n",
      "  with pd.option_context('mode.use_inf_as_na', True):\n",
      "C:\\Users\\Shree\\AppData\\Local\\Temp\\ipykernel_5780\\1456282284.py:5: UserWarning: \n",
      "\n",
      "`distplot` is a deprecated function and will be removed in seaborn v0.14.0.\n",
      "\n",
      "Please adapt your code to use either `displot` (a figure-level function with\n",
      "similar flexibility) or `kdeplot` (an axes-level function for kernel density plots).\n",
      "\n",
      "For a guide to updating your code to use the new functions, please see\n",
      "https://gist.github.com/mwaskom/de44147ed2974457ad6372750bbe5751\n",
      "\n",
      "  sns.distplot(random.poisson(lam=10, size=1000), hist=False, label='poisson')\n",
      "C:\\Users\\Shree\\anaconda3\\Lib\\site-packages\\seaborn\\_oldcore.py:1119: FutureWarning: use_inf_as_na option is deprecated and will be removed in a future version. Convert inf values to NaN before operating instead.\n",
      "  with pd.option_context('mode.use_inf_as_na', True):\n"
     ]
    },
    {
     "data": {
      "image/png": "[encoded data removed]",
      "text/plain": [
       "<Figure size 640x480 with 1 Axes>"
      ]
     },
     "metadata": {},
     "output_type": "display_data"
    }
   ],
   "source": [
    "#Difference Between Binomial and Poisson Distribution\n",
    "Binomial distribution only has two possible outcomes, whereas poisson distribution can have unlimited possible outcomes.\n",
    "But for very large n and near-zero p binomial distribution is near identical to poisson distribution such that n * p is nearly equal to lam.\n",
    "Example\n",
    "from numpy import random\n",
    "import matplotlib.pyplot as plt\n",
    "import seaborn as sns\n",
    "sns.distplot(random.binomial(n=1000, p=0.01, size=1000), hist=False, label='binomial')\n",
    "sns.distplot(random.poisson(lam=10, size=1000), hist=False, label='poisson')\n",
    "plt.show()"
   ]
  },
  {
   "cell_type": "markdown",
   "id": "1bb4f872-1be9-4ded-bf16-751350ed7c29",
   "metadata": {},
   "source": [
    "#Uniform Distribution\n",
    "Used to describe probability where every event has equal chances of occuring.\n",
    "E.g. Generation of random numbers.\n",
    "It has three parameters:\n",
    "a - lower bound - default 0 .0.\n",
    "b - upper bound - default 1.0.\n",
    "size - The shape of the returned array."
   ]
  },
  {
   "cell_type": "code",
   "execution_count": 27,
   "id": "ffc7c8e8-50d5-4f4e-98f0-4ba4c8d94bc9",
   "metadata": {},
   "outputs": [
    {
     "name": "stdout",
     "output_type": "stream",
     "text": [
      "[[0.63480933 0.33538521 0.06329272]\n",
      " [0.32926972 0.03424958 0.83908332]]\n"
     ]
    }
   ],
   "source": [
    "#ExampleGet your own Python Server\n",
    "Create a 2x3 uniform distribution sample:\n",
    "from numpy import random\n",
    "x = random.uniform(size=(2, 3))\n",
    "print(x)"
   ]
  },
  {
   "cell_type": "code",
   "execution_count": 28,
   "id": "0b1eb7bd-0479-409e-94b7-c7810126e985",
   "metadata": {},
   "outputs": [
    {
     "name": "stderr",
     "output_type": "stream",
     "text": [
      "C:\\Users\\Shree\\AppData\\Local\\Temp\\ipykernel_5780\\3868301820.py:5: UserWarning: \n",
      "\n",
      "`distplot` is a deprecated function and will be removed in seaborn v0.14.0.\n",
      "\n",
      "Please adapt your code to use either `displot` (a figure-level function with\n",
      "similar flexibility) or `kdeplot` (an axes-level function for kernel density plots).\n",
      "\n",
      "For a guide to updating your code to use the new functions, please see\n",
      "https://gist.github.com/mwaskom/de44147ed2974457ad6372750bbe5751\n",
      "\n",
      "  sns.distplot(random.uniform(size=1000), hist=False)\n",
      "C:\\Users\\Shree\\anaconda3\\Lib\\site-packages\\seaborn\\_oldcore.py:1119: FutureWarning: use_inf_as_na option is deprecated and will be removed in a future version. Convert inf values to NaN before operating instead.\n",
      "  with pd.option_context('mode.use_inf_as_na', True):\n"
     ]
    },
    {
     "data": {
      "image/png": "[encoded data removed]",
      "text/plain": [
       "<Figure size 640x480 with 1 Axes>"
      ]
     },
     "metadata": {},
     "output_type": "display_data"
    }
   ],
   "source": [
    "#Visualization of Uniform Distribution\n",
    "Example\n",
    "from numpy import random\n",
    "import matplotlib.pyplot as plt\n",
    "import seaborn as sns\n",
    "sns.distplot(random.uniform(size=1000), hist=False)\n",
    "plt.show()"
   ]
  },
  {
   "cell_type": "markdown",
   "id": "2795c742-957c-4221-b121-8cb404d94716",
   "metadata": {},
   "source": [
    "#Logistic Distribution\n",
    "Logistic Distribution is used to describe growth.\n",
    "Used extensively in machine learning in logistic regression, neural networks etc.\n",
    "It has three parameters:\n",
    "loc - mean, where the peak is. Default 0.\n",
    "scale - standard deviation, the flatness of distribution. Default 1.\n",
    "size - The shape of the returned array.\n"
   ]
  },
  {
   "cell_type": "code",
   "execution_count": 29,
   "id": "02de28d5-6c56-42fc-80a2-aa3b0ca72b7b",
   "metadata": {},
   "outputs": [
    {
     "name": "stdout",
     "output_type": "stream",
     "text": [
      "[[-0.4669161  -1.26795032 -0.4256134 ]\n",
      " [ 0.94102256  0.8535653   2.22259333]]\n"
     ]
    }
   ],
   "source": [
    "#ExampleGet your own Python Server\n",
    "Draw 2x3 samples from a logistic distribution with mean at 1 and stddev 2.0:\n",
    "from numpy import random\n",
    "x = random.logistic(loc=1, scale=2, size=(2, 3))\n",
    "print(x)"
   ]
  },
  {
   "cell_type": "code",
   "execution_count": 30,
   "id": "e3eb2af1-0067-408f-ad67-52cf77ebc29a",
   "metadata": {},
   "outputs": [
    {
     "name": "stderr",
     "output_type": "stream",
     "text": [
      "C:\\Users\\Shree\\AppData\\Local\\Temp\\ipykernel_5780\\736028887.py:5: UserWarning: \n",
      "\n",
      "`distplot` is a deprecated function and will be removed in seaborn v0.14.0.\n",
      "\n",
      "Please adapt your code to use either `displot` (a figure-level function with\n",
      "similar flexibility) or `kdeplot` (an axes-level function for kernel density plots).\n",
      "\n",
      "For a guide to updating your code to use the new functions, please see\n",
      "https://gist.github.com/mwaskom/de44147ed2974457ad6372750bbe5751\n",
      "\n",
      "  sns.distplot(random.logistic(size=1000), hist=False)\n",
      "C:\\Users\\Shree\\anaconda3\\Lib\\site-packages\\seaborn\\_oldcore.py:1119: FutureWarning: use_inf_as_na option is deprecated and will be removed in a future version. Convert inf values to NaN before operating instead.\n",
      "  with pd.option_context('mode.use_inf_as_na', True):\n"
     ]
    },
    {
     "data": {
      "image/png": "[encoded data removed]",
      "text/plain": [
       "<Figure size 640x480 with 1 Axes>"
      ]
     },
     "metadata": {},
     "output_type": "display_data"
    }
   ],
   "source": [
    "#Visualization of Logistic Distribution\n",
    "Example\n",
    "from numpy import random\n",
    "import matplotlib.pyplot as plt\n",
    "import seaborn as sns\n",
    "sns.distplot(random.logistic(size=1000), hist=False)\n",
    "plt.show()"
   ]
  },
  {
   "cell_type": "code",
   "execution_count": 31,
   "id": "596435d5-7b30-4dd0-9660-65d169a5f0c6",
   "metadata": {},
   "outputs": [
    {
     "name": "stderr",
     "output_type": "stream",
     "text": [
      "C:\\Users\\Shree\\AppData\\Local\\Temp\\ipykernel_5780\\792808986.py:5: UserWarning: \n",
      "\n",
      "`distplot` is a deprecated function and will be removed in seaborn v0.14.0.\n",
      "\n",
      "Please adapt your code to use either `displot` (a figure-level function with\n",
      "similar flexibility) or `kdeplot` (an axes-level function for kernel density plots).\n",
      "\n",
      "For a guide to updating your code to use the new functions, please see\n",
      "https://gist.github.com/mwaskom/de44147ed2974457ad6372750bbe5751\n",
      "\n",
      "  sns.distplot(random.normal(scale=2, size=1000), hist=False, label='normal')\n",
      "C:\\Users\\Shree\\anaconda3\\Lib\\site-packages\\seaborn\\_oldcore.py:1119: FutureWarning: use_inf_as_na option is deprecated and will be removed in a future version. Convert inf values to NaN before operating instead.\n",
      "  with pd.option_context('mode.use_inf_as_na', True):\n",
      "C:\\Users\\Shree\\AppData\\Local\\Temp\\ipykernel_5780\\792808986.py:6: UserWarning: \n",
      "\n",
      "`distplot` is a deprecated function and will be removed in seaborn v0.14.0.\n",
      "\n",
      "Please adapt your code to use either `displot` (a figure-level function with\n",
      "similar flexibility) or `kdeplot` (an axes-level function for kernel density plots).\n",
      "\n",
      "For a guide to updating your code to use the new functions, please see\n",
      "https://gist.github.com/mwaskom/de44147ed2974457ad6372750bbe5751\n",
      "\n",
      "  sns.distplot(random.logistic(size=1000), hist=False, label='logistic')\n",
      "C:\\Users\\Shree\\anaconda3\\Lib\\site-packages\\seaborn\\_oldcore.py:1119: FutureWarning: use_inf_as_na option is deprecated and will be removed in a future version. Convert inf values to NaN before operating instead.\n",
      "  with pd.option_context('mode.use_inf_as_na', True):\n"
     ]
    },
    {
     "data": {
      "image/png": "[encoded data removed]",
      "text/plain": [
       "<Figure size 640x480 with 1 Axes>"
      ]
     },
     "metadata": {},
     "output_type": "display_data"
    }
   ],
   "source": [
    "#Difference Between Logistic and Normal Distribution\n",
    "Both distributions are near identical, but logistic distribution has more area under the tails, meaning it represents more possibility of occurrence of an event further away from mean.\n",
    "For higher value of scale (standard deviation) the normal and logistic distributions are near identical apart from the peak.\n",
    "Example\n",
    "from numpy import random\n",
    "import matplotlib.pyplot as plt\n",
    "import seaborn as sns\n",
    "sns.distplot(random.normal(scale=2, size=1000), hist=False, label='normal')\n",
    "sns.distplot(random.logistic(size=1000), hist=False, label='logistic')\n",
    "plt.show()"
   ]
  },
  {
   "cell_type": "markdown",
   "id": "e0e77b7c-e309-4d9f-bd4c-66f8eeee3295",
   "metadata": {},
   "source": [
    "#Multinomial Distribution\n",
    "Multinomial distribution is a generalization of binomial distribution.\n",
    "It describes outcomes of multi-nomial scenarios unlike binomial where scenarios must be only one of two. e.g. Blood type of a population, dice roll outcome.\n",
    "It has three parameters:\n",
    "n - number of possible outcomes (e.g. 6 for dice roll).\n",
    "pvals - list of probabilties of outcomes (e.g. [1/6, 1/6, 1/6, 1/6, 1/6, 1/6] for dice roll).\n",
    "size - The shape of the returned array.\n",
    "Note: Multinomial samples will NOT produce a single value! They will produce one value for each pval.\r",
    "\r\n",
    "Note: As they are generalization of binomial distribution their visual representation and similarity of normal distribution is same as that of multiple binomial distributions."
   ]
  },
  {
   "cell_type": "code",
   "execution_count": 32,
   "id": "245a2aa8-a900-4764-9311-1b9a2fb513cf",
   "metadata": {},
   "outputs": [
    {
     "name": "stdout",
     "output_type": "stream",
     "text": [
      "[3 0 1 1 0 1]\n"
     ]
    }
   ],
   "source": [
    "#ExampleGet your own Python Server\n",
    "Draw out a sample for dice roll:\n",
    "from numpy import random\n",
    "x = random.multinomial(n=6, pvals=[1/6, 1/6, 1/6, 1/6, 1/6, 1/6])\n",
    "print(x)"
   ]
  },
  {
   "cell_type": "markdown",
   "id": "85463eed-0360-4690-bb81-4e74b38aaa36",
   "metadata": {},
   "source": [
    "#Exponential Distribution\n",
    "Exponential distribution is used for describing time till next event e.g. failure/success etc.\n",
    "It has two parameters:\n",
    "scale - inverse of rate ( see lam in poisson distribution ) defaults to 1.0.\n",
    "size - The shape of the returned array.\n",
    "#Relation Between Poisson and Exponential Distribution\r\n",
    "Poisson distribution deals with number of occurences of an event in a time period whereas exponential distribution deals with the time between these events."
   ]
  },
  {
   "cell_type": "code",
   "execution_count": 33,
   "id": "e87c7ede-4b46-4612-a2db-d0cbc035a819",
   "metadata": {},
   "outputs": [
    {
     "name": "stdout",
     "output_type": "stream",
     "text": [
      "[[0.14946051 0.44866478 1.91655314]\n",
      " [2.05508789 2.13592859 0.74652252]]\n"
     ]
    }
   ],
   "source": [
    "#ExampleGet your own Python Server\n",
    "Draw out a sample for exponential distribution with 2.0 scale with 2x3 size:\n",
    "from numpy import random\n",
    "x = random.exponential(scale=2, size=(2, 3))\n",
    "print(x)"
   ]
  },
  {
   "cell_type": "code",
   "execution_count": 34,
   "id": "52a3602a-8af6-4964-a621-1a0e567244e3",
   "metadata": {},
   "outputs": [
    {
     "name": "stderr",
     "output_type": "stream",
     "text": [
      "C:\\Users\\Shree\\AppData\\Local\\Temp\\ipykernel_5780\\2187777510.py:5: UserWarning: \n",
      "\n",
      "`distplot` is a deprecated function and will be removed in seaborn v0.14.0.\n",
      "\n",
      "Please adapt your code to use either `displot` (a figure-level function with\n",
      "similar flexibility) or `kdeplot` (an axes-level function for kernel density plots).\n",
      "\n",
      "For a guide to updating your code to use the new functions, please see\n",
      "https://gist.github.com/mwaskom/de44147ed2974457ad6372750bbe5751\n",
      "\n",
      "  sns.distplot(random.exponential(size=1000), hist=False)\n",
      "C:\\Users\\Shree\\anaconda3\\Lib\\site-packages\\seaborn\\_oldcore.py:1119: FutureWarning: use_inf_as_na option is deprecated and will be removed in a future version. Convert inf values to NaN before operating instead.\n",
      "  with pd.option_context('mode.use_inf_as_na', True):\n"
     ]
    },
    {
     "data": {
      "image/png": "[encoded data removed]",
      "text/plain": [
       "<Figure size 640x480 with 1 Axes>"
      ]
     },
     "metadata": {},
     "output_type": "display_data"
    }
   ],
   "source": [
    "#Visualization of Exponential Distribution\n",
    "Example\n",
    "from numpy import random\n",
    "import matplotlib.pyplot as plt\n",
    "import seaborn as sns\n",
    "sns.distplot(random.exponential(size=1000), hist=False)\n",
    "plt.show()"
   ]
  },
  {
   "cell_type": "markdown",
   "id": "9940d39a-566e-400f-8c23-6fd10d6012b0",
   "metadata": {},
   "source": [
    "#Chi Square Distribution\n",
    "Chi Square distribution is used as a basis to verify the hypothesis.\n",
    "It has two parameters:\n",
    "df - (degree of freedom).\n",
    "size - The shape of the returned array."
   ]
  },
  {
   "cell_type": "code",
   "execution_count": 35,
   "id": "45c374f0-a3f9-4cbf-b792-d4ba034f70d9",
   "metadata": {},
   "outputs": [
    {
     "name": "stdout",
     "output_type": "stream",
     "text": [
      "[[0.18715505 1.74527231 1.60863979]\n",
      " [1.55709826 0.10317062 1.00091395]]\n"
     ]
    }
   ],
   "source": [
    "#ExampleGet your own Python Server\n",
    "Draw out a sample for chi squared distribution with degree of freedom 2 with size 2x3:\n",
    "from numpy import random\n",
    "x = random.chisquare(df=2, size=(2, 3))\n",
    "print(x)"
   ]
  },
  {
   "cell_type": "code",
   "execution_count": 36,
   "id": "710d1fbb-5af6-4f28-b07c-ba9fcaf361cb",
   "metadata": {},
   "outputs": [
    {
     "name": "stderr",
     "output_type": "stream",
     "text": [
      "C:\\Users\\Shree\\AppData\\Local\\Temp\\ipykernel_5780\\2824890621.py:5: UserWarning: \n",
      "\n",
      "`distplot` is a deprecated function and will be removed in seaborn v0.14.0.\n",
      "\n",
      "Please adapt your code to use either `displot` (a figure-level function with\n",
      "similar flexibility) or `kdeplot` (an axes-level function for kernel density plots).\n",
      "\n",
      "For a guide to updating your code to use the new functions, please see\n",
      "https://gist.github.com/mwaskom/de44147ed2974457ad6372750bbe5751\n",
      "\n",
      "  sns.distplot(random.chisquare(df=1, size=1000), hist=False)\n",
      "C:\\Users\\Shree\\anaconda3\\Lib\\site-packages\\seaborn\\_oldcore.py:1119: FutureWarning: use_inf_as_na option is deprecated and will be removed in a future version. Convert inf values to NaN before operating instead.\n",
      "  with pd.option_context('mode.use_inf_as_na', True):\n"
     ]
    },
    {
     "data": {
      "image/png": "[encoded data removed]",
      "text/plain": [
       "<Figure size 640x480 with 1 Axes>"
      ]
     },
     "metadata": {},
     "output_type": "display_data"
    }
   ],
   "source": [
    "#Visualization of Chi Square Distribution\n",
    "Example\n",
    "from numpy import random\n",
    "import matplotlib.pyplot as plt\n",
    "import seaborn as sns\n",
    "sns.distplot(random.chisquare(df=1, size=1000), hist=False)\n",
    "plt.show()"
   ]
  },
  {
   "cell_type": "markdown",
   "id": "d3b4feb3-493c-4743-95fe-4b9081ff90e9",
   "metadata": {},
   "source": [
    "#Rayleigh Distribution\n",
    "Rayleigh distribution is used in signal processing.\n",
    "It has two parameters:\n",
    "scale - (standard deviation) decides how flat the distribution will be default 1.0).\n",
    "size - The shape of the returned array.\n",
    "Similarity Between Rayleigh and Chi Square Distribution\r\n",
    "At unit stddev and 2 degrees of freedom rayleigh and chi square represent the same distributions\n",
    "."
   ]
  },
  {
   "cell_type": "code",
   "execution_count": 37,
   "id": "d63b3bec-d474-42c3-bf5b-e66d840d24b5",
   "metadata": {},
   "outputs": [
    {
     "name": "stdout",
     "output_type": "stream",
     "text": [
      "[[2.27065152 1.37825333 2.03933594]\n",
      " [1.75541926 1.82637514 1.98416634]]\n"
     ]
    }
   ],
   "source": [
    "#ExampleGet your own Python Server\n",
    "Draw out a sample for rayleigh distribution with scale of 2 with size 2x3:\n",
    "from numpy import random\n",
    "x = random.rayleigh(scale=2, size=(2, 3))\n",
    "print(x)"
   ]
  },
  {
   "cell_type": "code",
   "execution_count": 38,
   "id": "f47fa12a-4ddb-4ddc-acb3-80effa23b102",
   "metadata": {},
   "outputs": [
    {
     "name": "stderr",
     "output_type": "stream",
     "text": [
      "C:\\Users\\Shree\\AppData\\Local\\Temp\\ipykernel_5780\\2171748856.py:5: UserWarning: \n",
      "\n",
      "`distplot` is a deprecated function and will be removed in seaborn v0.14.0.\n",
      "\n",
      "Please adapt your code to use either `displot` (a figure-level function with\n",
      "similar flexibility) or `kdeplot` (an axes-level function for kernel density plots).\n",
      "\n",
      "For a guide to updating your code to use the new functions, please see\n",
      "https://gist.github.com/mwaskom/de44147ed2974457ad6372750bbe5751\n",
      "\n",
      "  sns.distplot(random.rayleigh(size=1000), hist=False)\n",
      "C:\\Users\\Shree\\anaconda3\\Lib\\site-packages\\seaborn\\_oldcore.py:1119: FutureWarning: use_inf_as_na option is deprecated and will be removed in a future version. Convert inf values to NaN before operating instead.\n",
      "  with pd.option_context('mode.use_inf_as_na', True):\n"
     ]
    },
    {
     "data": {
      "image/png": "[encoded data removed]",
      "text/plain": [
       "<Figure size 640x480 with 1 Axes>"
      ]
     },
     "metadata": {},
     "output_type": "display_data"
    }
   ],
   "source": [
    "#Visualization of Rayleigh Distribution\n",
    "Example\n",
    "from numpy import random\n",
    "import matplotlib.pyplot as plt\n",
    "import seaborn as sns\n",
    "sns.distplot(random.rayleigh(size=1000), hist=False)\n",
    "plt.show()"
   ]
  },
  {
   "cell_type": "markdown",
   "id": "822e1ec8-9744-443b-8d95-a876b2c7a645",
   "metadata": {},
   "source": [
    "#Pareto Distribution\n",
    "A distribution following Pareto's law i.e. 80-20 distribution (20% factors cause 80% outcome).\n",
    "It has two parameter:\n",
    "a - shape parameter.\n",
    "size - The shape of the returned array."
   ]
  },
  {
   "cell_type": "code",
   "execution_count": 39,
   "id": "57d79fd4-033a-455a-9807-63d2dd9619d7",
   "metadata": {},
   "outputs": [
    {
     "name": "stdout",
     "output_type": "stream",
     "text": [
      "[[7.61025849 0.72367272 1.70793151]\n",
      " [0.37499369 0.70093128 1.07679312]]\n"
     ]
    }
   ],
   "source": [
    "#ExampleGet your own Python Server\n",
    "Draw out a sample for pareto distribution with shape of 2 with size 2x3:\n",
    "from numpy import random\n",
    "x = random.pareto(a=2, size=(2, 3))\n",
    "print(x)"
   ]
  },
  {
   "cell_type": "code",
   "execution_count": 40,
   "id": "63638d4c-6956-48b3-a1e6-8e671b514f3d",
   "metadata": {},
   "outputs": [
    {
     "name": "stderr",
     "output_type": "stream",
     "text": [
      "C:\\Users\\Shree\\AppData\\Local\\Temp\\ipykernel_5780\\2884138889.py:5: UserWarning: \n",
      "\n",
      "`distplot` is a deprecated function and will be removed in seaborn v0.14.0.\n",
      "\n",
      "Please adapt your code to use either `displot` (a figure-level function with\n",
      "similar flexibility) or `histplot` (an axes-level function for histograms).\n",
      "\n",
      "For a guide to updating your code to use the new functions, please see\n",
      "https://gist.github.com/mwaskom/de44147ed2974457ad6372750bbe5751\n",
      "\n",
      "  sns.distplot(random.pareto(a=2, size=1000), kde=False)\n"
     ]
    },
    {
     "data": {
      "image/png": "[encoded data removed]",
      "text/plain": [
       "<Figure size 640x480 with 1 Axes>"
      ]
     },
     "metadata": {},
     "output_type": "display_data"
    }
   ],
   "source": [
    "#Visualization of Pareto Distribution\n",
    "Example\n",
    "from numpy import random\n",
    "import matplotlib.pyplot as plt\n",
    "import seaborn as sns\n",
    "sns.distplot(random.pareto(a=2, size=1000), kde=False)\n",
    "plt.show()"
   ]
  },
  {
   "cell_type": "markdown",
   "id": "4c4c6107-36d0-40e2-9c39-7278698d7a57",
   "metadata": {},
   "source": [
    "#Zipf Distribution\n",
    "Zipf distributions are used to sample data based on zipf's law.\n",
    "Zipf's Law: In a collection, the nth common term is 1/n times of the most common term. E.g. the 5th most common word in English occurs nearly 1/5 times as often as the most common word.\n",
    "It has two parameters:\n",
    "a - distribution parameter.\n",
    "size - The shape of the returned array.\n"
   ]
  },
  {
   "cell_type": "code",
   "execution_count": 41,
   "id": "2f84ac44-9c72-4c4a-bb6b-a8e3cd7ef5e6",
   "metadata": {},
   "outputs": [
    {
     "name": "stdout",
     "output_type": "stream",
     "text": [
      "[[1 1 1]\n",
      " [2 1 1]]\n"
     ]
    }
   ],
   "source": [
    "#ExampleGet your own Python Server\n",
    "Draw out a sample for zipf distribution with distribution parameter 2 with size 2x3:\n",
    "from numpy import random\n",
    "x = random.zipf(a=2, size=(2, 3))\n",
    "print(x)"
   ]
  },
  {
   "cell_type": "code",
   "execution_count": 42,
   "id": "2aece657-f7f0-4932-8a31-2c49be5ff90b",
   "metadata": {},
   "outputs": [
    {
     "name": "stderr",
     "output_type": "stream",
     "text": [
      "C:\\Users\\Shree\\AppData\\Local\\Temp\\ipykernel_5780\\1875024431.py:5: UserWarning: \n",
      "\n",
      "`distplot` is a deprecated function and will be removed in seaborn v0.14.0.\n",
      "\n",
      "Please adapt your code to use either `displot` (a figure-level function with\n",
      "similar flexibility) or `histplot` (an axes-level function for histograms).\n",
      "\n",
      "For a guide to updating your code to use the new functions, please see\n",
      "https://gist.github.com/mwaskom/de44147ed2974457ad6372750bbe5751\n",
      "\n",
      "  sns.distplot(x[x<10], kde=False)\n"
     ]
    },
    {
     "data": {
      "image/png": "[encoded data removed]",
      "text/plain": [
       "<Figure size 640x480 with 1 Axes>"
      ]
     },
     "metadata": {},
     "output_type": "display_data"
    }
   ],
   "source": [
    "#Visualization of Zipf Distribution\n",
    "Sample 1000 points but plotting only ones with value < 10 for more meaningful chart.\n",
    "Example\n",
    "from numpy import random\n",
    "import matplotlib.pyplot as plt\n",
    "import seaborn as sns\n",
    "x = random.zipf(a=2, size=1000)\n",
    "sns.distplot(x[x<10], kde=False)\n",
    "plt.show()"
   ]
  },
  {
   "cell_type": "markdown",
   "id": "a9a3c7b8-e6bf-43ac-a7e2-dc99d91fec0a",
   "metadata": {},
   "source": [
    "#What are ufuncs?\n",
    "ufuncs stands for \"Universal Functions\" and they are NumPy functions that operate on the ndarray object.\n",
    "Why use ufuncs?\n",
    "ufuncs are used to implement vectorization in NumPy which is way faster than iterating over elements.\n",
    "They also provide broadcasting and additional methods like reduce, accumulate etc. that are very helpful for computation.\n",
    "ufuncs also take additional arguments, like:\n",
    "where boolean array or condition defining where the operations should take place.\n",
    "dtype defining the return type of elements.\n",
    "out output array where the return value should be copied.\n",
    "What is Vectorization?\n",
    "Converting iterative statements into a vector based operation is called vectorization.\n",
    "It is faster as modern CPUs are optimized for such operations.\n",
    "Add the Elements of Two Lists\n",
    "list 1: [1, 2, 3, 4]\n",
    "list 2: [4, 5, 6, 7]\n",
    "One way of doing it is to iterate over both of the lists and then sum each elements.\n",
    "NumPy has a ufunc for this, called add(x, y) that will produce the same result."
   ]
  },
  {
   "cell_type": "code",
   "execution_count": 1,
   "id": "542222c6-a57e-4a05-9cfd-5aba3deac5e6",
   "metadata": {},
   "outputs": [
    {
     "name": "stdout",
     "output_type": "stream",
     "text": [
      "[ 5  7  9 11]\n"
     ]
    }
   ],
   "source": [
    "#Example\n",
    "With ufunc, we can use the add() function:\n",
    "import numpy as np\n",
    "x = [1, 2, 3, 4]\n",
    "y = [4, 5, 6, 7]\n",
    "z = np.add(x, y)\n",
    "print(z)"
   ]
  },
  {
   "cell_type": "markdown",
   "id": "7fa38b14-a5f4-4ae9-970b-7ae1be115249",
   "metadata": {},
   "source": [
    "#How To Create Your Own ufunc\n",
    "To create your own ufunc, you have to define a function, like you do with normal functions in Python, then you add it to your NumPy ufunc library with the frompyfunc() method.\n",
    "\n",
    "The frompyfunc() method takes the following arguments:\n",
    "\n",
    "function - the name of the function.\n",
    "inputs - the number of input arguments (arrays).\n",
    "outputs - the number of output arrays.\n",
    "Check if a Function is a ufunc\r\n",
    "Check the type of a function to check if it is a ufunc or not.\r\n",
    "\r\n",
    "A ufunc should return <class 'numpy.ufunc\n",
    "If it is not a ufunc, it will return another type, like this built-in NumPy function for joining two or more arrays:\n",
    "If the function is not recognized at all, it will return an error:\n",
    "To test if the function is a ufunc in an if statement, use the numpy.ufu\n",
    "nc value (or np.ufunc if you use np as an alias for numpy):To test if the function is a ufunc in an if statement, use the numpy.ufunc value (or np.ufunc if you use np as an alias for numpy):\n",
    "'>."
   ]
  },
  {
   "cell_type": "code",
   "execution_count": 2,
   "id": "001ac2da-c7c7-4cca-b96c-eb57a690af90",
   "metadata": {},
   "outputs": [
    {
     "name": "stdout",
     "output_type": "stream",
     "text": [
      "[6 8 10 12]\n"
     ]
    }
   ],
   "source": [
    "#ExampleGet your own Python Server\n",
    "Create your own ufunc for addition:\n",
    "import numpy as np\n",
    "def myadd(x, y):\n",
    "  return x+y\n",
    "myadd = np.frompyfunc(myadd, 2, 1)\n",
    "print(myadd([1, 2, 3, 4], [5, 6, 7, 8]))"
   ]
  },
  {
   "cell_type": "code",
   "execution_count": 4,
   "id": "91d8c973-012e-4bcb-a20a-6e851133f138",
   "metadata": {},
   "outputs": [
    {
     "name": "stdout",
     "output_type": "stream",
     "text": [
      "<class 'numpy.ufunc'>\n"
     ]
    }
   ],
   "source": [
    "Example\n",
    "Check if a function is a ufunc:\n",
    "import numpy as np\n",
    "print(type(np.add))"
   ]
  },
  {
   "cell_type": "code",
   "execution_count": 5,
   "id": "aaa92b41-1e6f-4b16-9ae5-8d3763938ad9",
   "metadata": {},
   "outputs": [
    {
     "name": "stdout",
     "output_type": "stream",
     "text": [
      "<class 'numpy._ArrayFunctionDispatcher'>\n"
     ]
    }
   ],
   "source": [
    "#Example\n",
    "Check the type of another function: concatenate():\n",
    "import numpy as np\n",
    "print(type(np.concatenate))"
   ]
  },
  {
   "cell_type": "code",
   "execution_count": 8,
   "id": "3bd61fe5-b82b-45ef-b9eb-ffb2034760ca",
   "metadata": {},
   "outputs": [
    {
     "name": "stdout",
     "output_type": "stream",
     "text": [
      "add is ufunc\n"
     ]
    }
   ],
   "source": [
    "#Example\n",
    "Use an if statement to check if the function is a ufunc or not:\n",
    "import numpy as np\n",
    "if type(np.add) == np.ufunc:\n",
    "  print('add is ufunc')\n",
    "else:\n",
    "  print('add is not ufunc')"
   ]
  },
  {
   "cell_type": "markdown",
   "id": "7c5e02c7-16cc-43e5-a0ff-b750bb4b343d",
   "metadata": {},
   "source": [
    "#Simple Arithmetic\n",
    "You could use arithmetic operators + - * / directly between NumPy arrays, but this section discusses an extension of the same where we have functions that can take any array-like objects e.g. lists, tuples etc. and perform arithmetic conditionally.\n",
    "Arithmetic Conditionally: means that we can define conditions where the arithmetic operation should happen.\n",
    "All of the discussed arithmetic functions take a where parameter in which we can specify that condition.\n",
    "#Addition\n",
    "The add() function sums the content of two arrays, and return the results in a new array.\n",
    "#Subtraction\n",
    "The subtract() function subtracts the values from one array with the values from another array, and return \n",
    "the results in a new array.\n",
    "#Multiplication\n",
    "The multiply() function multiplies the values from one array with the values from another array, and return the \n",
    "results in a new array.\n",
    "#Division\n",
    "The divide() function divides the values from one array with the values from another array, and return \n",
    "the results in a new array.\n",
    "#Power\n",
    "The power() function rises the values from the first array to the power of the values of the second array, and return \n",
    "the results in a new array.\n",
    "#Remainder\n",
    "Both the mod() and the remainder() functions return the remainder of the values in the first array corresponding \n",
    "to the values in the second array, and return the results in a new array.\n",
    "#Quotient and Mod\n",
    "The divmod() function return both the quotient and the the mod. The return value is two arrays, the first array \n",
    "contains the quotient and second array contains the mod.\n",
    "#Absolute Values\n",
    "Both the absolute() and the abs() functions do the same absolute operation element-wise but we should use absolute()\n",
    "to avoid confusion with python's inbuilt math.abs()\n",
    "\n"
   ]
  },
  {
   "cell_type": "code",
   "execution_count": 9,
   "id": "0308129d-af04-4076-99c8-19f39abeb325",
   "metadata": {},
   "outputs": [
    {
     "name": "stdout",
     "output_type": "stream",
     "text": [
      "[30 32 34 36 38 40]\n"
     ]
    }
   ],
   "source": [
    "#ExampleGet your own Python Server\n",
    "Add the values in arr1 to the values in arr2:\n",
    "import numpy as np\n",
    "arr1 = np.array([10, 11, 12, 13, 14, 15])\n",
    "arr2 = np.array([20, 21, 22, 23, 24, 25])\n",
    "newarr = np.add(arr1, arr2)\n",
    "print(newarr)"
   ]
  },
  {
   "cell_type": "code",
   "execution_count": 10,
   "id": "0a2b3b4f-288e-43ef-8394-b3173b2fe9a7",
   "metadata": {},
   "outputs": [
    {
     "name": "stdout",
     "output_type": "stream",
     "text": [
      "[-10  -1   8  17  26  35]\n"
     ]
    }
   ],
   "source": [
    "Example\n",
    "Subtract the values in arr2 from the values in arr1:\n",
    "import numpy as np\n",
    "arr1 = np.array([10, 20, 30, 40, 50, 60])\n",
    "arr2 = np.array([20, 21, 22, 23, 24, 25])\n",
    "newarr = np.subtract(arr1, arr2)\n",
    "print(newarr)"
   ]
  },
  {
   "cell_type": "code",
   "execution_count": 11,
   "id": "116e9cbe-8c52-4cbe-98bc-3e7516ad877b",
   "metadata": {},
   "outputs": [
    {
     "name": "stdout",
     "output_type": "stream",
     "text": [
      "[ 200  420  660  920 1200 1500]\n"
     ]
    }
   ],
   "source": [
    "#Example\n",
    "Multiply the values in arr1 with the values in arr2:\n",
    "import numpy as np\n",
    "arr1 = np.array([10, 20, 30, 40, 50, 60])\n",
    "arr2 = np.array([20, 21, 22, 23, 24, 25])\n",
    "newarr = np.multiply(arr1, arr2)\n",
    "print(newarr)"
   ]
  },
  {
   "cell_type": "code",
   "execution_count": 12,
   "id": "88186f5d-6015-416a-a1e3-2384ac82636d",
   "metadata": {},
   "outputs": [
    {
     "name": "stdout",
     "output_type": "stream",
     "text": [
      "[ 3.33333333  4.          3.          5.         25.          1.81818182]\n"
     ]
    }
   ],
   "source": [
    "#Example\n",
    "Divide the values in arr1 with the values in arr2:\n",
    "import numpy as np\n",
    "arr1 = np.array([10, 20, 30, 40, 50, 60])\n",
    "arr2 = np.array([3, 5, 10, 8, 2, 33])\n",
    "newarr = np.divide(arr1, arr2)\n",
    "print(newarr)"
   ]
  },
  {
   "cell_type": "code",
   "execution_count": 13,
   "id": "41ae7414-999a-4bac-af3f-f2455cbe62e7",
   "metadata": {},
   "outputs": [
    {
     "name": "stdout",
     "output_type": "stream",
     "text": [
      "[      1000    3200000  729000000 -520093696       2500          0]\n"
     ]
    }
   ],
   "source": [
    "#Example\n",
    "Raise the valules in arr1 to the power of values in arr2:\n",
    "import numpy as np\n",
    "arr1 = np.array([10, 20, 30, 40, 50, 60])\n",
    "arr2 = np.array([3, 5, 6, 8, 2, 33])\n",
    "newarr = np.power(arr1, arr2)\n",
    "print(newarr)"
   ]
  },
  {
   "cell_type": "code",
   "execution_count": 14,
   "id": "c7207b9b-d313-461e-9d34-21c248243a49",
   "metadata": {},
   "outputs": [
    {
     "name": "stdout",
     "output_type": "stream",
     "text": [
      "[ 1  6  3  0  0 27]\n"
     ]
    }
   ],
   "source": [
    "#Example\n",
    "Return the remainders:\n",
    "import numpy as np\n",
    "arr1 = np.array([10, 20, 30, 40, 50, 60])\n",
    "arr2 = np.array([3, 7, 9, 8, 2, 33])\n",
    "newarr = np.mod(arr1, arr2)\n",
    "print(newarr)"
   ]
  },
  {
   "cell_type": "code",
   "execution_count": 15,
   "id": "79139e76-f9fd-4012-8ede-985968d0a31b",
   "metadata": {},
   "outputs": [
    {
     "name": "stdout",
     "output_type": "stream",
     "text": [
      "(array([ 3,  2,  3,  5, 25,  1]), array([ 1,  6,  3,  0,  0, 27]))\n"
     ]
    }
   ],
   "source": [
    "#Example\n",
    "Return the quotient and mod:\n",
    "import numpy as np\n",
    "arr1 = np.array([10, 20, 30, 40, 50, 60])\n",
    "arr2 = np.array([3, 7, 9, 8, 2, 33])\n",
    "newarr = np.divmod(arr1, arr2)\n",
    "print(newarr)"
   ]
  },
  {
   "cell_type": "code",
   "execution_count": 16,
   "id": "4328b52b-6413-48a4-a17f-4630a456abd0",
   "metadata": {},
   "outputs": [
    {
     "name": "stdout",
     "output_type": "stream",
     "text": [
      "[1 2 1 2 3 4]\n"
     ]
    }
   ],
   "source": [
    "import numpy as np\n",
    "arr = np.array([-1, -2, 1, 2, 3, -4])\n",
    "newarr = np.absolute(arr)\n",
    "print(newarr)"
   ]
  },
  {
   "cell_type": "markdown",
   "id": "a796771d-de7a-4c87-b931-471b5dfe5cd0",
   "metadata": {},
   "source": [
    "#Rounding Decimals\n",
    "There are primarily five ways of rounding off decimals in NumPy:\n",
    "truncation\n",
    "fix\n",
    "rounding\n",
    "floor\n",
    "ceil"
   ]
  },
  {
   "cell_type": "code",
   "execution_count": 17,
   "id": "42167f30-abe9-4850-b1fc-e487d9046f9c",
   "metadata": {},
   "outputs": [
    {
     "name": "stdout",
     "output_type": "stream",
     "text": [
      "[-3.  3.]\n"
     ]
    }
   ],
   "source": [
    "#Truncation\n",
    "Remove the decimals, and return the float number closest to zero. Use the trunc() and fix() functions.\n",
    "Example\n",
    "Truncate elements of following array:\n",
    "import numpy as np\n",
    "arr = np.trunc([-3.1666, 3.6667])\n",
    "print(arr)"
   ]
  },
  {
   "cell_type": "code",
   "execution_count": 18,
   "id": "db887957-9933-4ca8-81f6-2b5a98a03dd8",
   "metadata": {},
   "outputs": [
    {
     "name": "stdout",
     "output_type": "stream",
     "text": [
      "3.17\n"
     ]
    }
   ],
   "source": [
    "#Rounding\n",
    "The around() function increments preceding digit or decimal by 1 if >=5 else do nothing.\n",
    "E.g. round off to 1 decimal point, 3.16666 is 3.2\n",
    "Example\n",
    "Round off 3.1666 to 2 decimal places:\n",
    "import numpy as np\n",
    "arr = np.around(3.1666, 2)\n",
    "print(arr)"
   ]
  },
  {
   "cell_type": "code",
   "execution_count": 19,
   "id": "af4db2b0-c853-4e4b-94ba-e64ae299ad7e",
   "metadata": {},
   "outputs": [
    {
     "name": "stdout",
     "output_type": "stream",
     "text": [
      "[-4.  3.]\n"
     ]
    }
   ],
   "source": [
    "#Floor\n",
    "The floor() function rounds off decimal to nearest lower integer.\n",
    "E.g. floor of 3.166 is 3.\n",
    "Example\n",
    "Floor the elements of following array:\n",
    "import numpy as np\n",
    "arr = np.floor([-3.1666, 3.6667])\n",
    "print(arr)\n"
   ]
  },
  {
   "cell_type": "code",
   "execution_count": 20,
   "id": "3d1ef5b8-d8b4-428c-a188-97d04affe027",
   "metadata": {},
   "outputs": [
    {
     "name": "stdout",
     "output_type": "stream",
     "text": [
      "[-3.  4.]\n"
     ]
    }
   ],
   "source": [
    "#Ceil\n",
    "The ceil() function rounds off decimal to nearest upper integer.\n",
    "E.g. ceil of 3.166 is 4.\n",
    "Example\n",
    "Ceil the elements of following array:\n",
    "import numpy as np\n",
    "arr = np.ceil([-3.1666, 3.6667])\n",
    "print(arr)"
   ]
  },
  {
   "cell_type": "markdown",
   "id": "aaf8fc33-feab-4153-99da-6928b2e80b1d",
   "metadata": {},
   "source": [
    "#Logs\n",
    "NumPy provides functions to perform log at the base 2, e and 10.\n",
    "We will also explore how we can take log for any base by creating a custom ufunc.\n",
    "All of the log functions will place -inf or inf in the elements if the log can not be computed.\n",
    "#Log at Base 2\n",
    "Use the log2() function to perform log at the base 2.\n",
    "Note: The arange(1, 10) function returns an array with integers starting from 1 (included) to 10 (not included).\n",
    "#Log at Base 10\r\n",
    "Use the log10() function to perform log at the base 10\n",
    "Natural Log, or Log at Base e\r\n",
    "Use the log() function to perform log at the base e.#Log at Any Base\r\n",
    "NumPy does not provide any function to take log at any base, so we can use the frompyfunc() function along with inbuilt function math.log() with two input parameters and one output parameter:.\n"
   ]
  },
  {
   "cell_type": "code",
   "execution_count": 21,
   "id": "11e94f18-9545-462e-ae09-8d06675ae2cd",
   "metadata": {},
   "outputs": [
    {
     "name": "stdout",
     "output_type": "stream",
     "text": [
      "[0.         1.         1.5849625  2.         2.32192809 2.5849625\n",
      " 2.80735492 3.         3.169925  ]\n"
     ]
    }
   ],
   "source": [
    "#ExampleGet your own Python Server\n",
    "Find log at base 2 of all elements of following array:\n",
    "import numpy as np\n",
    "\n",
    "arr = np.arange(1, 10)\n",
    "\n",
    "print(np.log2(arr))"
   ]
  },
  {
   "cell_type": "code",
   "execution_count": 22,
   "id": "306d6787-4e11-471f-be26-474cce108283",
   "metadata": {},
   "outputs": [
    {
     "name": "stdout",
     "output_type": "stream",
     "text": [
      "[0.         0.30103    0.47712125 0.60205999 0.69897    0.77815125\n",
      " 0.84509804 0.90308999 0.95424251]\n"
     ]
    }
   ],
   "source": [
    "#Example\n",
    "Find log at base 10 of all elements of following array:\n",
    "import numpy as np\n",
    "\n",
    "arr = np.arange(1, 10)\n",
    "\n",
    "print(np.log10(arr))"
   ]
  },
  {
   "cell_type": "code",
   "execution_count": 23,
   "id": "1330b185-7f18-480a-9667-708933e5502d",
   "metadata": {},
   "outputs": [
    {
     "name": "stdout",
     "output_type": "stream",
     "text": [
      "[0.         0.69314718 1.09861229 1.38629436 1.60943791 1.79175947\n",
      " 1.94591015 2.07944154 2.19722458]\n"
     ]
    }
   ],
   "source": [
    "#Example\n",
    "Find log at base e of all elements of following array:\n",
    "import numpy as np\n",
    "\n",
    "arr = np.arange(1, 10)\n",
    "\n",
    "print(np.log(arr))"
   ]
  },
  {
   "cell_type": "code",
   "execution_count": 24,
   "id": "3f6422df-7747-470a-b6c3-639b8c3437ed",
   "metadata": {},
   "outputs": [
    {
     "name": "stdout",
     "output_type": "stream",
     "text": [
      "1.7005483074552052\n"
     ]
    }
   ],
   "source": [
    "#Example\n",
    "from math import log\n",
    "import numpy as np\n",
    "\n",
    "nplog = np.frompyfunc(log, 2, 1)\n",
    "\n",
    "print(nplog(100, 15))"
   ]
  },
  {
   "cell_type": "markdown",
   "id": "08cfa9de-f9a0-4e01-b9a1-50478a4c9c42",
   "metadata": {},
   "source": [
    "#Summations\n",
    "What is the difference between summation and addition?\n",
    "addition is done between two arguments whereas summation happens over n elements.\n",
    "#Summation Over an Axis\r\n",
    "If you specify axis=1, NumPy will sum the numbers in each array\n",
    "#Cummulative Sum\r\n",
    "Cummulative sum means partially adding the elements in array.\n",
    "\r\n",
    "E.g. The partial sum of [1, 2, 3, 4] would be [1, 1+2, 1+2+3, 1+2+3+4] = [1, 3, 6, 10.\r\n",
    "\r\n",
    "Perfom partial sum with the cumsum() func\n",
    "tion.."
   ]
  },
  {
   "cell_type": "code",
   "execution_count": 25,
   "id": "7323478b-9996-4ee2-b07c-6b56b7d31f8d",
   "metadata": {},
   "outputs": [
    {
     "name": "stdout",
     "output_type": "stream",
     "text": [
      "[2 4 6]\n"
     ]
    }
   ],
   "source": [
    "#ExampleGet your own Python Server\n",
    "Add the values in arr1 to the values in arr2:\n",
    "import numpy as np\n",
    "arr1 = np.array([1, 2, 3])\n",
    "arr2 = np.array([1, 2, 3])\n",
    "newarr = np.add(arr1, arr2)\n",
    "print(newarr)"
   ]
  },
  {
   "cell_type": "code",
   "execution_count": 26,
   "id": "fc699b40-d242-4e6f-be86-19c5ba78707c",
   "metadata": {},
   "outputs": [
    {
     "name": "stdout",
     "output_type": "stream",
     "text": [
      "12\n"
     ]
    }
   ],
   "source": [
    "#Example\n",
    "Sum the values in arr1 and the values in arr2:\n",
    "import numpy as np\n",
    "arr1 = np.array([1, 2, 3])\n",
    "arr2 = np.array([1, 2, 3])\n",
    "newarr = np.sum([arr1, arr2])\n",
    "print(newarr)"
   ]
  },
  {
   "cell_type": "code",
   "execution_count": 27,
   "id": "5533111e-bda9-492a-bbe0-09cd9b587106",
   "metadata": {},
   "outputs": [
    {
     "name": "stdout",
     "output_type": "stream",
     "text": [
      "[6 6]\n"
     ]
    }
   ],
   "source": [
    "#Example\n",
    "Perform summation in the following array over 1st axis:\n",
    "import numpy as np\n",
    "arr1 = np.array([1, 2, 3])\n",
    "arr2 = np.array([1, 2, 3])\n",
    "newarr = np.sum([arr1, arr2], axis=1)\n",
    "print(newarr)"
   ]
  },
  {
   "cell_type": "code",
   "execution_count": 28,
   "id": "cebfbf84-3145-4662-8b6c-2573413f9b4b",
   "metadata": {},
   "outputs": [
    {
     "name": "stdout",
     "output_type": "stream",
     "text": [
      "[1 3 6]\n"
     ]
    }
   ],
   "source": [
    "#Example\n",
    "Perform cummulative summation in the following array:\n",
    "import numpy as np\n",
    "arr = np.array([1, 2, 3])\n",
    "newarr = np.cumsum(arr)\n",
    "print(newarr)"
   ]
  },
  {
   "cell_type": "markdown",
   "id": "1b7401e8-705d-43a0-9c82-06b607639afe",
   "metadata": {},
   "source": [
    "#Products\n",
    "To find the product of the elements in an array, use the prod() function.\n",
    "#Product Over an Axis\n",
    "If you specify axis=1, NumPy will return the product of each array.\n",
    "#Cummulative Product\n",
    "Cummulative product means taking the product partially.\n",
    "E.g. The partial product of [1, 2, 3, 4] is [1, 1*2, 1*2*3, 1*2*3*4] = [1, 2, 6, 24]\n",
    "Perfom partial sum with the cumprod() function.\n"
   ]
  },
  {
   "cell_type": "code",
   "execution_count": 29,
   "id": "3360a20c-a018-4a60-a1b3-201ea4a1de26",
   "metadata": {},
   "outputs": [
    {
     "name": "stdout",
     "output_type": "stream",
     "text": [
      "24\n"
     ]
    }
   ],
   "source": [
    "#ExampleGet your own Python Server\n",
    "Find the product of the elements of this array:\n",
    "import numpy as np\n",
    "arr = np.array([1, 2, 3, 4])\n",
    "x = np.prod(arr)\n",
    "print(x)"
   ]
  },
  {
   "cell_type": "code",
   "execution_count": 30,
   "id": "20ce476b-de86-4ea0-bd61-fa5bb9924eed",
   "metadata": {},
   "outputs": [
    {
     "name": "stdout",
     "output_type": "stream",
     "text": [
      "40320\n"
     ]
    }
   ],
   "source": [
    "#Example\n",
    "Find the product of the elements of two arrays:\n",
    "import numpy as np\n",
    "arr1 = np.array([1, 2, 3, 4])\n",
    "arr2 = np.array([5, 6, 7, 8])\n",
    "x = np.prod([arr1, arr2])\n",
    "print(x)"
   ]
  },
  {
   "cell_type": "code",
   "execution_count": 31,
   "id": "df58c2ee-7d3d-4cc3-bce2-9231954af71a",
   "metadata": {},
   "outputs": [
    {
     "name": "stdout",
     "output_type": "stream",
     "text": [
      "[  24 1680]\n"
     ]
    }
   ],
   "source": [
    "#Example\n",
    "Perform summation in the following array over 1st axis\n",
    "import numpy as np\n",
    "arr1 = np.array([1, 2, 3, 4])\n",
    "arr2 = np.array([5, 6, 7, 8])\n",
    "newarr = np.prod([arr1, arr2], axis=1)\n",
    "print(newarr)"
   ]
  },
  {
   "cell_type": "code",
   "execution_count": 32,
   "id": "c9bae35c-afe0-4f74-8e85-1a0da551db16",
   "metadata": {},
   "outputs": [
    {
     "name": "stdout",
     "output_type": "stream",
     "text": [
      "[   5   30  210 1680]\n"
     ]
    }
   ],
   "source": [
    "#Example\n",
    "Take cummulative product of all elements for following array:\n",
    "import numpy as np\n",
    "arr = np.array([5, 6, 7, 8])\n",
    "newarr = np.cumprod(arr)\n",
    "print(newarr)"
   ]
  },
  {
   "cell_type": "markdown",
   "id": "362da86e-fa3a-4d37-9631-fc20a078f193",
   "metadata": {},
   "source": [
    "#Differences\n",
    "A discrete difference means subtracting two successive elements.\n",
    "E.g. for [1, 2, 3, 4], the discrete difference would be [2-1, 3-2, 4-3] = [1, 1, 1]\n",
    "To find the discrete difference, use the diff() function.\n"
   ]
  },
  {
   "cell_type": "code",
   "execution_count": 33,
   "id": "14350a44-8fb0-4645-86af-229bd8987c04",
   "metadata": {},
   "outputs": [
    {
     "name": "stdout",
     "output_type": "stream",
     "text": [
      "[  5  10 -20]\n"
     ]
    }
   ],
   "source": [
    "#ExampleGet your own Python Server\n",
    "Compute discrete difference of the following array:\n",
    "import numpy as np\n",
    "arr = np.array([10, 15, 25, 5])\n",
    "newarr = np.diff(arr)\n",
    "print(newarr)"
   ]
  },
  {
   "cell_type": "code",
   "execution_count": 34,
   "id": "95916aaa-07f4-495a-9bc0-cb813919ad0a",
   "metadata": {},
   "outputs": [
    {
     "name": "stdout",
     "output_type": "stream",
     "text": [
      "[  5 -30]\n"
     ]
    }
   ],
   "source": [
    "#Example\n",
    "Compute discrete difference of the following array twice:\n",
    "import numpy as np\n",
    "arr = np.array([10, 15, 25, 5])\n",
    "newarr = np.diff(arr, n=2)\n",
    "print(newarr)"
   ]
  },
  {
   "cell_type": "markdown",
   "id": "f664b464-30d9-4f91-be70-90177b177f88",
   "metadata": {},
   "source": [
    "#Finding LCM (Lowest Common Multiple)\n",
    "The Lowest Common Multiple is the smallest number that is a common multiple of two numbers.\n",
    "#Finding LCM in Arrays\n",
    "To find the Lowest Common Multiple of all values in an array, you can use the reduce() method.\n",
    "The reduce() method will use the ufunc, in this case the lcm() function, on each element, and \n",
    "reduce the array by one dimension."
   ]
  },
  {
   "cell_type": "code",
   "execution_count": 35,
   "id": "a804c3c9-5be6-4f8f-b9c1-a7307c1fe5e6",
   "metadata": {},
   "outputs": [
    {
     "name": "stdout",
     "output_type": "stream",
     "text": [
      "12\n"
     ]
    }
   ],
   "source": [
    "#Find the LCM of the following two numbers:\n",
    "import numpy as np\n",
    "num1 = 4\n",
    "num2 = 6\n",
    "x = np.lcm(num1, num2)\n",
    "print(x)"
   ]
  },
  {
   "cell_type": "code",
   "execution_count": 36,
   "id": "b9fafc96-2b4a-40dd-8f55-9e13fdfa7cc6",
   "metadata": {},
   "outputs": [
    {
     "name": "stdout",
     "output_type": "stream",
     "text": [
      "18\n"
     ]
    }
   ],
   "source": [
    "#Example\n",
    "Find the LCM of the values of the following array:\n",
    "import numpy as np\n",
    "arr = np.array([3, 6, 9])\n",
    "x = np.lcm.reduce(arr)\n",
    "print(x)"
   ]
  },
  {
   "cell_type": "code",
   "execution_count": 37,
   "id": "83f3e9b6-2630-4671-8905-be0c76d34c06",
   "metadata": {},
   "outputs": [
    {
     "name": "stdout",
     "output_type": "stream",
     "text": [
      "2520\n"
     ]
    }
   ],
   "source": [
    "#Example\n",
    "Find the LCM of all values of an array where the array contains all integers from 1 to 10:\n",
    "import numpy as np\n",
    "arr = np.arange(1, 11)\n",
    "x = np.lcm.reduce(arr)\n",
    "print(x)"
   ]
  },
  {
   "cell_type": "markdown",
   "id": "0ae1ee0d-416e-42de-9168-74530b83540a",
   "metadata": {},
   "source": [
    "#Finding GCD (Greatest Common Denominator)\n",
    "The GCD (Greatest Common Denominator), also known as HCF (Highest Common Factor) is the biggest number \n",
    "that is a common factor of both of the numbers.\n",
    "#Finding GCD in Arrays\n",
    "To find the Highest Common Factor of all values in an array, you can use the reduce() method.\n",
    "The reduce() method will use the ufunc, in this case the gcd() function, on each element, and \n",
    "reduce the array by one dimension."
   ]
  },
  {
   "cell_type": "code",
   "execution_count": 38,
   "id": "5afe9bc8-4ad2-4d72-bfb4-74ca4e447520",
   "metadata": {},
   "outputs": [
    {
     "name": "stdout",
     "output_type": "stream",
     "text": [
      "4\n"
     ]
    }
   ],
   "source": [
    "#Example\n",
    "Find the GCD for all of the numbers in the following array:\n",
    "import numpy as np\n",
    "arr = np.array([20, 8, 32, 36, 16])\n",
    "x = np.gcd.reduce(arr)\n",
    "print(x)"
   ]
  },
  {
   "cell_type": "code",
   "execution_count": 39,
   "id": "44b035c3-fa44-4151-b88d-efcac60f2db0",
   "metadata": {},
   "outputs": [
    {
     "name": "stdout",
     "output_type": "stream",
     "text": [
      "3\n"
     ]
    }
   ],
   "source": [
    "#ExampleGet your own Python Server\n",
    "Find the HCF of the following two numbers:\n",
    "import numpy as np\n",
    "num1 = 6\n",
    "num2 = 9\n",
    "x = np.gcd(num1, num2)\n",
    "print(x)"
   ]
  },
  {
   "cell_type": "markdown",
   "id": "653655b8-097a-47bb-8766-59f20fe3bb58",
   "metadata": {},
   "source": [
    "#Trigonometric Functions\n",
    "NumPy provides the ufuncs sin(), cos() and tan() that take values in radians and produce the \n",
    "corresponding sin, cos and tan values.\n",
    "#Convert Degrees Into Radians\r\n",
    "By default all of the trigonometric functions take radians as parameters but we can convert radians to degrees and vice versa as well in NumPy\n",
    "Note: radians values are pi/180 * degree_values.\n",
    "#Finding Angles\r\n",
    "Finding angles from values of sine, cos, tan. E.g. sin, cos and tan inverse (arcsin, arccos, arctan).\n",
    "\r\n",
    "NumPy provides ufuncs arcsin(), arccos() and arctan() that produce radian values for corresponding sin, cos and tan values giv\n",
    "#Hypotenues\r\n",
    "Finding hypotenues using pythagoras theorem in NumPy.\n",
    "\r\n",
    "NumPy provides the hypot() function that takes the base and perpendicular values and produces hypotenues based on pythagoras theorem.en..\n"
   ]
  },
  {
   "cell_type": "code",
   "execution_count": 40,
   "id": "d76ed345-3b84-46a8-89aa-e4266fa9e839",
   "metadata": {},
   "outputs": [
    {
     "name": "stdout",
     "output_type": "stream",
     "text": [
      "1.0\n"
     ]
    }
   ],
   "source": [
    "#ExampleGet your own Python Server\n",
    "Find sine value of PI/2:\n",
    "import numpy as np\n",
    "x = np.sin(np.pi/2)\n",
    "print(x)"
   ]
  },
  {
   "cell_type": "code",
   "execution_count": 41,
   "id": "64fac1c9-29e2-473d-a29a-05bede15c6d4",
   "metadata": {},
   "outputs": [
    {
     "name": "stdout",
     "output_type": "stream",
     "text": [
      "[1.         0.8660254  0.70710678 0.58778525]\n"
     ]
    }
   ],
   "source": [
    "#Example\n",
    "Find sine values for all of the values in arr:\n",
    "import numpy as np\n",
    "arr = np.array([np.pi/2, np.pi/3, np.pi/4, np.pi/5])\n",
    "x = np.sin(arr)\n",
    "print(x)"
   ]
  },
  {
   "cell_type": "code",
   "execution_count": 42,
   "id": "1fd37618-f840-4bab-9b5f-60bc673558b6",
   "metadata": {},
   "outputs": [
    {
     "name": "stdout",
     "output_type": "stream",
     "text": [
      "[1.57079633 3.14159265 4.71238898 6.28318531]\n"
     ]
    }
   ],
   "source": [
    "#Example\n",
    "Convert all of the values in following array arr to radians:\n",
    "import numpy as np\n",
    "arr = np.array([90, 180, 270, 360])\n",
    "x = np.deg2rad(arr)\n",
    "print(x)"
   ]
  },
  {
   "cell_type": "code",
   "execution_count": 43,
   "id": "c3a86e0c-6857-4447-803a-47d66e550430",
   "metadata": {},
   "outputs": [
    {
     "name": "stdout",
     "output_type": "stream",
     "text": [
      "[ 90. 180. 270. 360.]\n"
     ]
    }
   ],
   "source": [
    "#Radians to Degrees\n",
    "Example\n",
    "Convert all of the values in following array arr to degrees:\n",
    "import numpy as np\n",
    "arr = np.array([np.pi/2, np.pi, 1.5*np.pi, 2*np.pi])\n",
    "x = np.rad2deg(arr)\n",
    "print(x)"
   ]
  },
  {
   "cell_type": "code",
   "execution_count": 44,
   "id": "0f525685-939b-4ceb-8653-4c5ac255a02b",
   "metadata": {},
   "outputs": [
    {
     "name": "stdout",
     "output_type": "stream",
     "text": [
      "1.5707963267948966\n"
     ]
    }
   ],
   "source": [
    "#Example\n",
    "Find the angle of 1.0:\n",
    "import numpy as np\n",
    "x = np.arcsin(1.0)\n",
    "print(x)"
   ]
  },
  {
   "cell_type": "code",
   "execution_count": 45,
   "id": "5d2150e1-b414-4a90-b1f6-fbf118ae8e22",
   "metadata": {},
   "outputs": [
    {
     "name": "stdout",
     "output_type": "stream",
     "text": [
      "[ 1.57079633 -1.57079633  0.10016742]\n"
     ]
    }
   ],
   "source": [
    "#Angles of Each Value in Arrays\n",
    "Example\n",
    "Find the angle for all of the sine values in the array\n",
    "import numpy as np\n",
    "arr = np.array([1, -1, 0.1])\n",
    "x = np.arcsin(arr)\n",
    "print(x)"
   ]
  },
  {
   "cell_type": "code",
   "execution_count": 46,
   "id": "e69e8d4e-904a-428c-971d-cc70ccc371b0",
   "metadata": {},
   "outputs": [
    {
     "name": "stdout",
     "output_type": "stream",
     "text": [
      "5.0\n"
     ]
    }
   ],
   "source": [
    "#Example\n",
    "Find the hypotenues for 4 base and 3 perpendicular:\n",
    "import numpy as np\n",
    "base = 3\n",
    "perp = 4\n",
    "x = np.hypot(base, perp)\n",
    "print(x)"
   ]
  },
  {
   "cell_type": "markdown",
   "id": "0e6aeb39-a705-4b18-b8de-65cf339cf350",
   "metadata": {},
   "source": [
    "#Hyperbolic Functions\n",
    "NumPy provides the ufuncs sinh(), cosh() and tanh() that take values in radians and produce the \n",
    "corresponding sinh, cosh and tanh values..\n",
    "#Finding Angles\r\n",
    "Finding angles from values of hyperbolic sine, cos, tan. E.g. sinh, cosh and tanh inverse (arcsinh, arccosh, arctanh).\n",
    "\r\n",
    "Numpy provides ufuncs arcsinh(), arccosh() and arctanh() that produce radian values for corresponding sinh, cosh and tanh values given."
   ]
  },
  {
   "cell_type": "code",
   "execution_count": 47,
   "id": "fd34efc0-f2b4-4947-aa30-defafd40a82c",
   "metadata": {},
   "outputs": [
    {
     "name": "stdout",
     "output_type": "stream",
     "text": [
      "2.3012989023072947\n"
     ]
    }
   ],
   "source": [
    "#ExampleGet your own Python Server\n",
    "Find sinh value of PI/2:\n",
    "import numpy as np\n",
    "x = np.sinh(np.pi/2)\n",
    "print(x)"
   ]
  },
  {
   "cell_type": "code",
   "execution_count": 48,
   "id": "a2981180-5d95-43bf-a7a3-296ded0ac67b",
   "metadata": {},
   "outputs": [
    {
     "name": "stdout",
     "output_type": "stream",
     "text": [
      "[2.50917848 1.60028686 1.32460909 1.20397209]\n"
     ]
    }
   ],
   "source": [
    "#Example\n",
    "Find cosh values for all of the values in arr:\n",
    "import numpy as np\n",
    "arr = np.array([np.pi/2, np.pi/3, np.pi/4, np.pi/5])\n",
    "x = np.cosh(arr)\n",
    "print(x)"
   ]
  },
  {
   "cell_type": "code",
   "execution_count": 49,
   "id": "9446e759-882b-4395-a88d-07feec296253",
   "metadata": {},
   "outputs": [
    {
     "name": "stdout",
     "output_type": "stream",
     "text": [
      "0.881373587019543\n"
     ]
    }
   ],
   "source": [
    "#Example\n",
    "Find the angle of 1.0:\n",
    "import numpy as np\n",
    "x = np.arcsinh(1.0)\n",
    "print(x)"
   ]
  },
  {
   "cell_type": "code",
   "execution_count": 50,
   "id": "ec813243-8687-467e-bee5-c9b6db1a6d2e",
   "metadata": {},
   "outputs": [
    {
     "name": "stdout",
     "output_type": "stream",
     "text": [
      "[0.10033535 0.20273255 0.54930614]\n"
     ]
    }
   ],
   "source": [
    "#Example\n",
    "Find the angle for all of the tanh values in array:\n",
    "import numpy as np\n",
    "arr = np.array([0.1, 0.2, 0.5])\n",
    "x = np.arctanh(arr)\n",
    "print(x)"
   ]
  },
  {
   "cell_type": "markdown",
   "id": "976318dc-113d-41a0-b601-5714be074e74",
   "metadata": {},
   "source": [
    "#What is a Set\n",
    "A set in mathematics is a collection of unique elements.\n",
    "Sets are used for operations involving frequent intersection, union and difference operations.\n",
    "Create Sets in NumPy\n",
    "We can use NumPy's unique() method to find unique elements from any array. E.g. create a set array, \n",
    "but remember that the set arrays should only be 1-D arrays.\n",
    "#Finding Union\r\n",
    "To find the unique values of two arrays, use the union1d() method\n",
    "#Finding Intersection\r\n",
    "To find only the values that are present in both arrays, use the intersect1d() method\n",
    "Note: the intersect1d() method takes an optional argument assume_unique, which if set to True can speed up computation. It should always be set to True when dealing with sets.\r",
    "#\r\n",
    "Finding Difference\r\n",
    "To find only the values in the first set that is NOT present in the seconds set, use the setdiff1d() meth\n",
    "Note: the setdiff1d() method takes an optional argument assume_unique, which if set to True can speed up computation. It should always be set to True when dealing with sets.\r",
    "#\r\n",
    "Finding Symmetric Difference\r\n",
    "To find only the values that are NOT present in BOTH sets, use the setxor1d() meth\n",
    "#Note: the setxor1d() method takes an optional argument assume_unique, which if set to True can speed up computation. It should always be set to True when dealing with sets.od.od..."
   ]
  },
  {
   "cell_type": "code",
   "execution_count": 51,
   "id": "7dcf39e9-f4a2-45fd-9f2b-88314f18918a",
   "metadata": {},
   "outputs": [
    {
     "name": "stdout",
     "output_type": "stream",
     "text": [
      "[1 2 3 4 5 6 7]\n"
     ]
    }
   ],
   "source": [
    "#ExampleGet your own Python Server\n",
    "Convert following array with repeated elements to a set:\n",
    "import numpy as np\n",
    "arr = np.array([1, 1, 1, 2, 3, 4, 5, 5, 6, 7])\n",
    "x = np.unique(arr)\n",
    "print(x)"
   ]
  },
  {
   "cell_type": "code",
   "execution_count": 52,
   "id": "d0224cdb-b81c-4d21-b044-ff84281cebaf",
   "metadata": {},
   "outputs": [
    {
     "name": "stdout",
     "output_type": "stream",
     "text": [
      "[1 2 3 4 5 6]\n"
     ]
    }
   ],
   "source": [
    "#Example\n",
    "Find union of the following two set array\n",
    "import numpy as np\n",
    "arr1 = np.array([1, 2, 3, 4])\n",
    "arr2 = np.array([3, 4, 5, 6])\n",
    "newarr = np.union1d(arr1, arr2)\n",
    "print(newarr)"
   ]
  },
  {
   "cell_type": "code",
   "execution_count": 53,
   "id": "363a64d9-b7a5-418a-8398-ea4ac4ed55fd",
   "metadata": {},
   "outputs": [
    {
     "name": "stdout",
     "output_type": "stream",
     "text": [
      "[3 4]\n"
     ]
    }
   ],
   "source": [
    "#Example\n",
    "Find intersection of the following two set arrays:\n",
    "import numpy as np\n",
    "arr1 = np.array([1, 2, 3, 4])\n",
    "arr2 = np.array([3, 4, 5, 6])\n",
    "newarr = np.intersect1d(arr1, arr2, assume_unique=True)\n",
    "print(newarr)"
   ]
  },
  {
   "cell_type": "code",
   "execution_count": 54,
   "id": "bb2771ba-b4e9-4f3a-830e-bd1e94f46000",
   "metadata": {},
   "outputs": [
    {
     "name": "stdout",
     "output_type": "stream",
     "text": [
      "[1 2]\n"
     ]
    }
   ],
   "source": [
    "#Example\n",
    "Find the difference of the set1 from set2:\n",
    "import numpy as np\n",
    "set1 = np.array([1, 2, 3, 4])\n",
    "set2 = np.array([3, 4, 5, 6])\n",
    "newarr = np.setdiff1d(set1, set2, assume_unique=True)\n",
    "print(newarr)"
   ]
  },
  {
   "cell_type": "code",
   "execution_count": 55,
   "id": "5a57bb7f-e481-4edd-9225-d025a8343238",
   "metadata": {},
   "outputs": [
    {
     "name": "stdout",
     "output_type": "stream",
     "text": [
      "[1 2 5 6]\n"
     ]
    }
   ],
   "source": [
    "#Example\n",
    "Find the symmetric difference of the set1 and set2:\n",
    "import numpy as np\n",
    "set1 = np.array([1, 2, 3, 4])\n",
    "set2 = np.array([3, 4, 5, 6])\n",
    "newarr = np.setxor1d(set1, set2, assume_unique=True)\n",
    "print(newarr)"
   ]
  },
  {
   "cell_type": "code",
   "execution_count": null,
   "id": "015dda1b-431e-424e-b050-e16edda3072f",
   "metadata": {},
   "outputs": [],
   "source": []
  }
 ],
 "metadata": {
  "kernelspec": {
   "display_name": "Python 3 (ipykernel)",
   "language": "python",
   "name": "python3"
  },
  "language_info": {
   "codemirror_mode": {
    "name": "ipython",
    "version": 3
   },
   "file_extension": ".py",
   "mimetype": "text/x-python",
   "name": "python",
   "nbconvert_exporter": "python",
   "pygments_lexer": "ipython3",
   "version": "3.11.7"
  }
 },
 "nbformat": 4,
 "nbformat_minor": 5
}
