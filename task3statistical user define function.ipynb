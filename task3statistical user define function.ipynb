{
 "cells": [
  {
   "cell_type": "markdown",
   "id": "c06cd98e-a60c-458c-ae20-13a965d9e892",
   "metadata": {},
   "source": [
    "#1. Mean"
   ]
  },
  {
   "cell_type": "code",
   "execution_count": 7,
   "id": "cbd8b9d2-b081-4ae7-989d-e4aa991301cb",
   "metadata": {},
   "outputs": [
    {
     "name": "stdout",
     "output_type": "stream",
     "text": [
      "Mean: 3.0\n"
     ]
    }
   ],
   "source": [
    "def mean(data):\n",
    "    return sum(data) / len(data)\n",
    "\n",
    "# Example usage\n",
    "data = [1, 2, 3, 4, 5]\n",
    "print(\"Mean:\", mean(data))  # Output: Mean: 3.0"
   ]
  },
  {
   "cell_type": "markdown",
   "id": "f3b48e56-6dbc-4575-9deb-4c4613e297f2",
   "metadata": {},
   "source": [
    "2. Median"
   ]
  },
  {
   "cell_type": "code",
   "execution_count": 8,
   "id": "5085b017-4db3-40fb-835d-9e8abcc1c7bb",
   "metadata": {},
   "outputs": [
    {
     "name": "stdout",
     "output_type": "stream",
     "text": [
      "Median: 3\n"
     ]
    }
   ],
   "source": [
    "def median(data):\n",
    "    sorted_data = sorted(data)\n",
    "    n = len(sorted_data)\n",
    "    mid = n // 2\n",
    "    if n % 2 == 0:\n",
    "        return (sorted_data[mid - 1] + sorted_data[mid]) / 2\n",
    "    else:\n",
    "        return sorted_data[mid]\n",
    "\n",
    "# Example usage\n",
    "data = [1, 2, 3, 4, 5]\n",
    "print(\"Median:\", median(data))  # Output: Median: 3"
   ]
  },
  {
   "cell_type": "markdown",
   "id": "92ab208e-b395-41f1-8b33-8e9d071e499a",
   "metadata": {},
   "source": [
    "3. Mode"
   ]
  },
  {
   "cell_type": "code",
   "execution_count": 9,
   "id": "2d4526a6-7efa-4e94-9ebd-ed9ceddc65c0",
   "metadata": {},
   "outputs": [
    {
     "name": "stdout",
     "output_type": "stream",
     "text": [
      "Mode: [4]\n"
     ]
    }
   ],
   "source": [
    "from collections import Counter\n",
    "\n",
    "def mode(data):\n",
    "    count = Counter(data)\n",
    "    max_count = max(count.values())\n",
    "    modes = [k for k, v in count.items() if v == max_count]\n",
    "    return modes\n",
    "\n",
    "# Example usage\n",
    "data = [1, 1, 2, 3, 4, 4, 4, 5]\n",
    "print(\"Mode:\", mode(data))  # Output: Mode: [4]"
   ]
  },
  {
   "cell_type": "code",
   "execution_count": null,
   "id": "5ea2d7fd-e414-4b85-aee0-1894f019a06a",
   "metadata": {},
   "outputs": [],
   "source": [
    "4. Variance"
   ]
  },
  {
   "cell_type": "code",
   "execution_count": 11,
   "id": "f663d422-e36c-4102-80e5-a3946d983f2a",
   "metadata": {},
   "outputs": [
    {
     "name": "stdout",
     "output_type": "stream",
     "text": [
      "Variance: 2.0\n"
     ]
    }
   ],
   "source": [
    "def variance(data):\n",
    "    m = mean(data)\n",
    "    return sum((x - m) ** 2 for x in data) / len(data)\n",
    "\n",
    "# Example usage\n",
    "data = [1, 2, 3, 4, 5]\n",
    "print(\"Variance:\", variance(data))  # Output: Variance: 2.0"
   ]
  },
  {
   "cell_type": "code",
   "execution_count": null,
   "id": "d403cb98-0b80-47d7-b8db-216b828ac773",
   "metadata": {},
   "outputs": [],
   "source": [
    "5. Standard Deviation"
   ]
  },
  {
   "cell_type": "code",
   "execution_count": 14,
   "id": "74ed2215-ec4c-42c4-82df-302d49e364e7",
   "metadata": {},
   "outputs": [
    {
     "name": "stdout",
     "output_type": "stream",
     "text": [
      "Standard Deviation: 1.4142135623730951\n"
     ]
    }
   ],
   "source": [
    "import math\n",
    "\n",
    "def standard_deviation(data):\n",
    "    return math.sqrt(variance(data))\n",
    "\n",
    "# Example usage\n",
    "data = [1, 2, 3, 4, 5]\n",
    "print(\"Standard Deviation:\", standard_deviation(data))  # Output: Standard Deviation: 1.4142135623730951"
   ]
  },
  {
   "cell_type": "code",
   "execution_count": null,
   "id": "8e64321f-7005-4711-88fa-a993edb6f685",
   "metadata": {},
   "outputs": [],
   "source": [
    "6. Percentile"
   ]
  },
  {
   "cell_type": "code",
   "execution_count": 15,
   "id": "510f7591-f30c-405f-8193-8eb3ab8a6bfb",
   "metadata": {},
   "outputs": [
    {
     "name": "stdout",
     "output_type": "stream",
     "text": [
      "90th Percentile: 4.6\n"
     ]
    }
   ],
   "source": [
    "def percentile(data, percentile_rank):\n",
    "    size = len(data)\n",
    "    sorted_data = sorted(data)\n",
    "    index = (size - 1) * percentile_rank / 100\n",
    "    floor_index = math.floor(index)\n",
    "    ceil_index = math.ceil(index)\n",
    "    if floor_index == ceil_index:\n",
    "        return sorted_data[int(index)]\n",
    "    return sorted_data[floor_index] * (ceil_index - index) + sorted_data[ceil_index] * (index - floor_index)\n",
    "\n",
    "# Example usage\n",
    "data = [1, 2, 3, 4, 5]\n",
    "print(\"90th Percentile:\", percentile(data, 90))  # Output: 90th Percentile: 4.6"
   ]
  },
  {
   "cell_type": "code",
   "execution_count": null,
   "id": "fba31a63-cdd4-4c3c-bde1-75e16f03e6c7",
   "metadata": {},
   "outputs": [],
   "source": [
    "7. Range"
   ]
  },
  {
   "cell_type": "code",
   "execution_count": 17,
   "id": "6856641f-ce8c-4855-b08f-15a7b97add57",
   "metadata": {},
   "outputs": [
    {
     "name": "stdout",
     "output_type": "stream",
     "text": [
      "Range: 4\n"
     ]
    }
   ],
   "source": [
    "def data_range(data):\n",
    "    return max(data) - min(data)\n",
    "\n",
    "# Example usage\n",
    "data = [1, 2, 3, 4, 5]\n",
    "print(\"Range:\", data_range(data))  # Output: Range: 4"
   ]
  },
  {
   "cell_type": "code",
   "execution_count": null,
   "id": "e2fde0b2-be91-4f2a-827f-379921e9558a",
   "metadata": {},
   "outputs": [],
   "source": [
    "8. Interquartile Range (IQR)"
   ]
  },
  {
   "cell_type": "code",
   "execution_count": 18,
   "id": "edd35666-18d0-4694-af35-557f8f105eec",
   "metadata": {},
   "outputs": [
    {
     "name": "stdout",
     "output_type": "stream",
     "text": [
      "Interquartile Range (IQR): 4.5\n"
     ]
    }
   ],
   "source": [
    "def interquartile_range(data):\n",
    "    q1 = percentile(data, 25)\n",
    "    q3 = percentile(data, 75)\n",
    "    return q3 - q1\n",
    "\n",
    "# Example usage\n",
    "data = [1, 2, 3, 4, 5, 6, 7, 8, 9, 10]\n",
    "print(\"Interquartile Range (IQR):\", interquartile_range(data))  # Output: Interquartile Range (IQR): 5.0"
   ]
  },
  {
   "cell_type": "code",
   "execution_count": null,
   "id": "f60bb3ed-ec26-4f64-9096-e0544efbd81d",
   "metadata": {},
   "outputs": [],
   "source": [
    "9. Covariance"
   ]
  },
  {
   "cell_type": "code",
   "execution_count": 21,
   "id": "540720ce-2fa8-411f-912a-ad67004f15c9",
   "metadata": {},
   "outputs": [
    {
     "name": "stdout",
     "output_type": "stream",
     "text": [
      "Covariance: 2.0\n"
     ]
    }
   ],
   "source": [
    "def covariance(data1, data2):\n",
    "    if len(data1) != len(data2):\n",
    "        raise ValueError(\"Data sets must have the same length\")\n",
    "    mean1 = mean(data1)\n",
    "    mean2 = mean(data2)\n",
    "    return sum((x - mean1) * (y - mean2) for x, y in zip(data1, data2)) / len(data1)\n",
    "\n",
    "# Example usage\n",
    "data1 = [1, 2, 3, 4, 5]\n",
    "data2 = [2, 3, 4, 5, 6]\n",
    "print(\"Covariance:\", covariance(data1, data2))  # Output: Covariance: 2.0"
   ]
  },
  {
   "cell_type": "code",
   "execution_count": null,
   "id": "50e2ef2a-f032-4530-aae5-0f7ef5ea216c",
   "metadata": {},
   "outputs": [],
   "source": [
    "10. Correlation Coefficient"
   ]
  },
  {
   "cell_type": "code",
   "execution_count": 22,
   "id": "e3181fc5-2cac-4a3c-aa16-a4a945fbb85c",
   "metadata": {},
   "outputs": [
    {
     "name": "stdout",
     "output_type": "stream",
     "text": [
      "Correlation Coefficient: 0.9999999999999998\n"
     ]
    }
   ],
   "source": [
    "def correlation_coefficient(data1, data2):\n",
    "    if len(data1) != len(data2):\n",
    "        raise ValueError(\"Data sets must have the same length\")\n",
    "    stddev1 = standard_deviation(data1)\n",
    "    stddev2 = standard_deviation(data2)\n",
    "    cov = covariance(data1, data2)\n",
    "    return cov / (stddev1 * stddev2)\n",
    "\n",
    "# Example usage\n",
    "data1 = [1, 2, 3, 4, 5]\n",
    "data2 = [2, 3, 4, 5, 6]\n",
    "print(\"Correlation Coefficient:\", correlation_coefficient(data1, data2))  # Output: Correlation Coefficient: 1.0"
   ]
  }
 ],
 "metadata": {
  "kernelspec": {
   "display_name": "Python 3 (ipykernel)",
   "language": "python",
   "name": "python3"
  },
  "language_info": {
   "codemirror_mode": {
    "name": "ipython",
    "version": 3
   },
   "file_extension": ".py",
   "mimetype": "text/x-python",
   "name": "python",
   "nbconvert_exporter": "python",
   "pygments_lexer": "ipython3",
   "version": "3.11.7"
  }
 },
 "nbformat": 4,
 "nbformat_minor": 5
}
