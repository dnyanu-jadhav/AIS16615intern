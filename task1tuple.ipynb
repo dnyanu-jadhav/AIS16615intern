{
 "cells": [
  {
   "cell_type": "markdown",
   "id": "2f3d42f2-dc89-4880-bdce-84382045031b",
   "metadata": {},
   "source": [
    "#Tuple \n",
    "Tuple items are ordered, unchangeable, and allow duplicate values.\n",
    "Tuple items are indexed, the first item has index [0], the second item has index [1] etc.\n",
    "1)Tuple Items\r\n",
    "Tuple items are ordered, unchangeable, and allow duplicate values.\n",
    "\r\n",
    "Tuple items are indexed, the first item has index [0], the second item has index [1] et2).\r\n",
    "\r\n",
    "Ordered\r\n",
    "When we say that tuples are ordered, it means that the items have a defined order, and that order will not ch3)nge.\r\n",
    "\r\n",
    "Unchangeable\r\n",
    "Tuples are unchangeable, meaning that we cannot change, add or remove items after the tuple has been 4)reated.\r\n",
    "\r\n",
    "Allow Duplicates\r\n",
    "Since tuples are indexed, they can have items with the same value:\n"
   ]
  },
  {
   "cell_type": "code",
   "execution_count": 1,
   "id": "d4a5a64d-a961-44b7-b76e-2a126f0a2c3b",
   "metadata": {},
   "outputs": [
    {
     "name": "stdout",
     "output_type": "stream",
     "text": [
      "('apple', 'banana', 'cherry', 'apple', 'cherry')\n"
     ]
    }
   ],
   "source": [
    "thistuple = (\"apple\", \"banana\", \"cherry\", \"apple\", \"cherry\")\n",
    "print(thistuple)"
   ]
  },
  {
   "cell_type": "code",
   "execution_count": 2,
   "id": "ea500319-7a4c-4d21-bba8-7edaf9adb960",
   "metadata": {},
   "outputs": [
    {
     "name": "stdout",
     "output_type": "stream",
     "text": [
      "5\n"
     ]
    }
   ],
   "source": [
    "print(len(thistuple))"
   ]
  },
  {
   "cell_type": "code",
   "execution_count": null,
   "id": "c7392553-e783-4fc2-a543-41119676e9df",
   "metadata": {},
   "outputs": [],
   "source": [
    "print("
   ]
  },
  {
   "cell_type": "code",
   "execution_count": 3,
   "id": "93041832-ab87-4894-8a31-21a28bdd886c",
   "metadata": {},
   "outputs": [
    {
     "name": "stdout",
     "output_type": "stream",
     "text": [
      "<class 'tuple'>\n"
     ]
    }
   ],
   "source": [
    "thistuple = (\"apple\",)\n",
    "print(type(thistuple))"
   ]
  },
  {
   "cell_type": "code",
   "execution_count": 4,
   "id": "5c4852f0-0dd3-4e03-a434-e735cff17b81",
   "metadata": {},
   "outputs": [
    {
     "name": "stdout",
     "output_type": "stream",
     "text": [
      "<class 'str'>\n"
     ]
    }
   ],
   "source": [
    "#NOT a tuple\n",
    "thistuple = (\"apple\")\n",
    "print(type(thistuple))"
   ]
  },
  {
   "cell_type": "code",
   "execution_count": null,
   "id": "59b7b3dc-d890-4865-839a-472eac560155",
   "metadata": {},
   "outputs": [],
   "source": []
  }
 ],
 "metadata": {
  "kernelspec": {
   "display_name": "Python 3 (ipykernel)",
   "language": "python",
   "name": "python3"
  },
  "language_info": {
   "codemirror_mode": {
    "name": "ipython",
    "version": 3
   },
   "file_extension": ".py",
   "mimetype": "text/x-python",
   "name": "python",
   "nbconvert_exporter": "python",
   "pygments_lexer": "ipython3",
   "version": "3.11.7"
  }
 },
 "nbformat": 4,
 "nbformat_minor": 5
}
