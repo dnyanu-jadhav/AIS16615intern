{
 "cells": [
  {
   "cell_type": "markdown",
   "id": "12b858b9-8e79-4fce-a3c8-f55e4bf082e2",
   "metadata": {},
   "source": [
    "#set\r\n",
    "Sets are used to store multiple items in a single variable\n",
    "A set is a collection which is unordered, unchangeable*, and unindexed.\n",
    "Set items are unchangeable, but you can remove items and add new items.\n",
    "#Set Items\r\n",
    "Set items are unordered, unchangeable, and do not allow duplicate values.#\n",
    "\r\n",
    "Unordered\r\n",
    "Unordered means that the items in a set do not have a defined ordr.\r\n",
    "\r\n",
    "Set items can appear in a different order every time you use them, and cannot be referred to by index or#key.\r\n",
    "\r\n",
    "Unchangeable\r\n",
    "Set items are unchangeable, meaning that we cannot change the items after the set has been reated.\r\n",
    "\r\n",
    "Once a set is created, you cannot change its items, but you can remove items and add ew items.\r\n",
    "\r\n",
    "Duplicates Not Allowed\r\n",
    "Sets cannot have two items with t\n",
    "The values True and 1 are considered the same value in sets, and are treated as duplicates:\n",
    "The values False and 0 are considered the same value in sets, and are treated as duplicates:\n",
    "he same value.\n",
    "."
   ]
  },
  {
   "cell_type": "code",
   "execution_count": 1,
   "id": "ff8fea32-2c86-4bd9-bfcb-4f58d5eb13e3",
   "metadata": {},
   "outputs": [
    {
     "data": {
      "text/plain": [
       "{'alto', 'swft', 'wagonar'}"
      ]
     },
     "execution_count": 1,
     "metadata": {},
     "output_type": "execute_result"
    }
   ],
   "source": [
    "set = {\"alto\", \"wagonar\", \"swft\"}\n",
    "set"
   ]
  },
  {
   "cell_type": "code",
   "execution_count": 3,
   "id": "56a68e35-7ffd-44da-9ce5-2fce26a97193",
   "metadata": {},
   "outputs": [
    {
     "name": "stdout",
     "output_type": "stream",
     "text": [
      "{'wagonar', 'alto', 'swft'}\n"
     ]
    }
   ],
   "source": [
    "thisset = {\"alto\", \"wagonar\", \"swft\"}\n",
    "print(thisset)"
   ]
  },
  {
   "cell_type": "code",
   "execution_count": 4,
   "id": "332098b3-7fa5-4959-bc10-782877bdeba2",
   "metadata": {},
   "outputs": [
    {
     "name": "stdout",
     "output_type": "stream",
     "text": [
      "{'wagonar', 'alto', 'swft'}\n"
     ]
    }
   ],
   "source": [
    "thisset ={\"alto\", \"wagonar\", \"swft\"}\n",
    "print(thisset)"
   ]
  },
  {
   "cell_type": "code",
   "execution_count": 5,
   "id": "46ebf121-07e3-4e74-aa0b-e9d64976bab6",
   "metadata": {},
   "outputs": [
    {
     "name": "stdout",
     "output_type": "stream",
     "text": [
      "{True, 2, 'alto', 'swft', 'wagonar'}\n"
     ]
    }
   ],
   "source": [
    "thisset = {\"alto\", \"wagonar\", \"swft\", True, 1, 2}\n",
    "\n",
    "print(thisset)"
   ]
  },
  {
   "cell_type": "code",
   "execution_count": 6,
   "id": "f587822e-2dec-43db-a625-56ce9abd1c8b",
   "metadata": {},
   "outputs": [
    {
     "name": "stdout",
     "output_type": "stream",
     "text": [
      "{False, True, 'alto', 'swft', 'wagonar'}\n"
     ]
    }
   ],
   "source": [
    "thisset = {\"alto\", \"wagonar\", \"swft\", False, True, 0}\n",
    "\n",
    "print(thisset)"
   ]
  },
  {
   "cell_type": "code",
   "execution_count": 7,
   "id": "e39943f6-dce7-4ecc-b5f9-b36ee2e77831",
   "metadata": {},
   "outputs": [
    {
     "name": "stdout",
     "output_type": "stream",
     "text": [
      "3\n"
     ]
    }
   ],
   "source": [
    "thisset ={\"alto\", \"wagonar\", \"swft\"}\n",
    "\n",
    "print(len(thisset))"
   ]
  },
  {
   "cell_type": "code",
   "execution_count": 8,
   "id": "0e05f958-1258-40b5-a4b8-6ed340b2b51d",
   "metadata": {},
   "outputs": [
    {
     "name": "stdout",
     "output_type": "stream",
     "text": [
      "<class 'set'>\n"
     ]
    }
   ],
   "source": [
    "myset ={\"alto\", \"wagonar\", \"swft\"}\n",
    "print(type(myset))"
   ]
  },
  {
   "cell_type": "code",
   "execution_count": null,
   "id": "7ba89000-fba4-4668-aa70-61423df54b52",
   "metadata": {},
   "outputs": [],
   "source": [
    "#add"
   ]
  },
  {
   "cell_type": "code",
   "execution_count": 11,
   "id": "a7b10c87-4b31-437f-a1a1-8e84ae3a778a",
   "metadata": {},
   "outputs": [
    {
     "name": "stdout",
     "output_type": "stream",
     "text": [
      "{'wagonar', 'notebook', 'alto', 'swft'}\n"
     ]
    }
   ],
   "source": [
    "thisset={\"alto\", \"wagonar\", \"swft\"}\n",
    "thisset.add(\"notebook\")\n",
    "print(thisset)\n"
   ]
  },
  {
   "cell_type": "code",
   "execution_count": 13,
   "id": "976f9021-bf39-4b49-b9d4-0f1eb3ca9313",
   "metadata": {},
   "outputs": [
    {
     "name": "stdout",
     "output_type": "stream",
     "text": [
      "{'notebook', 'alto', 'wagonar', 'BMW', 'swft'}\n"
     ]
    }
   ],
   "source": [
    "set={\"alto\", \"wagonar\", \"swft\"}\n",
    "mylist=[\"notebook\",\"BMW\"]\n",
    "set.update(mylist)\n",
    "print(set)\n"
   ]
  },
  {
   "cell_type": "code",
   "execution_count": null,
   "id": "af59a85e-cf88-4396-8a32-36823b2a8c25",
   "metadata": {},
   "outputs": [],
   "source": [
    "#remove"
   ]
  },
  {
   "cell_type": "code",
   "execution_count": 14,
   "id": "cddbdd6b-81cc-4571-b373-c60ea062b8e3",
   "metadata": {},
   "outputs": [
    {
     "name": "stdout",
     "output_type": "stream",
     "text": [
      "{'wagonar', 'swft'}\n"
     ]
    }
   ],
   "source": [
    "set={\"alto\", \"wagonar\", \"swft\"}\n",
    "set.remove(\"alto\")\n",
    "print(set)\n"
   ]
  }
 ],
 "metadata": {
  "kernelspec": {
   "display_name": "Python 3 (ipykernel)",
   "language": "python",
   "name": "python3"
  },
  "language_info": {
   "codemirror_mode": {
    "name": "ipython",
    "version": 3
   },
   "file_extension": ".py",
   "mimetype": "text/x-python",
   "name": "python",
   "nbconvert_exporter": "python",
   "pygments_lexer": "ipython3",
   "version": "3.11.7"
  }
 },
 "nbformat": 4,
 "nbformat_minor": 5
}
