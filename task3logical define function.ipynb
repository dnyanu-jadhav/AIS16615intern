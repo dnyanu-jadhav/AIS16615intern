{
 "cells": [
  {
   "cell_type": "markdown",
   "id": "9c6cbfc8-bc34-4415-8b4e-fe3ace888742",
   "metadata": {},
   "source": [
    "# Logical user define function"
   ]
  },
  {
   "cell_type": "code",
   "execution_count": null,
   "id": "e4d67d22-5465-4430-810c-1793fbb54269",
   "metadata": {},
   "outputs": [],
   "source": [
    "1. is_even"
   ]
  },
  {
   "cell_type": "code",
   "execution_count": 1,
   "id": "93cace88-9660-45dc-98c1-71a43be5e3f7",
   "metadata": {},
   "outputs": [
    {
     "name": "stdout",
     "output_type": "stream",
     "text": [
      "Is 4 even? True\n",
      "Is 5 even? False\n"
     ]
    }
   ],
   "source": [
    "def is_even(number):\n",
    "    return number % 2 == 0\n",
    "\n",
    "# Example usage\n",
    "print(\"Is 4 even?\", is_even(4))  # Output: Is 4 even? True\n",
    "print(\"Is 5 even?\", is_even(5))  # Output: Is 5 even? False"
   ]
  },
  {
   "cell_type": "code",
   "execution_count": null,
   "id": "365013f5-5b57-4e13-b24b-dbc35ea8c0a2",
   "metadata": {},
   "outputs": [],
   "source": [
    "2. is_odd"
   ]
  },
  {
   "cell_type": "code",
   "execution_count": 2,
   "id": "b8b36abc-7f53-49dd-9852-711e6245d631",
   "metadata": {},
   "outputs": [
    {
     "name": "stdout",
     "output_type": "stream",
     "text": [
      "Is 4 odd? False\n",
      "Is 5 odd? True\n"
     ]
    }
   ],
   "source": [
    "def is_odd(number):\n",
    "    return number % 2 != 0\n",
    "\n",
    "# Example usage\n",
    "print(\"Is 4 odd?\", is_odd(4))  # Output: Is 4 odd? False\n",
    "print(\"Is 5 odd?\", is_odd(5))  # Output: Is 5 odd? True"
   ]
  },
  {
   "cell_type": "code",
   "execution_count": null,
   "id": "d97101e4-5c0f-4e18-ad48-6ee429d36042",
   "metadata": {},
   "outputs": [],
   "source": [
    "3. is_prime"
   ]
  },
  {
   "cell_type": "code",
   "execution_count": 3,
   "id": "19d24ab4-f9ab-4a2b-9a22-76f747b8e654",
   "metadata": {},
   "outputs": [
    {
     "name": "stdout",
     "output_type": "stream",
     "text": [
      "Is 4 prime? False\n",
      "Is 5 prime? True\n"
     ]
    }
   ],
   "source": [
    "def is_prime(number):\n",
    "    if number <= 1:\n",
    "        return False\n",
    "    for i in range(2, int(number ** 0.5) + 1):\n",
    "        if number % i == 0:\n",
    "            return False\n",
    "    return True\n",
    "\n",
    "# Example usage\n",
    "print(\"Is 4 prime?\", is_prime(4))  # Output: Is 4 prime? False\n",
    "print(\"Is 5 prime?\", is_prime(5))  # Output: Is 5 prime? True"
   ]
  },
  {
   "cell_type": "code",
   "execution_count": null,
   "id": "3507a80c-3cce-4726-97a8-b898e534cf98",
   "metadata": {},
   "outputs": [],
   "source": [
    "4. is_palindrome"
   ]
  },
  {
   "cell_type": "code",
   "execution_count": 4,
   "id": "3f17f8ea-ff34-4a4d-ba66-e297a8a3fdfe",
   "metadata": {},
   "outputs": [
    {
     "name": "stdout",
     "output_type": "stream",
     "text": [
      "Is 'radar' a palindrome? True\n",
      "Is 'hello' a palindrome? False\n"
     ]
    }
   ],
   "source": [
    "def is_palindrome(s):\n",
    "    return s == s[::-1]\n",
    "\n",
    "# Example usage\n",
    "print(\"Is 'radar' a palindrome?\", is_palindrome('radar'))  # Output: Is 'radar' a palindrome? True\n",
    "print(\"Is 'hello' a palindrome?\", is_palindrome('hello'))  # Output: Is 'hello' a palindrome? False"
   ]
  },
  {
   "cell_type": "code",
   "execution_count": null,
   "id": "cd147d67-2a08-4d90-b664-09c4bf9346d3",
   "metadata": {},
   "outputs": [],
   "source": [
    "5. is_anagram"
   ]
  },
  {
   "cell_type": "code",
   "execution_count": 5,
   "id": "8dd64b80-99e4-4d1e-9d04-6d54667284d5",
   "metadata": {},
   "outputs": [
    {
     "name": "stdout",
     "output_type": "stream",
     "text": [
      "Are 'listen' and 'silent' anagrams? True\n",
      "Are 'hello' and 'world' anagrams? False\n"
     ]
    }
   ],
   "source": [
    "def is_anagram(s1, s2):\n",
    "    return sorted(s1) == sorted(s2)\n",
    "\n",
    "# Example usage\n",
    "print(\"Are 'listen' and 'silent' anagrams?\", is_anagram('listen', 'silent'))  # Output: Are 'listen' and 'silent' anagrams? True\n",
    "print(\"Are 'hello' and 'world' anagrams?\", is_anagram('hello', 'world'))  # Output: Are 'hello' and 'world' anagrams? False"
   ]
  },
  {
   "cell_type": "code",
   "execution_count": null,
   "id": "d86e998a-0769-4ff9-9241-8398ec326b05",
   "metadata": {},
   "outputs": [],
   "source": [
    "6. is_subset"
   ]
  },
  {
   "cell_type": "code",
   "execution_count": 6,
   "id": "b0f5b9c0-98d5-47be-91b6-9a61cf3f251f",
   "metadata": {},
   "outputs": [
    {
     "name": "stdout",
     "output_type": "stream",
     "text": [
      "Is set1 a subset of set2? True\n"
     ]
    }
   ],
   "source": [
    "def is_subset(set1, set2):\n",
    "    return set1.issubset(set2)\n",
    "\n",
    "# Example usage\n",
    "set1 = {1, 2, 3}\n",
    "set2 = {1, 2, 3, 4, 5}\n",
    "print(\"Is set1 a subset of set2?\", is_subset(set1, set2))  # Output: Is set1 a subset of set2? True"
   ]
  },
  {
   "cell_type": "code",
   "execution_count": null,
   "id": "e40e56f4-35d3-4972-b517-56a91c01523a",
   "metadata": {},
   "outputs": [],
   "source": [
    "7. is_superset"
   ]
  },
  {
   "cell_type": "code",
   "execution_count": 7,
   "id": "c9df7fa2-0f28-4718-b225-651fc2773968",
   "metadata": {},
   "outputs": [
    {
     "name": "stdout",
     "output_type": "stream",
     "text": [
      "Is set1 a superset of set2? True\n"
     ]
    }
   ],
   "source": [
    "def is_superset(set1, set2):\n",
    "    return set1.issuperset(set2)\n",
    "\n",
    "# Example usage\n",
    "set1 = {1, 2, 3, 4, 5}\n",
    "set2 = {1, 2, 3}\n",
    "print(\"Is set1 a superset of set2?\", is_superset(set1, set2))  # Output: Is set1 a superset of set2? True"
   ]
  },
  {
   "cell_type": "code",
   "execution_count": null,
   "id": "1942cf86-92d9-44f1-a1f3-f0a8d4071e77",
   "metadata": {},
   "outputs": [],
   "source": [
    "8. are_disjoint"
   ]
  },
  {
   "cell_type": "code",
   "execution_count": 8,
   "id": "0d6ab732-1771-4f58-a659-5011a7ac94f5",
   "metadata": {},
   "outputs": [
    {
     "name": "stdout",
     "output_type": "stream",
     "text": [
      "Are set1 and set2 disjoint? True\n"
     ]
    }
   ],
   "source": [
    "def are_disjoint(set1, set2):\n",
    "    return set1.isdisjoint(set2)\n",
    "\n",
    "# Example usage\n",
    "set1 = {1, 2, 3}\n",
    "set2 = {4, 5, 6}\n",
    "print(\"Are set1 and set2 disjoint?\", are_disjoint(set1, set2))  # Output: Are set1 and set2 disjoint? True"
   ]
  },
  {
   "cell_type": "code",
   "execution_count": null,
   "id": "25a16567-d9ca-410c-908a-4927f967ff0b",
   "metadata": {},
   "outputs": [],
   "source": [
    "9. are_equal"
   ]
  },
  {
   "cell_type": "code",
   "execution_count": 9,
   "id": "5e5279f5-a61e-4d9d-862c-90c90737baf9",
   "metadata": {},
   "outputs": [
    {
     "name": "stdout",
     "output_type": "stream",
     "text": [
      "Are list1 and list2 equal? True\n",
      "Are list1 and list3 equal? False\n"
     ]
    }
   ],
   "source": [
    "def are_equal(list1, list2):\n",
    "    return list1 == list2\n",
    "\n",
    "# Example usage\n",
    "list1 = [1, 2, 3]\n",
    "list2 = [1, 2, 3]\n",
    "list3 = [3, 2, 1]\n",
    "print(\"Are list1 and list2 equal?\", are_equal(list1, list2))  # Output: Are list1 and list2 equal? True\n",
    "print(\"Are list1 and list3 equal?\", are_equal(list1, list3))  # Output: Are list1 and list3 equal? False"
   ]
  },
  {
   "cell_type": "code",
   "execution_count": null,
   "id": "77fefe61-68b4-4404-87fb-374c0053e2b2",
   "metadata": {},
   "outputs": [],
   "source": [
    "10. is_sorted"
   ]
  },
  {
   "cell_type": "code",
   "execution_count": 10,
   "id": "3bf9b52a-0d07-46ea-9384-a68bb6e26fcc",
   "metadata": {},
   "outputs": [
    {
     "name": "stdout",
     "output_type": "stream",
     "text": [
      "Is list1 sorted? True\n",
      "Is list2 sorted? False\n"
     ]
    }
   ],
   "source": [
    "def is_sorted(lst):\n",
    "    return lst == sorted(lst)\n",
    "\n",
    "# Example usage\n",
    "list1 = [1, 2, 3, 4, 5]\n",
    "list2 = [5, 3, 1, 2, 4]\n",
    "print(\"Is list1 sorted?\", is_sorted(list1))  # Output: Is list1 sorted? True\n",
    "print(\"Is list2 sorted?\", is_sorted(list2))  # Output: Is list2 sorted? False"
   ]
  }
 ],
 "metadata": {
  "kernelspec": {
   "display_name": "Python 3 (ipykernel)",
   "language": "python",
   "name": "python3"
  },
  "language_info": {
   "codemirror_mode": {
    "name": "ipython",
    "version": 3
   },
   "file_extension": ".py",
   "mimetype": "text/x-python",
   "name": "python",
   "nbconvert_exporter": "python",
   "pygments_lexer": "ipython3",
   "version": "3.11.7"
  }
 },
 "nbformat": 4,
 "nbformat_minor": 5
}
