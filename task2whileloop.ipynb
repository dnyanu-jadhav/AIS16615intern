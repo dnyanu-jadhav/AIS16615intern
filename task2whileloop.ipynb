{
 "cells": [
  {
   "cell_type": "markdown",
   "id": "34992285-d3ff-4224-a274-67b207e72c4f",
   "metadata": {},
   "source": [
    "The while Loop\n",
    "With the while loop we can execute a set of statements as long as a condition is true.\n",
    "he while loop requires relevant variables to be ready, in this example we need to define an indexing variable, \n",
    "i, which we set to 1."
   ]
  },
  {
   "cell_type": "code",
   "execution_count": 1,
   "id": "5d88880e-8563-49da-a935-f9a8ee914ce9",
   "metadata": {},
   "outputs": [
    {
     "name": "stdout",
     "output_type": "stream",
     "text": [
      "1\n",
      "2\n",
      "3\n",
      "4\n",
      "5\n"
     ]
    }
   ],
   "source": [
    "1)i = 1\n",
    "while i < 6:\n",
    "  print(i)\n",
    "  i += 1"
   ]
  },
  {
   "cell_type": "code",
   "execution_count": 2,
   "id": "6d82a2b7-1063-4fd4-94de-bbfabcdc3068",
   "metadata": {},
   "outputs": [
    {
     "name": "stdout",
     "output_type": "stream",
     "text": [
      "1\n",
      "2\n",
      "3\n"
     ]
    }
   ],
   "source": [
    "2)i = 1\n",
    "while i < 6:\n",
    "  print(i)\n",
    "  if i == 3:\n",
    "    break\n",
    "  i += 1\n"
   ]
  },
  {
   "cell_type": "code",
   "execution_count": 3,
   "id": "51e809b7-8780-4cd3-8f37-f4595907cd14",
   "metadata": {},
   "outputs": [
    {
     "name": "stdout",
     "output_type": "stream",
     "text": [
      "1\n",
      "2\n",
      "4\n",
      "5\n",
      "6\n"
     ]
    }
   ],
   "source": [
    "3)i = 0\n",
    "while i < 6:\n",
    "  i += 1\n",
    "  if i == 3:\n",
    "    continue\n",
    "  print(i)"
   ]
  },
  {
   "cell_type": "code",
   "execution_count": 4,
   "id": "bc2a7245-b96b-49be-95e3-fa771304340b",
   "metadata": {},
   "outputs": [
    {
     "name": "stdout",
     "output_type": "stream",
     "text": [
      "1\n",
      "2\n",
      "3\n",
      "4\n",
      "5\n",
      "i is no longer less than 6\n"
     ]
    }
   ],
   "source": [
    "4)i = 1\n",
    "while i < 6:\n",
    "  print(i)\n",
    "  i += 1\n",
    "else:\n",
    "  print(\"i is no longer less than 6\")"
   ]
  },
  {
   "cell_type": "code",
   "execution_count": 5,
   "id": "ae17364e-ea66-4b1b-b941-7ceec32ab46a",
   "metadata": {},
   "outputs": [
    {
     "name": "stdout",
     "output_type": "stream",
     "text": [
      "1\n",
      "2\n",
      "3\n",
      "4\n",
      "5\n"
     ]
    }
   ],
   "source": [
    "5)count = 1\n",
    "while count <= 5:\n",
    "    print(count)\n",
    "    count += 1"
   ]
  },
  {
   "cell_type": "code",
   "execution_count": 6,
   "id": "e1ce1ab6-2ab4-4caa-90cc-0b0e2cb5a8f3",
   "metadata": {},
   "outputs": [
    {
     "name": "stdout",
     "output_type": "stream",
     "text": [
      "0\n",
      "1\n",
      "1\n",
      "2\n",
      "3\n",
      "5\n",
      "8\n",
      "13\n",
      "21\n",
      "34\n"
     ]
    }
   ],
   "source": [
    "6)a, b = 0, 1\n",
    "count = 0\n",
    "while count < 10:\n",
    "    print(a)\n",
    "    a, b = b, a + b\n",
    "    count += 1"
   ]
  },
  {
   "cell_type": "code",
   "execution_count": null,
   "id": "947442f4-148e-4eaa-aa13-7aff79bc0ac0",
   "metadata": {},
   "outputs": [],
   "source": [
    "7)number = 5\n",
    "factorial = 1\n",
    "count = 1\n",
    "while count <= number:\n",
    "    factorial *= count\n",
    "    count += 1\n",
    "print(\"Factorial:\", factorial)"
   ]
  },
  {
   "cell_type": "code",
   "execution_count": null,
   "id": "62029b2b-56b2-4fcf-a5f8-a00bdc1ce0c9",
   "metadata": {},
   "outputs": [],
   "source": [
    "8)user_input = \"\"\n",
    "while user_input.lower() != \"exit\":\n",
    "    user_input = input(\"Enter something (type 'exit' to quit): \")\n",
    "    print(\"You entered:\", user_input)"
   ]
  },
  {
   "cell_type": "code",
   "execution_count": null,
   "id": "bdb218d2-66a0-48fd-9782-e02542201669",
   "metadata": {},
   "outputs": [],
   "source": [
    "9)number = 2\n",
    "while number <= 20:\n",
    "    print(number)\n",
    "    number += 2"
   ]
  },
  {
   "cell_type": "code",
   "execution_count": null,
   "id": "8467b130-843d-4525-90b9-70889132b0fa",
   "metadata": {},
   "outputs": [],
   "source": [
    "10)count = 1\n",
    "total = 0\n",
    "while count <= 10:\n",
    "    total += count\n",
    "    count += 1\n",
    "print(\"Sum:\", total)"
   ]
  }
 ],
 "metadata": {
  "kernelspec": {
   "display_name": "Python 3 (ipykernel)",
   "language": "python",
   "name": "python3"
  },
  "language_info": {
   "codemirror_mode": {
    "name": "ipython",
    "version": 3
   },
   "file_extension": ".py",
   "mimetype": "text/x-python",
   "name": "python",
   "nbconvert_exporter": "python",
   "pygments_lexer": "ipython3",
   "version": "3.11.7"
  }
 },
 "nbformat": 4,
 "nbformat_minor": 5
}
