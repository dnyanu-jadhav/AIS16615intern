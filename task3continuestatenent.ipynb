{
 "cells": [
  {
   "cell_type": "markdown",
   "id": "43eb5f8f-342f-4500-9569-6b23e52bec37",
   "metadata": {},
   "source": [
    "#Continue statement\n",
    "The continue statement in Python is used to skip the rest of the code inside a loop for the current iteration and jump to the beginning of the next iteration. This statement is helpful when you want to skip certain conditions within a loop but still continue with the remaining iterations.\n",
    "Purpose: To skip the rest of the code inside the loop for the current iteration and move to the next iteration.\n",
    "Usage: Commonly used when certain conditions are met, and you want to bypass the rest of the loop body for that iteration.\n",
    "Behavior: Skips the current iteration and proceeds to the next iteration of the loop."
   ]
  },
  {
   "cell_type": "code",
   "execution_count": 1,
   "id": "e4c3fe9c-7810-457d-a122-0ea0a6a0689c",
   "metadata": {},
   "outputs": [
    {
     "name": "stdout",
     "output_type": "stream",
     "text": [
      "1\n",
      "3\n",
      "5\n",
      "7\n",
      "9\n"
     ]
    }
   ],
   "source": [
    "for i in range(10):\n",
    "    if i % 2 == 0:\n",
    "        continue\n",
    "    print(i)"
   ]
  },
  {
   "cell_type": "code",
   "execution_count": 2,
   "id": "53416451-8ad5-42c8-9b41-373bc9d27ecf",
   "metadata": {},
   "outputs": [
    {
     "name": "stdout",
     "output_type": "stream",
     "text": [
      "apple\n",
      "banana\n",
      "date\n",
      "elderberry\n"
     ]
    }
   ],
   "source": [
    "fruits = [\"apple\", \"banana\", \"cherry\", \"date\", \"elderberry\"]\n",
    "for fruit in fruits:\n",
    "    if fruit == \"cherry\":\n",
    "        continue\n",
    "    print(fruit)"
   ]
  },
  {
   "cell_type": "code",
   "execution_count": 5,
   "id": "2c48560f-005e-4b22-8ffd-ce543d9e440a",
   "metadata": {},
   "outputs": [
    {
     "name": "stdout",
     "output_type": "stream",
     "text": [
      "1\n",
      "2\n",
      "3\n",
      "4\n",
      "5\n"
     ]
    }
   ],
   "source": [
    "for i in range(1, 11):\n",
    "    if i > 5:\n",
    "        continue\n",
    "    print(i)"
   ]
  }
 ],
 "metadata": {
  "kernelspec": {
   "display_name": "Python 3 (ipykernel)",
   "language": "python",
   "name": "python3"
  },
  "language_info": {
   "codemirror_mode": {
    "name": "ipython",
    "version": 3
   },
   "file_extension": ".py",
   "mimetype": "text/x-python",
   "name": "python",
   "nbconvert_exporter": "python",
   "pygments_lexer": "ipython3",
   "version": "3.11.7"
  }
 },
 "nbformat": 4,
 "nbformat_minor": 5
}
