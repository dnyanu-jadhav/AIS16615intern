{
 "cells": [
  {
   "cell_type": "markdown",
   "id": "0bef88dd-d0fb-4a49-829e-250354fa2a91",
   "metadata": {},
   "source": [
    "#Selection"
   ]
  },
  {
   "cell_type": "code",
   "execution_count": 2,
   "id": "4e775db2-b112-4a72-b645-496f92df3d4f",
   "metadata": {},
   "outputs": [
    {
     "name": "stdout",
     "output_type": "stream",
     "text": [
      "0      Alice\n",
      "1        Bob\n",
      "2    Charlie\n",
      "Name: Name, dtype: object\n"
     ]
    }
   ],
   "source": [
    "#Column Selection\n",
    "You can select columns using the column name.\n",
    "import pandas as pd\n",
    "# Sample DataFrame\n",
    "data = {\n",
    "    'Name': ['Alice', 'Bob', 'Charlie'],\n",
    "    'Age': [25, 30, 35],\n",
    "    'City': ['New York', 'San Francisco', 'Los Angeles']\n",
    "}\n",
    "df = pd.DataFrame(data)\n",
    "\n",
    "# Select a single column\n",
    "name_column = df['Name']\n",
    "print(name_column)"
   ]
  },
  {
   "cell_type": "code",
   "execution_count": 3,
   "id": "2804e656-f6bf-4e34-825e-dea6bc1fec2d",
   "metadata": {},
   "outputs": [
    {
     "name": "stdout",
     "output_type": "stream",
     "text": [
      "Name       Alice\n",
      "Age           25\n",
      "City    New York\n",
      "Name: 0, dtype: object\n",
      "    Name  Age           City\n",
      "0  Alice   25       New York\n",
      "1    Bob   30  San Francisco\n"
     ]
    }
   ],
   "source": [
    "#Row Selection\n",
    "You can select rows using the index or conditions.\n",
    "# Select multiple rows by index range\n",
    "first_two_rows = df.iloc[0:2]\n",
    "print(first_two_rows)"
   ]
  },
  {
   "cell_type": "code",
   "execution_count": 4,
   "id": "09cdb8d1-6c47-4ac2-8135-05c6182c6d28",
   "metadata": {},
   "outputs": [
    {
     "name": "stdout",
     "output_type": "stream",
     "text": [
      "      Name  Age           City\n",
      "0    Alice   25       New York\n",
      "1      Bob   30  San Francisco\n",
      "2  Charlie   35    Los Angeles\n",
      "3    David   40        Chicago\n",
      "4      Eve   45        Houston\n"
     ]
    }
   ],
   "source": [
    "#condition selection\n",
    "#Selecting Rows Based on Single Condition\n",
    "Example DataFrame\n",
    "import pandas as pd\n",
    "\n",
    "# Example DataFrame\n",
    "data = {\n",
    "    'Name': ['Alice', 'Bob', 'Charlie', 'David', 'Eve'],\n",
    "    'Age': [25, 30, 35, 40, 45],\n",
    "    'City': ['New York', 'San Francisco', 'Los Angeles', 'Chicago', 'Houston']\n",
    "}\n",
    "df = pd.DataFrame(data)\n",
    "\n",
    "print(df)"
   ]
  },
  {
   "cell_type": "code",
   "execution_count": 5,
   "id": "5d16f305-d241-4598-94ec-bf71ce399fa1",
   "metadata": {},
   "outputs": [
    {
     "name": "stdout",
     "output_type": "stream",
     "text": [
      "      Name  Age         City\n",
      "2  Charlie   35  Los Angeles\n",
      "3    David   40      Chicago\n",
      "4      Eve   45      Houston\n"
     ]
    }
   ],
   "source": [
    "#Condition on a Single Column\n",
    "# Select rows where 'Age' is greater than 30\n",
    "age_above_30 = df[df['Age'] > 30]\n",
    "print(age_above_30)"
   ]
  },
  {
   "cell_type": "code",
   "execution_count": 6,
   "id": "6691b798-4fcd-4f27-95e3-4d6ac0cb934b",
   "metadata": {},
   "outputs": [
    {
     "name": "stdout",
     "output_type": "stream",
     "text": [
      "    Name  Age      City\n",
      "0  Alice   25  New York\n"
     ]
    }
   ],
   "source": [
    "#Condition on a Single Column with Specific Value\n",
    "# Select rows where 'City' is 'New York'\n",
    "city_new_york = df[df['City'] == 'New York']\n",
    "print(city_new_york)"
   ]
  },
  {
   "cell_type": "code",
   "execution_count": null,
   "id": "7e410fb7-b7f0-4a2c-acdc-1ec18d2ce672",
   "metadata": {},
   "outputs": [],
   "source": [
    "Selecting Rows Based on Multiple Conditions\n",
    "Using & for AND Condition\n",
    "# Select rows where 'Age' is greater than 30 AND 'City' is 'Los Angeles'\n",
    "age_above_30_and_city_la = df[(df['Age'] > 30) & (df['City'] == 'Los Angeles')]\n",
    "print(age_above_30_and_city_la)"
   ]
  },
  {
   "cell_type": "code",
   "execution_count": null,
   "id": "efe2808f-5058-4f02-bab8-69976f743ed5",
   "metadata": {},
   "outputs": [],
   "source": [
    "Using | for OR Condition\n",
    "python\n",
    "Copy code\n",
    "# Select rows where 'Age' is greater than 30 OR 'City' is 'New York'\n",
    "age_above_30_or_city_ny = df[(df['Age'] > 30) | (df['City'] == 'New York')]\n",
    "print(age_above_30_or_city_ny)"
   ]
  },
  {
   "cell_type": "code",
   "execution_count": null,
   "id": "84231529-d906-4ec9-9c5a-d7d9357ffa6a",
   "metadata": {},
   "outputs": [],
   "source": [
    "#Using ~ for NOT Condition\n",
    "# Select rows where 'Age' is NOT greater than 30\n",
    "age_not_above_30 = df[~(df['Age'] > 30)]\n",
    "print(age_not_above_30)"
   ]
  },
  {
   "cell_type": "code",
   "execution_count": null,
   "id": "676eba84-8a4b-4d46-86cc-346ab549a2be",
   "metadata": {},
   "outputs": [],
   "source": [
    "#Using query() Method\n",
    "The query method allows for a more readable syntax when dealing with multiple conditions.\n",
    "\n",
    "Single Condition with query()\n",
    "# Using query to select rows where 'Age' is greater than 30\n",
    "query_age_above_30 = df.query('Age > 30')\n",
    "print(query_age_above_30)"
   ]
  },
  {
   "cell_type": "code",
   "execution_count": null,
   "id": "b43f3501-d14d-40ef-a8db-2184f5a36a62",
   "metadata": {},
   "outputs": [],
   "source": [
    "#Multiple Conditions with query()\n",
    "# Using query to select rows where 'Age' is greater than 30 AND 'City' is 'Los Angeles'\n",
    "query_age_above_30_and_city_la = df.query('Age > 30 and City == \"Los Angeles\"')\n",
    "print(query_age_above_30_and_city_la)"
   ]
  },
  {
   "cell_type": "code",
   "execution_count": null,
   "id": "fdbbcac7-6c1d-4375-b873-c394dcc891b7",
   "metadata": {},
   "outputs": [],
   "source": [
    "#Selecting Specific Columns After Filtering Rows\n",
    "# Select specific columns after filtering rows where 'Age' is greater than 30\n",
    "age_above_30_selected_cols = df[df['Age'] > 30][['Name', 'City']]\n",
    "print(age_above_30_selected_cols)"
   ]
  },
  {
   "cell_type": "code",
   "execution_count": null,
   "id": "7978917e-fd1a-416a-a72c-ee4ffebdf55e",
   "metadata": {},
   "outputs": [],
   "source": [
    "#Using .loc with Conditions\n",
    "You can also use .loc to select rows and specific columns simultaneously.\n",
    "# Using .loc to select rows where 'Age' is greater than 30 and only the 'Name' and 'City' columns\n",
    "loc_selection = df.loc[df['Age'] > 30, ['Name', 'City']]\n",
    "print(loc_selection)"
   ]
  },
  {
   "cell_type": "code",
   "execution_count": null,
   "id": "b2c8a138-e5f4-49e1-ac8d-94f7e5303052",
   "metadata": {},
   "outputs": [],
   "source": [
    "#Combining Multiple Conditions\n",
    "You can combine multiple conditions using parentheses to ensure correct order of operations.\n",
    "# Select rows where 'Age' is between 30 and 40 AND 'City' is NOT 'Chicago'\n",
    "combined_conditions = df[(df['Age'] > 30) & (df['Age'] < 40) & (df['City'] != 'Chicago')]\n",
    "print(combined_conditions)"
   ]
  },
  {
   "cell_type": "code",
   "execution_count": null,
   "id": "4da9a830-0b2f-4aa9-bcc4-6fbd358b93b8",
   "metadata": {},
   "outputs": [],
   "source": [
    "#Using .isin() for Multiple Values\n",
    "Use .isin() to filter rows based on multiple values in a column.\n",
    "# Select rows where 'City' is either 'New York' or 'Los Angeles'\n",
    "cities = ['New York', 'Los Angeles']\n",
    "city_selection = df[df['City'].isin(cities)]\n",
    "print(city_selection)"
   ]
  },
  {
   "cell_type": "code",
   "execution_count": null,
   "id": "13c7438b-b352-4814-b145-cb8a79760462",
   "metadata": {},
   "outputs": [],
   "source": [
    "#Using str.contains() for String Matching\n",
    "Use str.contains() for filtering rows based on partial string matches.\n",
    "# Select rows where 'City' contains the substring 'San'\n",
    "city_contains_san = df[df['City'].str.contains('San')]\n",
    "print(city_contains_san)"
   ]
  },
  {
   "cell_type": "code",
   "execution_count": 2,
   "id": "88d9b23d-50f6-4bb9-8319-93371bbb9139",
   "metadata": {},
   "outputs": [
    {
     "name": "stdout",
     "output_type": "stream",
     "text": [
      "      Name  Age Gender\n",
      "2  Charlie   35      M\n",
      "3    David   40      M\n"
     ]
    }
   ],
   "source": [
    "import pandas as pd\n",
    "\n",
    "# Create a sample DataFrame\n",
    "data = {'Name': ['Alice', 'Bob', 'Charlie', 'David'],\n",
    "        'Age': [25, 30, 35, 40],\n",
    "        'Gender': ['F', 'M', 'M', 'M']}\n",
    "df = pd.DataFrame(data)\n",
    "\n",
    "# Select rows where Age is greater than 30\n",
    "filtered_df = df[df['Age'] > 30]\n",
    "\n",
    "print(filtered_df)"
   ]
  },
  {
   "cell_type": "code",
   "execution_count": 3,
   "id": "b8ab6aad-3eea-4f42-9365-d7338c22a0b4",
   "metadata": {},
   "outputs": [
    {
     "name": "stdout",
     "output_type": "stream",
     "text": [
      "      Name  Age Gender\n",
      "0    Alice   25      F\n",
      "1      Bob   30      M\n",
      "2  Charlie   35      M\n",
      "3    David   40      M\n"
     ]
    }
   ],
   "source": [
    "#Adding a Column:\n",
    "You can add a new column to a DataFrame by simply assigning data to a new column name.\n",
    "import pandas as pd\n",
    "\n",
    "# Create a sample DataFrame\n",
    "data = {'Name': ['Alice', 'Bob', 'Charlie', 'David'],\n",
    "        'Age': [25, 30, 35, 40]}\n",
    "df = pd.DataFrame(data)\n",
    "\n",
    "# Add a new column 'Gender'\n",
    "df['Gender'] = ['F', 'M', 'M', 'M']\n",
    "\n",
    "print(df)"
   ]
  },
  {
   "cell_type": "code",
   "execution_count": 4,
   "id": "372880a6-fe8e-4b78-ae60-c99d76a4dbd0",
   "metadata": {},
   "outputs": [
    {
     "name": "stdout",
     "output_type": "stream",
     "text": [
      "      Name Gender\n",
      "0    Alice      F\n",
      "1      Bob      M\n",
      "2  Charlie      M\n",
      "3    David      M\n"
     ]
    }
   ],
   "source": [
    "#Deleting a Column:\n",
    "You can delete a column using the drop() method.\n",
    "# Delete the 'Age' column\n",
    "df = df.drop('Age', axis=1)\n",
    "\n",
    "print(df)"
   ]
  },
  {
   "cell_type": "code",
   "execution_count": 5,
   "id": "834a2c94-17b9-4d84-8760-05c0a442233d",
   "metadata": {},
   "outputs": [
    {
     "name": "stdout",
     "output_type": "stream",
     "text": [
      "            Name Gender\n",
      "0    Alice Smith      F\n",
      "1    Bob Johnson      M\n",
      "2  Charlie Brown      M\n",
      "3    David White      M\n"
     ]
    }
   ],
   "source": [
    "#Updating a Column:\n",
    "You can update values in an existing column using simple assignment.\n",
    "# Update the 'Name' column\n",
    "df['Name'] = ['Alice Smith', 'Bob Johnson', 'Charlie Brown', 'David White']\n",
    "\n",
    "print(df)"
   ]
  },
  {
   "cell_type": "code",
   "execution_count": 6,
   "id": "a5abf567-1833-41ca-a0f3-a939accfe46f",
   "metadata": {},
   "outputs": [
    {
     "name": "stdout",
     "output_type": "stream",
     "text": [
      "         Age\n",
      "Name        \n",
      "Alice     25\n",
      "Bob       30\n",
      "Charlie   35\n",
      "David     40\n"
     ]
    }
   ],
   "source": [
    "#Setting the Index:\n",
    "You can set the index of a DataFrame using the set_index() method.\n",
    "import pandas as pd\n",
    "\n",
    "# Create a sample DataFrame\n",
    "data = {'Name': ['Alice', 'Bob', 'Charlie', 'David'],\n",
    "        'Age': [25, 30, 35, 40]}\n",
    "df = pd.DataFrame(data)\n",
    "\n",
    "# Set the 'Name' column as the index\n",
    "df.set_index('Name', inplace=True)\n",
    "\n",
    "print(df)"
   ]
  },
  {
   "cell_type": "code",
   "execution_count": 7,
   "id": "df0e2b58-274e-4829-8ba3-3e271e642344",
   "metadata": {},
   "outputs": [
    {
     "name": "stdout",
     "output_type": "stream",
     "text": [
      "      Name  Age\n",
      "0    Alice   25\n",
      "1      Bob   30\n",
      "2  Charlie   35\n",
      "3    David   40\n"
     ]
    }
   ],
   "source": [
    "#Removing the Index:\n",
    "You can reset the index or remove it entirely using the reset_index() method.\n",
    "# Reset the index\n",
    "df.reset_index(inplace=True)\n",
    "\n",
    "print(df)"
   ]
  },
  {
   "cell_type": "code",
   "execution_count": 8,
   "id": "08be54ce-8b54-4503-9ec9-945b1dacfadf",
   "metadata": {},
   "outputs": [
    {
     "name": "stdout",
     "output_type": "stream",
     "text": [
      "      Name  Age\n",
      "0    Alice   25\n",
      "1      Bob   30\n",
      "2  Charlie   35\n",
      "3    David   40\n"
     ]
    }
   ],
   "source": [
    "#Removing the Index Entirely:\n",
    "To remove the index entirely and revert to the default integer index, you can use the reset_index() \n",
    "method with the drop parameter set to True.\n",
    "# Remove the index entirely\n",
    "df.reset_index(drop=True, inplace=True)\n",
    "\n",
    "print(df)"
   ]
  },
  {
   "cell_type": "code",
   "execution_count": 9,
   "id": "4ab20d3a-c9dc-48c8-9a41-c6a5e777f4fd",
   "metadata": {},
   "outputs": [
    {
     "name": "stdout",
     "output_type": "stream",
     "text": [
      "   A  B  A + B\n",
      "0  1  5      6\n",
      "1  2  6      8\n",
      "2  3  7     10\n",
      "3  4  8     12\n"
     ]
    }
   ],
   "source": [
    "#Addition (+):\n",
    "import pandas as pd\n",
    "\n",
    "# Create a sample DataFrame\n",
    "data = {'A': [1, 2, 3, 4],\n",
    "        'B': [5, 6, 7, 8]}\n",
    "df = pd.DataFrame(data)\n",
    "\n",
    "# Perform addition between columns 'A' and 'B'\n",
    "df['A + B'] = df['A'] + df['B']\n",
    "\n",
    "print(df)"
   ]
  },
  {
   "cell_type": "code",
   "execution_count": 10,
   "id": "dc4dc434-57e8-49f2-98e9-227dbd07872a",
   "metadata": {},
   "outputs": [
    {
     "name": "stdout",
     "output_type": "stream",
     "text": [
      "   A  B  A + B  A - B\n",
      "0  1  5      6     -4\n",
      "1  2  6      8     -4\n",
      "2  3  7     10     -4\n",
      "3  4  8     12     -4\n"
     ]
    }
   ],
   "source": [
    "#Subtraction (-):\n",
    "# Perform subtraction between columns 'A' and 'B'\n",
    "df['A - B'] = df['A'] - df['B']\n",
    "\n",
    "print(df)"
   ]
  },
  {
   "cell_type": "code",
   "execution_count": 11,
   "id": "ea63b48e-2a85-4395-bc99-8219fabf135e",
   "metadata": {},
   "outputs": [
    {
     "name": "stdout",
     "output_type": "stream",
     "text": [
      "   A  B  A + B  A - B  A * B\n",
      "0  1  5      6     -4      5\n",
      "1  2  6      8     -4     12\n",
      "2  3  7     10     -4     21\n",
      "3  4  8     12     -4     32\n"
     ]
    }
   ],
   "source": [
    "#Multiplication (*):\n",
    "# Perform multiplication between columns 'A' and 'B'\n",
    "df['A * B'] = df['A'] * df['B']\n",
    "\n",
    "print(df)"
   ]
  },
  {
   "cell_type": "code",
   "execution_count": 12,
   "id": "2c904864-d44e-4a26-a206-e120f9a09984",
   "metadata": {},
   "outputs": [
    {
     "name": "stdout",
     "output_type": "stream",
     "text": [
      "   A  B  A + B  A - B  A * B     A / B\n",
      "0  1  5      6     -4      5  0.200000\n",
      "1  2  6      8     -4     12  0.333333\n",
      "2  3  7     10     -4     21  0.428571\n",
      "3  4  8     12     -4     32  0.500000\n"
     ]
    }
   ],
   "source": [
    "#Division (/):\n",
    "# Perform division between columns 'A' and 'B'\n",
    "df['A / B'] = df['A'] / df['B']\n",
    "\n",
    "print(df)"
   ]
  }
 ],
 "metadata": {
  "kernelspec": {
   "display_name": "Python 3 (ipykernel)",
   "language": "python",
   "name": "python3"
  },
  "language_info": {
   "codemirror_mode": {
    "name": "ipython",
    "version": 3
   },
   "file_extension": ".py",
   "mimetype": "text/x-python",
   "name": "python",
   "nbconvert_exporter": "python",
   "pygments_lexer": "ipython3",
   "version": "3.11.7"
  }
 },
 "nbformat": 4,
 "nbformat_minor": 5
}
