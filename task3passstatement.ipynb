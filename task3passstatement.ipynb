{
 "cells": [
  {
   "cell_type": "markdown",
   "id": "00e9e42a-4178-4ed2-8af1-755a803b2133",
   "metadata": {},
   "source": [
    "#Pass statement\n",
    "The pass statement in Python is a null operation; it is a statement that does nothing. It is used as a placeholder in\n",
    "code blocks where a statement is syntactically required but you don't want to write any code yet. This can be useful during development when the actual implementation is not yet decided or when you want to create minimal class or function definitions.\n",
    "Usage\n",
    "Purpose: To act as a placeholder.\n",
    "Syntax: Consists of the single keyword pass.\n",
    "Common Scenarios for pass\n",
    "Function or Class Definitions: When you want to outline a structure but leave the body empty for future implementation.\n",
    "Loops: When you need a loop structure but don't want it to execute any code.\n",
    "Conditionals: When you need an if/else structure but don't want any action to be taken for one or more branches.\n"
   ]
  },
  {
   "cell_type": "code",
   "execution_count": 1,
   "id": "db4a15da-bf20-48a3-8026-1132c5f1cf67",
   "metadata": {},
   "outputs": [
    {
     "name": "stdout",
     "output_type": "stream",
     "text": [
      "0\n",
      "1\n",
      "2\n",
      "3\n",
      "4\n"
     ]
    }
   ],
   "source": [
    "for i in range(10):\n",
    "    if i<5:\n",
    "      pass\n",
    "      print(i)"
   ]
  },
  {
   "cell_type": "code",
   "execution_count": null,
   "id": "f8d19007-1cb8-4066-b46b-82600b88d170",
   "metadata": {},
   "outputs": [],
   "source": []
  },
  {
   "cell_type": "code",
   "execution_count": 11,
   "id": "bd07ef2b-86d8-4034-a619-198fbb1b65d4",
   "metadata": {},
   "outputs": [
    {
     "name": "stdout",
     "output_type": "stream",
     "text": [
      "done\n"
     ]
    }
   ],
   "source": [
    "a=33\n",
    "b=200\n",
    "pass\n",
    "if b>a:\n",
    "    print(\"done\")"
   ]
  },
  {
   "cell_type": "code",
   "execution_count": 13,
   "id": "7811d15c-c784-4d9c-8fd2-afa741da4214",
   "metadata": {},
   "outputs": [],
   "source": [
    "x = 10\n",
    "if x > 0:\n",
    "    pass\n",
    "else:\n",
    "    print(\"x is not positive\")"
   ]
  },
  {
   "cell_type": "code",
   "execution_count": 12,
   "id": "23d4e8d6-e593-433e-bad3-884ca3fd7c5e",
   "metadata": {},
   "outputs": [
    {
     "name": "stdout",
     "output_type": "stream",
     "text": [
      "fail\n",
      "fail\n",
      "19\n"
     ]
    }
   ],
   "source": [
    "m=[36,20,80,19]\n",
    "for i in m:\n",
    "    if i<35:\n",
    "      pass\n",
    "      print(\"fail\")\n",
    "print(i)\n",
    "    "
   ]
  },
  {
   "cell_type": "code",
   "execution_count": null,
   "id": "2fce453f-9047-4b7c-abfa-582edab35ee3",
   "metadata": {},
   "outputs": [],
   "source": []
  }
 ],
 "metadata": {
  "kernelspec": {
   "display_name": "Python 3 (ipykernel)",
   "language": "python",
   "name": "python3"
  },
  "language_info": {
   "codemirror_mode": {
    "name": "ipython",
    "version": 3
   },
   "file_extension": ".py",
   "mimetype": "text/x-python",
   "name": "python",
   "nbconvert_exporter": "python",
   "pygments_lexer": "ipython3",
   "version": "3.11.7"
  }
 },
 "nbformat": 4,
 "nbformat_minor": 5
}
