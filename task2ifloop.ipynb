{
 "cells": [
  {
   "cell_type": "markdown",
   "id": "cac4e564-8f10-4566-941c-d4e9b93cb4d0",
   "metadata": {},
   "source": [
    "#if Statement\n",
    "An if statement is used to check a condition ,and execute it if the condition holds true.\n",
    "Python supports the usual logical conditions from mathematics:\r",
    "\r\n",
    "Equals: a == b\r\n",
    "Not Equals: a != b\r\n",
    "Less than: a < b\r\n",
    "Less than or equal to: a <= b\r\n",
    "Greater than: a > b\r\n",
    "Greater than or equal to: a >= b\r\n",
    "These conditions can be used in several ways, most commonly in \"if statements\" andloops.\r\n",
    "\r\n",
    "An \"if statement\" is written by using the if keyword."
   ]
  },
  {
   "cell_type": "code",
   "execution_count": 4,
   "id": "3bca8117-173b-4572-8356-8bf0f812ffda",
   "metadata": {},
   "outputs": [
    {
     "name": "stdout",
     "output_type": "stream",
     "text": [
      "b is greater than a\n"
     ]
    }
   ],
   "source": [
    "1)a = 33\n",
    "b = 200\n",
    "if b > a:\n",
    "  print(\"b is greater than a\")"
   ]
  },
  {
   "cell_type": "code",
   "execution_count": 9,
   "id": "c882a25f-be33-4551-96f6-cfc04bef5296",
   "metadata": {},
   "outputs": [
    {
     "name": "stdout",
     "output_type": "stream",
     "text": [
      "a is less than b\n"
     ]
    }
   ],
   "source": [
    "2)a=50\n",
    "b=60\n",
    "if a <b:\n",
    "   print(\"a is less than b\")\n"
   ]
  },
  {
   "cell_type": "code",
   "execution_count": 11,
   "id": "be5ee50b-dbd1-401d-98b2-22c54b583bb6",
   "metadata": {},
   "outputs": [
    {
     "name": "stdout",
     "output_type": "stream",
     "text": [
      "n is Positive\n"
     ]
    }
   ],
   "source": [
    "3)n=10\n",
    "if n>0:\n",
    "    print(\"n is Positive\")\n",
    "    \n",
    "  "
   ]
  },
  {
   "cell_type": "code",
   "execution_count": 18,
   "id": "c282647b-beb7-47a9-8220-db7a41f1d497",
   "metadata": {},
   "outputs": [
    {
     "name": "stdout",
     "output_type": "stream",
     "text": [
      "n is negative\n"
     ]
    }
   ],
   "source": [
    "4)n=-4\n",
    "if n<0:\n",
    "    print(\"n is negative\")"
   ]
  },
  {
   "cell_type": "code",
   "execution_count": 20,
   "id": "b730744f-c795-4523-81b0-222a3bb2ce99",
   "metadata": {},
   "outputs": [
    {
     "name": "stdout",
     "output_type": "stream",
     "text": [
      "6 in n\n"
     ]
    }
   ],
   "source": [
    "5)n=[1,2,3,4,6,5,8]\n",
    "if 6 in n:\n",
    "    print(\"6 in n\")"
   ]
  },
  {
   "cell_type": "code",
   "execution_count": 22,
   "id": "bfd82a8b-69d5-4b04-b23e-b82ef14a2a2a",
   "metadata": {},
   "outputs": [
    {
     "name": "stdout",
     "output_type": "stream",
     "text": [
      "n is even number\n"
     ]
    }
   ],
   "source": [
    "6)n=6\n",
    "if n%2==0:\n",
    "    print(\"n is even number\")"
   ]
  },
  {
   "cell_type": "code",
   "execution_count": 25,
   "id": "f2a70cf6-1e67-42a0-8527-614e5237ce9d",
   "metadata": {},
   "outputs": [
    {
     "name": "stdout",
     "output_type": "stream",
     "text": [
      "n is add\n"
     ]
    }
   ],
   "source": [
    "7)n=9\n",
    "if n%3==0:\n",
    "    print(\"n is add\")"
   ]
  },
  {
   "cell_type": "code",
   "execution_count": 26,
   "id": "7a098370-683a-4a14-b144-3357b67e334a",
   "metadata": {},
   "outputs": [
    {
     "name": "stdout",
     "output_type": "stream",
     "text": [
      "Pass\n"
     ]
    }
   ],
   "source": [
    "8)m=36\n",
    "if m>35:\n",
    "    print(\"Pass\")"
   ]
  },
  {
   "cell_type": "code",
   "execution_count": 27,
   "id": "feeb934e-395e-471b-99be-3ea1f2eea0b0",
   "metadata": {},
   "outputs": [
    {
     "name": "stdout",
     "output_type": "stream",
     "text": [
      "Fail\n"
     ]
    }
   ],
   "source": [
    "9)m=34\n",
    "if m<35:\n",
    "    print(\"Fail\")"
   ]
  },
  {
   "cell_type": "code",
   "execution_count": 30,
   "id": "17d6b506-1e7b-4215-8dd7-eb2718d38f40",
   "metadata": {},
   "outputs": [
    {
     "name": "stdout",
     "output_type": "stream",
     "text": [
      "covid Possitive\n"
     ]
    }
   ],
   "source": [
    "10)CRP=60\n",
    "if CRP>50:\n",
    "    print(\"covid Possitive\")"
   ]
  }
 ],
 "metadata": {
  "kernelspec": {
   "display_name": "Python 3 (ipykernel)",
   "language": "python",
   "name": "python3"
  },
  "language_info": {
   "codemirror_mode": {
    "name": "ipython",
    "version": 3
   },
   "file_extension": ".py",
   "mimetype": "text/x-python",
   "name": "python",
   "nbconvert_exporter": "python",
   "pygments_lexer": "ipython3",
   "version": "3.11.7"
  }
 },
 "nbformat": 4,
 "nbformat_minor": 5
}
