{
 "cells": [
  {
   "cell_type": "markdown",
   "id": "b5a41d28-129a-4f4c-bff2-c6036d23be55",
   "metadata": {},
   "source": [
    "#Pandas library:\n",
    "Pandas is a Python library.\r",
    "\r\n",
    "Pandas is used to analyze data#Load a CSV file into a Pandas DataFrame:a.\n",
    ".\n",
    "import pandas as pd\n",
    "df = pd.read_csv('data.csv')\n",
    "print(df.to_string(#What is Pandas?\r\n",
    "Pandas is a Python library used for working with data sets.\n",
    "\r\n",
    "It has functions for analyzing, cleaning, exploring, and manipulating dat.\r\n",
    "\r\n",
    "The name \"Pandas\" has a reference to both \"Panel Data\", and \"Python Data Analysis\" and was created by Wes McKinney in \n",
    "#Why Use Pandas\r\n",
    "Pandas allows us to analyze big data and make conclusions based on statistical theories.\n",
    "\r\n",
    "Pandas can clean messy data sets, and make them readable and relevan.\r\n",
    "\r\n",
    "Relevant data is very important in data sci\n",
    "#Data Science: is a branch of computer science where we study how to store, use and analyze data for deriving information from it.e#What Can Pandas Do?\r\n",
    "Pandas gives you answers about the data. Like:\n",
    "\r\n",
    "Is there a correlation between two or more columns?\r\n",
    "What is average value?\r\n",
    "Max value?\r\n",
    "Min value?\r\n",
    "Pandas are also able to delete rows that are not relevant, or contains wrong values, like empty or NULL values. This is called cleaning th\n",
    "#Installation of Pandas\r\n",
    "If you have Python and PIP already installed on a system, then installation of Pandas is very easy.\n",
    "\r\n",
    "Install it using this comman:\r\n",
    "\r\n",
    "C:\\Users\\Your Name>pip install pandas\r\n",
    "If this command fails, then use a python distribution that already has Pandas installed like, Anaconda, Spyder#Import Pandas\r\n",
    "Once Pandas is installed, import it in your applications by adding the import keyword:var)\r\n",
    " etc.\r\n",
    "\r\n",
    "\n",
    "e data.\r\n",
    "\r\n",
    "nce.2008.\r\n",
    "\r\n",
    ")\n",
    ") "
   ]
  },
  {
   "cell_type": "code",
   "execution_count": 3,
   "id": "48955f67-e3dc-4792-98e3-551f71605275",
   "metadata": {},
   "outputs": [
    {
     "name": "stdout",
     "output_type": "stream",
     "text": [
      "    cars  passings\n",
      "0    BMW         3\n",
      "1  Volvo         7\n",
      "2   Ford         2\n"
     ]
    }
   ],
   "source": [
    "import pandas\n",
    "\n",
    "mydataset = {\n",
    "  'cars': [\"BMW\", \"Volvo\", \"Ford\"],\n",
    "  'passings': [3, 7, 2]\n",
    "}\n",
    "\n",
    "myvar = pandas.DataFrame(mydataset)\n",
    "\n",
    "print(myvar)\n"
   ]
  },
  {
   "cell_type": "markdown",
   "id": "fac4b79a-34be-4536-8245-994026ed367c",
   "metadata": {},
   "source": [
    "#Pandas Series:\n",
    "A Pandas Series is like a column in a table.\r",
    "\r\n",
    "It is a one-dimensional array holding data of any typ\n",
    "#Labels\r\n",
    "If nothing else is specified, the values are labeled with their index number. First value has index 0, second value has index 1 etc.\n",
    "\r\n",
    "This label can be used to access a specified val\n",
    "#create labels\r\n",
    "With the index argument, you can name your own labels\n",
    "#key/values objects as series\r\n",
    "You can also use a key/value object, like a dictionary, when creating a Series\n",
    "#Note: The keys of the dictionary become the labels.\r",
    "\r\n",
    "To select only some of the items in the dictionary, use the index argument and specify only the items you want to include in the Serie...ue.e.\n"
   ]
  },
  {
   "cell_type": "code",
   "execution_count": 4,
   "id": "b5a72096-a395-409e-ab05-a8e9c038c5ae",
   "metadata": {},
   "outputs": [
    {
     "name": "stdout",
     "output_type": "stream",
     "text": [
      "0    1\n",
      "1    7\n",
      "2    2\n",
      "dtype: int64\n"
     ]
    }
   ],
   "source": [
    "#ExampleGet your own Python Server\n",
    "Create a simple Pandas Series from a list:\n",
    "import pandas as pd\n",
    "a = [1, 7, 2]\n",
    "myvar = pd.Series(a)\n",
    "print(myvar)"
   ]
  },
  {
   "cell_type": "code",
   "execution_count": 5,
   "id": "512b3662-174c-4c15-83ac-9d64c16b5b43",
   "metadata": {},
   "outputs": [
    {
     "name": "stdout",
     "output_type": "stream",
     "text": [
      "x    1\n",
      "y    7\n",
      "z    2\n",
      "dtype: int64\n"
     ]
    }
   ],
   "source": [
    "#Example\n",
    "Create your own labels:\n",
    "import pandas as pd\n",
    "a = [1, 7, 2]\n",
    "myvar = pd.Series(a, index = [\"x\", \"y\", \"z\"])\n",
    "print(myvar)"
   ]
  },
  {
   "cell_type": "code",
   "execution_count": 6,
   "id": "f0c7ca88-82a9-4353-9d0e-424b8160164e",
   "metadata": {},
   "outputs": [
    {
     "name": "stdout",
     "output_type": "stream",
     "text": [
      "day1    420\n",
      "day2    380\n",
      "day3    390\n",
      "dtype: int64\n"
     ]
    }
   ],
   "source": [
    "#Example\n",
    "Create a simple Pandas Series from a dictionary:\n",
    "import pandas as pd\n",
    "calories = {\"day1\": 420, \"day2\": 380, \"day3\": 390}\n",
    "myvar = pd.Series(calories)\n",
    "print(myvar)"
   ]
  },
  {
   "cell_type": "code",
   "execution_count": 7,
   "id": "0d649ee4-cc6b-4308-a785-21e9dabb9584",
   "metadata": {},
   "outputs": [
    {
     "name": "stdout",
     "output_type": "stream",
     "text": [
      "day1    420\n",
      "day2    380\n",
      "dtype: int64\n"
     ]
    }
   ],
   "source": [
    "#Example\n",
    "Create a Series using only data from \"day1\" and \"day2\":\n",
    "import pandas as pd\n",
    "calories = {\"day1\": 420, \"day2\": 380, \"day3\": 390}\n",
    "myvar = pd.Series(calories, index = [\"day1\", \"day2\"])\n",
    "print(myvar)"
   ]
  },
  {
   "cell_type": "code",
   "execution_count": null,
   "id": "15f3c453-9d19-4b7d-b2e5-8bf97312cb07",
   "metadata": {},
   "outputs": [],
   "source": []
  }
 ],
 "metadata": {
  "kernelspec": {
   "display_name": "Python 3 (ipykernel)",
   "language": "python",
   "name": "python3"
  },
  "language_info": {
   "codemirror_mode": {
    "name": "ipython",
    "version": 3
   },
   "file_extension": ".py",
   "mimetype": "text/x-python",
   "name": "python",
   "nbconvert_exporter": "python",
   "pygments_lexer": "ipython3",
   "version": "3.11.7"
  }
 },
 "nbformat": 4,
 "nbformat_minor": 5
}
